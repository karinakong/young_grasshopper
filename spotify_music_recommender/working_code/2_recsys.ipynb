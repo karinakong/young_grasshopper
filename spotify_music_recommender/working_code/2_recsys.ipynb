{
 "cells": [
  {
   "cell_type": "markdown",
   "id": "c732d7ee-1350-444f-a61e-da86670ab15f",
   "metadata": {
    "tags": []
   },
   "source": [
    "# Spotify Music Recommender System Part 2"
   ]
  },
  {
   "cell_type": "markdown",
   "id": "194a5358-7d01-4cae-bbd1-4ce6fd89694f",
   "metadata": {},
   "source": [
    "## 1. Import Libraries"
   ]
  },
  {
   "cell_type": "code",
   "execution_count": 1,
   "id": "4fe62deb-460d-463c-9395-12bb82611c4c",
   "metadata": {},
   "outputs": [
    {
     "name": "stderr",
     "output_type": "stream",
     "text": [
      "/var/folders/8z/79m40r1d0xlgt3j50lw991x40000gn/T/ipykernel_64014/259965485.py:15: TqdmDeprecationWarning: This function will be removed in tqdm==5.0.0\n",
      "Please use `tqdm.notebook.*` instead of `tqdm._tqdm_notebook.*`\n",
      "  from tqdm._tqdm_notebook import tqdm_notebook\n"
     ]
    }
   ],
   "source": [
    "import pandas as pd\n",
    "import numpy as np\n",
    "import matplotlib.pyplot as plt\n",
    "import seaborn as sns\n",
    "import random\n",
    "from key import cid, secret\n",
    "\n",
    "from sklearn.preprocessing import MinMaxScaler, OneHotEncoder\n",
    "from sklearn.feature_extraction.text import TfidfVectorizer\n",
    "\n",
    "import spotipy\n",
    "from spotipy.oauth2 import SpotifyOAuth, SpotifyClientCredentials\n",
    "\n",
    "import pinecone\n",
    "from tqdm._tqdm_notebook import tqdm_notebook"
   ]
  },
  {
   "cell_type": "markdown",
   "id": "b557efa3-1a3b-44e0-8bfe-a2d773893194",
   "metadata": {},
   "source": [
    "## 2. Read Data\n",
    "\n",
    "Let's get the merged and cleaned data from the previous notebook."
   ]
  },
  {
   "cell_type": "code",
   "execution_count": 2,
   "id": "26aed718-5330-4fb1-a537-e75c2810797c",
   "metadata": {},
   "outputs": [],
   "source": [
    "all_song_ft = pd.read_pickle(\"../data/all_song_ft.pkl\")\n",
    "final_song_ft = pd.read_pickle(\"../data/final_song_ft.pkl\")"
   ]
  },
  {
   "cell_type": "code",
   "execution_count": 3,
   "id": "7b78df70-cbec-4896-83d1-0485cf4e8892",
   "metadata": {},
   "outputs": [
    {
     "data": {
      "text/plain": [
       "(450000, 2408)"
      ]
     },
     "metadata": {},
     "output_type": "display_data"
    },
    {
     "data": {
      "text/html": [
       "<div>\n",
       "<style scoped>\n",
       "    .dataframe tbody tr th:only-of-type {\n",
       "        vertical-align: middle;\n",
       "    }\n",
       "\n",
       "    .dataframe tbody tr th {\n",
       "        vertical-align: top;\n",
       "    }\n",
       "\n",
       "    .dataframe thead th {\n",
       "        text-align: right;\n",
       "    }\n",
       "</style>\n",
       "<table border=\"1\" class=\"dataframe\">\n",
       "  <thead>\n",
       "    <tr style=\"text-align: right;\">\n",
       "      <th></th>\n",
       "      <th>track_id</th>\n",
       "      <th>track_popularity</th>\n",
       "      <th>danceability</th>\n",
       "      <th>energy</th>\n",
       "      <th>key</th>\n",
       "      <th>loudness</th>\n",
       "      <th>mode</th>\n",
       "      <th>speechiness</th>\n",
       "      <th>acousticness</th>\n",
       "      <th>instrumentalness</th>\n",
       "      <th>...</th>\n",
       "      <th>zikir</th>\n",
       "      <th>zillertal</th>\n",
       "      <th>zim</th>\n",
       "      <th>zither</th>\n",
       "      <th>zolo</th>\n",
       "      <th>zouglou</th>\n",
       "      <th>zouk</th>\n",
       "      <th>zuliana</th>\n",
       "      <th>zurich</th>\n",
       "      <th>zydeco</th>\n",
       "    </tr>\n",
       "  </thead>\n",
       "  <tbody>\n",
       "    <tr>\n",
       "      <th>0</th>\n",
       "      <td>1qFqi7NahjuFxGV3H2FNmb</td>\n",
       "      <td>0.16</td>\n",
       "      <td>0.468214</td>\n",
       "      <td>0.337</td>\n",
       "      <td>0.454545</td>\n",
       "      <td>0.740103</td>\n",
       "      <td>1.0</td>\n",
       "      <td>0.052317</td>\n",
       "      <td>0.696787</td>\n",
       "      <td>0.000000</td>\n",
       "      <td>...</td>\n",
       "      <td>0.0</td>\n",
       "      <td>0.0</td>\n",
       "      <td>0.0</td>\n",
       "      <td>0.0</td>\n",
       "      <td>0.0</td>\n",
       "      <td>0.0</td>\n",
       "      <td>0.0</td>\n",
       "      <td>0.0</td>\n",
       "      <td>0.0</td>\n",
       "      <td>0.0</td>\n",
       "    </tr>\n",
       "    <tr>\n",
       "      <th>1</th>\n",
       "      <td>4iUxT3nhVmAsUj7Jm5ZeJy</td>\n",
       "      <td>0.19</td>\n",
       "      <td>0.162462</td>\n",
       "      <td>0.267</td>\n",
       "      <td>0.818182</td>\n",
       "      <td>0.663011</td>\n",
       "      <td>1.0</td>\n",
       "      <td>0.038620</td>\n",
       "      <td>0.928715</td>\n",
       "      <td>0.979000</td>\n",
       "      <td>...</td>\n",
       "      <td>0.0</td>\n",
       "      <td>0.0</td>\n",
       "      <td>0.0</td>\n",
       "      <td>0.0</td>\n",
       "      <td>0.0</td>\n",
       "      <td>0.0</td>\n",
       "      <td>0.0</td>\n",
       "      <td>0.0</td>\n",
       "      <td>0.0</td>\n",
       "      <td>0.0</td>\n",
       "    </tr>\n",
       "    <tr>\n",
       "      <th>2</th>\n",
       "      <td>18Gd6vSbxKS4mrEvjz14oS</td>\n",
       "      <td>0.15</td>\n",
       "      <td>0.383451</td>\n",
       "      <td>0.297</td>\n",
       "      <td>0.181818</td>\n",
       "      <td>0.667875</td>\n",
       "      <td>0.0</td>\n",
       "      <td>0.033368</td>\n",
       "      <td>0.392570</td>\n",
       "      <td>0.000012</td>\n",
       "      <td>...</td>\n",
       "      <td>0.0</td>\n",
       "      <td>0.0</td>\n",
       "      <td>0.0</td>\n",
       "      <td>0.0</td>\n",
       "      <td>0.0</td>\n",
       "      <td>0.0</td>\n",
       "      <td>0.0</td>\n",
       "      <td>0.0</td>\n",
       "      <td>0.0</td>\n",
       "      <td>0.0</td>\n",
       "    </tr>\n",
       "    <tr>\n",
       "      <th>3</th>\n",
       "      <td>32QnXosZq7A11knnBAEqk7</td>\n",
       "      <td>0.59</td>\n",
       "      <td>0.717457</td>\n",
       "      <td>0.315</td>\n",
       "      <td>0.000000</td>\n",
       "      <td>0.746283</td>\n",
       "      <td>1.0</td>\n",
       "      <td>0.035015</td>\n",
       "      <td>0.744980</td>\n",
       "      <td>0.000000</td>\n",
       "      <td>...</td>\n",
       "      <td>0.0</td>\n",
       "      <td>0.0</td>\n",
       "      <td>0.0</td>\n",
       "      <td>0.0</td>\n",
       "      <td>0.0</td>\n",
       "      <td>0.0</td>\n",
       "      <td>0.0</td>\n",
       "      <td>0.0</td>\n",
       "      <td>0.0</td>\n",
       "      <td>0.0</td>\n",
       "    </tr>\n",
       "    <tr>\n",
       "      <th>4</th>\n",
       "      <td>0JBjiB2QZSYPVUEnUmSroj</td>\n",
       "      <td>0.38</td>\n",
       "      <td>0.507568</td>\n",
       "      <td>0.928</td>\n",
       "      <td>0.000000</td>\n",
       "      <td>0.835934</td>\n",
       "      <td>1.0</td>\n",
       "      <td>0.032750</td>\n",
       "      <td>0.002912</td>\n",
       "      <td>0.000010</td>\n",
       "      <td>...</td>\n",
       "      <td>0.0</td>\n",
       "      <td>0.0</td>\n",
       "      <td>0.0</td>\n",
       "      <td>0.0</td>\n",
       "      <td>0.0</td>\n",
       "      <td>0.0</td>\n",
       "      <td>0.0</td>\n",
       "      <td>0.0</td>\n",
       "      <td>0.0</td>\n",
       "      <td>0.0</td>\n",
       "    </tr>\n",
       "  </tbody>\n",
       "</table>\n",
       "<p>5 rows × 2408 columns</p>\n",
       "</div>"
      ],
      "text/plain": [
       "                 track_id  track_popularity  danceability  energy       key  \\\n",
       "0  1qFqi7NahjuFxGV3H2FNmb              0.16      0.468214   0.337  0.454545   \n",
       "1  4iUxT3nhVmAsUj7Jm5ZeJy              0.19      0.162462   0.267  0.818182   \n",
       "2  18Gd6vSbxKS4mrEvjz14oS              0.15      0.383451   0.297  0.181818   \n",
       "3  32QnXosZq7A11knnBAEqk7              0.59      0.717457   0.315  0.000000   \n",
       "4  0JBjiB2QZSYPVUEnUmSroj              0.38      0.507568   0.928  0.000000   \n",
       "\n",
       "   loudness  mode  speechiness  acousticness  instrumentalness  ...  zikir  \\\n",
       "0  0.740103   1.0     0.052317      0.696787          0.000000  ...    0.0   \n",
       "1  0.663011   1.0     0.038620      0.928715          0.979000  ...    0.0   \n",
       "2  0.667875   0.0     0.033368      0.392570          0.000012  ...    0.0   \n",
       "3  0.746283   1.0     0.035015      0.744980          0.000000  ...    0.0   \n",
       "4  0.835934   1.0     0.032750      0.002912          0.000010  ...    0.0   \n",
       "\n",
       "   zillertal  zim  zither  zolo  zouglou  zouk  zuliana  zurich  zydeco  \n",
       "0        0.0  0.0     0.0   0.0      0.0   0.0      0.0     0.0     0.0  \n",
       "1        0.0  0.0     0.0   0.0      0.0   0.0      0.0     0.0     0.0  \n",
       "2        0.0  0.0     0.0   0.0      0.0   0.0      0.0     0.0     0.0  \n",
       "3        0.0  0.0     0.0   0.0      0.0   0.0      0.0     0.0     0.0  \n",
       "4        0.0  0.0     0.0   0.0      0.0   0.0      0.0     0.0     0.0  \n",
       "\n",
       "[5 rows x 2408 columns]"
      ]
     },
     "execution_count": 3,
     "metadata": {},
     "output_type": "execute_result"
    }
   ],
   "source": [
    "display(final_song_ft.shape)\n",
    "final_song_ft.head()"
   ]
  },
  {
   "cell_type": "markdown",
   "id": "0de496df-c8a1-4ec8-8131-70b4d666862e",
   "metadata": {},
   "source": [
    "## 5. Create User Music Taste Vector \n",
    "\n",
    "In this section, we create a user vector based on a given Spotify playlist in order to find similar songs to recommend. In order to get this user vector, we need a Spotify playlist URL, find the songs in this playlist using the Spotify API and create a vector for the songs in the playlist **that are also in our database**."
   ]
  },
  {
   "cell_type": "code",
   "execution_count": 4,
   "id": "4ac3f552-1dd5-4e14-a959-4d8aca503657",
   "metadata": {},
   "outputs": [],
   "source": [
    "# Connect to Spotify API\n",
    "client_credentials_manager = SpotifyClientCredentials(client_id=cid, client_secret=secret)\n",
    "sp = spotipy.Spotify(client_credentials_manager=client_credentials_manager)"
   ]
  },
  {
   "cell_type": "code",
   "execution_count": 5,
   "id": "61e230fe-8eb7-4e90-9dee-98e4f5ae65fa",
   "metadata": {},
   "outputs": [],
   "source": [
    "# Each 'item' in 'items' is a track, each track is a dictionary\n",
    "song_lst = sp.playlist_tracks('https://open.spotify.com/playlist/3URf6gpqnl83P7A28iHfTf?si=e78625adf8fa42a9')['items']"
   ]
  },
  {
   "cell_type": "code",
   "execution_count": 6,
   "id": "26e137f7-a3ea-4c14-b887-a77645027537",
   "metadata": {},
   "outputs": [
    {
     "data": {
      "text/plain": [
       "'3m7IYU7ySuFMwdm7OCShQN'"
      ]
     },
     "execution_count": 6,
     "metadata": {},
     "output_type": "execute_result"
    }
   ],
   "source": [
    "song_lst[0]['track']['id']"
   ]
  },
  {
   "cell_type": "code",
   "execution_count": 7,
   "id": "08a78dd6-7352-4261-8744-9c8ef94d1609",
   "metadata": {},
   "outputs": [],
   "source": [
    "# Define a function that takes in a list of dict where each dict is a song that a user listened to\n",
    "# and returns a summarized vector for the songs that exist in the original Spotify dataset\n",
    "# song_lst = sp.playlist_tracks(<playlist_url>)['items']\n",
    "def song_vec(song_lst):\n",
    "    # Store all track_ids in a list \n",
    "    lst = [] \n",
    "    for song in song_lst:\n",
    "        track_id = song['track']['id']\n",
    "        lst.append(track_id)\n",
    "        \n",
    "    # Create a df for all songs in the playlist that exist in the Spotify dataset     \n",
    "    song_df = all_song_ft[all_song_ft['track_id'].isin(lst)] ## should I change this to all_song_ft instead?\n",
    "    \n",
    "    # Summarize the playlist into a single vector by taking the mean of all songs in the playlist \n",
    "    playlist_vec = song_df.iloc[:, 1:].mean().tolist()\n",
    "    playlist_songids = lst\n",
    "    \n",
    "    return playlist_vec, playlist_songids"
   ]
  },
  {
   "cell_type": "code",
   "execution_count": 8,
   "id": "1ffcf867-aa31-47d8-a0d2-d5868609e1c2",
   "metadata": {},
   "outputs": [],
   "source": [
    "playlist_vec = song_vec(song_lst)[0]\n",
    "playlist_songids = song_vec(song_lst)[1]"
   ]
  },
  {
   "cell_type": "markdown",
   "id": "37bcc8d4-3156-402d-9294-79dce0083ce2",
   "metadata": {},
   "source": [
    "## 7. Set up Pinecone Database\n",
    "\n",
    "In this section, we set up the Pinecone index and upload our data to Pinecone in batches. For more information, check out Pinecone [quickstart guide](https://www.pinecone.io/docs/quickstart/).\n",
    "\n",
    "The code that uploads the data to Pinecone has been commented out as the data only needs to be uploaded once."
   ]
  },
  {
   "cell_type": "markdown",
   "id": "405a842a-8845-432b-90ff-24200c76ca3a",
   "metadata": {},
   "source": [
    "### Initialize pinecone"
   ]
  },
  {
   "cell_type": "code",
   "execution_count": 9,
   "id": "a61f6596-95cb-4ee0-96e2-f62c0abadce9",
   "metadata": {},
   "outputs": [],
   "source": [
    "# Initialize pinecone, make sure API key works\n",
    "pinecone.init(api_key='3b9bd9d9-88f0-4911-a7e9-d589e7447fa1', \n",
    "             environment=\"us-west1-gcp\")\n",
    "index = pinecone.Index(\"spotifyv1\")"
   ]
  },
  {
   "cell_type": "code",
   "execution_count": 10,
   "id": "8b053dac-7f53-4046-bd68-50bd3a751d58",
   "metadata": {},
   "outputs": [],
   "source": [
    "# # Create new index\n",
    "# pinecone.create_index('spotifyv1', dimension=2407, metric='cosine')"
   ]
  },
  {
   "cell_type": "code",
   "execution_count": 11,
   "id": "4bcc1797-da3f-4416-902b-d9058ad9b48f",
   "metadata": {},
   "outputs": [],
   "source": [
    "# # Upload the data\n",
    "# batch_size = 100\n",
    "\n",
    "# for start_idx in tqdm_notebook(range(0, len(final_song_ft), batch_size)):\n",
    "#     ids = final_song_ft.iloc[start_idx:start_idx+batch_size-1][\"track_id\"].tolist()\n",
    "#     # vecs = final_song_ft.iloc[start_idx:start_idx+batch_size-1][\"vector\"].tolist()\n",
    "#     vecs = final_song_ft.iloc[start_idx:start_idx+batch_size-1].drop(columns=['track_id']).values.tolist()\n",
    "#     metadata = [{\"track_id\" : track_id} for track_id in final_song_ft.iloc[start_idx:start_idx+batch_size-1][\"track_id\"]]\n",
    "                    \n",
    "#     # upload\n",
    "#     index.upsert(vectors=zip(ids, vecs, metadata))"
   ]
  },
  {
   "cell_type": "code",
   "execution_count": 12,
   "id": "d9c0d852-2b2b-45c8-bf50-8a86f93dea25",
   "metadata": {},
   "outputs": [
    {
     "data": {
      "text/plain": [
       "{'dimension': 2407,\n",
       " 'index_fullness': 0.5,\n",
       " 'namespaces': {'': {'vector_count': 445508}},\n",
       " 'totalVectorCount': 445508.0}"
      ]
     },
     "execution_count": 12,
     "metadata": {},
     "output_type": "execute_result"
    }
   ],
   "source": [
    "index.describe_index_stats()"
   ]
  },
  {
   "cell_type": "markdown",
   "id": "2e3c9452-a355-4f44-bb55-639a24013605",
   "metadata": {},
   "source": [
    "## 6. Get User Recommendations\n",
    "In this section, we query the Pinecone database to get the top 15 most similar songs based on the playlist vector. After this, we've got all the building blocks for our web app!"
   ]
  },
  {
   "cell_type": "code",
   "execution_count": 13,
   "id": "de692d56-aa1b-4c64-b4d3-4312495b14cc",
   "metadata": {},
   "outputs": [
    {
     "data": {
      "text/plain": [
       "{'matches': [{'id': '1QV6tiMFM6fSOKOGLMHYYg',\n",
       "              'metadata': {'track_id': '1QV6tiMFM6fSOKOGLMHYYg'},\n",
       "              'score': 0.940154672,\n",
       "              'values': []},\n",
       "             {'id': '1pXrR5Y9OgcIV2JEAl2lCB',\n",
       "              'metadata': {'track_id': '1pXrR5Y9OgcIV2JEAl2lCB'},\n",
       "              'score': 0.939974368,\n",
       "              'values': []},\n",
       "             {'id': '0cqRj7pUJDkTCEsJkx8snD',\n",
       "              'metadata': {'track_id': '0cqRj7pUJDkTCEsJkx8snD'},\n",
       "              'score': 0.939339578,\n",
       "              'values': []},\n",
       "             {'id': '1GEBsLDvJGw7kviySRI6GX',\n",
       "              'metadata': {'track_id': '1GEBsLDvJGw7kviySRI6GX'},\n",
       "              'score': 0.937787592,\n",
       "              'values': []},\n",
       "             {'id': '1u8c2t2Cy7UBoG4ArRcF5g',\n",
       "              'metadata': {'track_id': '1u8c2t2Cy7UBoG4ArRcF5g'},\n",
       "              'score': 0.936589837,\n",
       "              'values': []},\n",
       "             {'id': '10nqz67NQWWa7XPq7ycihi',\n",
       "              'metadata': {'track_id': '10nqz67NQWWa7XPq7ycihi'},\n",
       "              'score': 0.936569333,\n",
       "              'values': []},\n",
       "             {'id': '2gnZad0pb6QtUqMLTj2AjI',\n",
       "              'metadata': {'track_id': '2gnZad0pb6QtUqMLTj2AjI'},\n",
       "              'score': 0.935836375,\n",
       "              'values': []},\n",
       "             {'id': '1I6pKIyaBp4OebTGLJpCCC',\n",
       "              'metadata': {'track_id': '1I6pKIyaBp4OebTGLJpCCC'},\n",
       "              'score': 0.934479415,\n",
       "              'values': []},\n",
       "             {'id': '3fVnlF4pGqWI9flVENcT28',\n",
       "              'metadata': {'track_id': '3fVnlF4pGqWI9flVENcT28'},\n",
       "              'score': 0.933713794,\n",
       "              'values': []},\n",
       "             {'id': '0ug5NqcwcFR2xrfTkc7k8e',\n",
       "              'metadata': {'track_id': '0ug5NqcwcFR2xrfTkc7k8e'},\n",
       "              'score': 0.933019936,\n",
       "              'values': []},\n",
       "             {'id': '0lizgQ7Qw35od7CYaoMBZb',\n",
       "              'metadata': {'track_id': '0lizgQ7Qw35od7CYaoMBZb'},\n",
       "              'score': 0.931888163,\n",
       "              'values': []},\n",
       "             {'id': '2IprIjGNRlj3TfqUWCAo0C',\n",
       "              'metadata': {'track_id': '2IprIjGNRlj3TfqUWCAo0C'},\n",
       "              'score': 0.931233943,\n",
       "              'values': []},\n",
       "             {'id': '4x7Gxk2GfwZJcqpoVT1PbR',\n",
       "              'metadata': {'track_id': '4x7Gxk2GfwZJcqpoVT1PbR'},\n",
       "              'score': 0.930299878,\n",
       "              'values': []},\n",
       "             {'id': '3HhAZV8ngUOOt4eUHovhud',\n",
       "              'metadata': {'track_id': '3HhAZV8ngUOOt4eUHovhud'},\n",
       "              'score': 0.930246115,\n",
       "              'values': []},\n",
       "             {'id': '733ncRLzZQT5UtSPg1QmPc',\n",
       "              'metadata': {'track_id': '733ncRLzZQT5UtSPg1QmPc'},\n",
       "              'score': 0.929643,\n",
       "              'values': []}],\n",
       " 'namespace': ''}"
      ]
     },
     "execution_count": 13,
     "metadata": {},
     "output_type": "execute_result"
    }
   ],
   "source": [
    "index.query(\n",
    "    vector=playlist_vec, #vector to find similar vectors for \n",
    "    top_k=15, #number of results to return \n",
    "    filter={ \n",
    "        \"track_id\" : {\"$nin\" : playlist_songids} #filter for songs that are NOT in the playlist already\n",
    "    },\n",
    "    include_metadata = True\n",
    ")"
   ]
  }
 ],
 "metadata": {
  "kernelspec": {
   "display_name": "Python 3 (ipykernel)",
   "language": "python",
   "name": "python3"
  },
  "language_info": {
   "codemirror_mode": {
    "name": "ipython",
    "version": 3
   },
   "file_extension": ".py",
   "mimetype": "text/x-python",
   "name": "python",
   "nbconvert_exporter": "python",
   "pygments_lexer": "ipython3",
   "version": "3.8.13"
  }
 },
 "nbformat": 4,
 "nbformat_minor": 5
}
