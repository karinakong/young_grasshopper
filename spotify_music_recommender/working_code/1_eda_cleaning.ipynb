{
 "cells": [
  {
   "cell_type": "markdown",
   "id": "a498635f-10a8-4869-b9bd-645310bc4647",
   "metadata": {
    "tags": []
   },
   "source": [
    "# Spotify Music Recommender System"
   ]
  },
  {
   "cell_type": "markdown",
   "id": "80b97fc2-48f8-40a8-8ae8-1593b5e5b2de",
   "metadata": {},
   "source": [
    "## 1. Import Libraries"
   ]
  },
  {
   "cell_type": "code",
   "execution_count": 1,
   "id": "a470b241-6ec4-4144-b831-574cf0bcfc09",
   "metadata": {},
   "outputs": [
    {
     "name": "stderr",
     "output_type": "stream",
     "text": [
      "/var/folders/8z/79m40r1d0xlgt3j50lw991x40000gn/T/ipykernel_19113/2212443471.py:15: TqdmDeprecationWarning: This function will be removed in tqdm==5.0.0\n",
      "Please use `tqdm.notebook.*` instead of `tqdm._tqdm_notebook.*`\n",
      "  from tqdm._tqdm_notebook import tqdm_notebook\n"
     ]
    }
   ],
   "source": [
    "import pandas as pd\n",
    "import numpy as np\n",
    "import matplotlib.pyplot as plt\n",
    "import seaborn as sns\n",
    "import random\n",
    "# import json\n",
    "\n",
    "from sklearn.preprocessing import MinMaxScaler, OneHotEncoder\n",
    "from sklearn.feature_extraction.text import TfidfVectorizer\n",
    "\n",
    "import spotipy\n",
    "from spotipy.oauth2 import SpotifyOAuth, SpotifyClientCredentials\n",
    "\n",
    "import pinecone\n",
    "from tqdm._tqdm_notebook import tqdm_notebook"
   ]
  },
  {
   "cell_type": "markdown",
   "id": "8cdc358a-4369-43fb-b303-82ad8825c19c",
   "metadata": {},
   "source": [
    "## 2. Read Data\n",
    "\n",
    "We begin by reading data from 2 files from a [Kaggle dataset](https://www.kaggle.com/datasets/yamaerenay/spotify-dataset-19212020-600k-tracks). The first file, `artists.csv`, contains ~1.16 million artists and their respective number of followers, genres and popularity scores. The second file, `tracks.csv`, contains ~600k songs and attributes of these songs. "
   ]
  },
  {
   "cell_type": "code",
   "execution_count": 2,
   "id": "4dfe2896-7684-4eb9-bf3d-66aab633bbee",
   "metadata": {},
   "outputs": [
    {
     "data": {
      "text/plain": [
       "(1162095, 5)"
      ]
     },
     "metadata": {},
     "output_type": "display_data"
    },
    {
     "data": {
      "text/html": [
       "<div>\n",
       "<style scoped>\n",
       "    .dataframe tbody tr th:only-of-type {\n",
       "        vertical-align: middle;\n",
       "    }\n",
       "\n",
       "    .dataframe tbody tr th {\n",
       "        vertical-align: top;\n",
       "    }\n",
       "\n",
       "    .dataframe thead th {\n",
       "        text-align: right;\n",
       "    }\n",
       "</style>\n",
       "<table border=\"1\" class=\"dataframe\">\n",
       "  <thead>\n",
       "    <tr style=\"text-align: right;\">\n",
       "      <th></th>\n",
       "      <th>id</th>\n",
       "      <th>followers</th>\n",
       "      <th>genres</th>\n",
       "      <th>name</th>\n",
       "      <th>popularity</th>\n",
       "    </tr>\n",
       "  </thead>\n",
       "  <tbody>\n",
       "    <tr>\n",
       "      <th>0</th>\n",
       "      <td>0DheY5irMjBUeLybbCUEZ2</td>\n",
       "      <td>0.0</td>\n",
       "      <td>[]</td>\n",
       "      <td>Armid &amp; Amir Zare Pashai feat. Sara Rouzbehani</td>\n",
       "      <td>0</td>\n",
       "    </tr>\n",
       "    <tr>\n",
       "      <th>1</th>\n",
       "      <td>0DlhY15l3wsrnlfGio2bjU</td>\n",
       "      <td>5.0</td>\n",
       "      <td>[]</td>\n",
       "      <td>ปูนา ภาวิณี</td>\n",
       "      <td>0</td>\n",
       "    </tr>\n",
       "    <tr>\n",
       "      <th>2</th>\n",
       "      <td>0DmRESX2JknGPQyO15yxg7</td>\n",
       "      <td>0.0</td>\n",
       "      <td>[]</td>\n",
       "      <td>Sadaa</td>\n",
       "      <td>0</td>\n",
       "    </tr>\n",
       "    <tr>\n",
       "      <th>3</th>\n",
       "      <td>0DmhnbHjm1qw6NCYPeZNgJ</td>\n",
       "      <td>0.0</td>\n",
       "      <td>[]</td>\n",
       "      <td>Tra'gruda</td>\n",
       "      <td>0</td>\n",
       "    </tr>\n",
       "    <tr>\n",
       "      <th>4</th>\n",
       "      <td>0Dn11fWM7vHQ3rinvWEl4E</td>\n",
       "      <td>2.0</td>\n",
       "      <td>[]</td>\n",
       "      <td>Ioannis Panoutsopoulos</td>\n",
       "      <td>0</td>\n",
       "    </tr>\n",
       "  </tbody>\n",
       "</table>\n",
       "</div>"
      ],
      "text/plain": [
       "                       id  followers genres  \\\n",
       "0  0DheY5irMjBUeLybbCUEZ2        0.0     []   \n",
       "1  0DlhY15l3wsrnlfGio2bjU        5.0     []   \n",
       "2  0DmRESX2JknGPQyO15yxg7        0.0     []   \n",
       "3  0DmhnbHjm1qw6NCYPeZNgJ        0.0     []   \n",
       "4  0Dn11fWM7vHQ3rinvWEl4E        2.0     []   \n",
       "\n",
       "                                             name  popularity  \n",
       "0  Armid & Amir Zare Pashai feat. Sara Rouzbehani           0  \n",
       "1                                     ปูนา ภาวิณี           0  \n",
       "2                                           Sadaa           0  \n",
       "3                                       Tra'gruda           0  \n",
       "4                          Ioannis Panoutsopoulos           0  "
      ]
     },
     "execution_count": 2,
     "metadata": {},
     "output_type": "execute_result"
    }
   ],
   "source": [
    "artists = pd.read_csv('./data/artists.csv')\n",
    "display(artists.shape)\n",
    "artists.head()"
   ]
  },
  {
   "cell_type": "code",
   "execution_count": 3,
   "id": "819e75cf-5e58-4eae-bdcc-b30e8c7b366d",
   "metadata": {},
   "outputs": [
    {
     "data": {
      "text/plain": [
       "(586672, 20)"
      ]
     },
     "metadata": {},
     "output_type": "display_data"
    },
    {
     "data": {
      "text/html": [
       "<div>\n",
       "<style scoped>\n",
       "    .dataframe tbody tr th:only-of-type {\n",
       "        vertical-align: middle;\n",
       "    }\n",
       "\n",
       "    .dataframe tbody tr th {\n",
       "        vertical-align: top;\n",
       "    }\n",
       "\n",
       "    .dataframe thead th {\n",
       "        text-align: right;\n",
       "    }\n",
       "</style>\n",
       "<table border=\"1\" class=\"dataframe\">\n",
       "  <thead>\n",
       "    <tr style=\"text-align: right;\">\n",
       "      <th></th>\n",
       "      <th>id</th>\n",
       "      <th>name</th>\n",
       "      <th>popularity</th>\n",
       "      <th>duration_ms</th>\n",
       "      <th>explicit</th>\n",
       "      <th>artists</th>\n",
       "      <th>id_artists</th>\n",
       "      <th>release_date</th>\n",
       "      <th>danceability</th>\n",
       "      <th>energy</th>\n",
       "      <th>key</th>\n",
       "      <th>loudness</th>\n",
       "      <th>mode</th>\n",
       "      <th>speechiness</th>\n",
       "      <th>acousticness</th>\n",
       "      <th>instrumentalness</th>\n",
       "      <th>liveness</th>\n",
       "      <th>valence</th>\n",
       "      <th>tempo</th>\n",
       "      <th>time_signature</th>\n",
       "    </tr>\n",
       "  </thead>\n",
       "  <tbody>\n",
       "    <tr>\n",
       "      <th>0</th>\n",
       "      <td>35iwgR4jXetI318WEWsa1Q</td>\n",
       "      <td>Carve</td>\n",
       "      <td>6</td>\n",
       "      <td>126903</td>\n",
       "      <td>0</td>\n",
       "      <td>['Uli']</td>\n",
       "      <td>['45tIt06XoI0Iio4LBEVpls']</td>\n",
       "      <td>1922-02-22</td>\n",
       "      <td>0.645</td>\n",
       "      <td>0.4450</td>\n",
       "      <td>0</td>\n",
       "      <td>-13.338</td>\n",
       "      <td>1</td>\n",
       "      <td>0.4510</td>\n",
       "      <td>0.674</td>\n",
       "      <td>0.7440</td>\n",
       "      <td>0.151</td>\n",
       "      <td>0.127</td>\n",
       "      <td>104.851</td>\n",
       "      <td>3</td>\n",
       "    </tr>\n",
       "    <tr>\n",
       "      <th>1</th>\n",
       "      <td>021ht4sdgPcrDgSk7JTbKY</td>\n",
       "      <td>Capítulo 2.16 - Banquero Anarquista</td>\n",
       "      <td>0</td>\n",
       "      <td>98200</td>\n",
       "      <td>0</td>\n",
       "      <td>['Fernando Pessoa']</td>\n",
       "      <td>['14jtPCOoNZwquk5wd9DxrY']</td>\n",
       "      <td>1922-06-01</td>\n",
       "      <td>0.695</td>\n",
       "      <td>0.2630</td>\n",
       "      <td>0</td>\n",
       "      <td>-22.136</td>\n",
       "      <td>1</td>\n",
       "      <td>0.9570</td>\n",
       "      <td>0.797</td>\n",
       "      <td>0.0000</td>\n",
       "      <td>0.148</td>\n",
       "      <td>0.655</td>\n",
       "      <td>102.009</td>\n",
       "      <td>1</td>\n",
       "    </tr>\n",
       "    <tr>\n",
       "      <th>2</th>\n",
       "      <td>07A5yehtSnoedViJAZkNnc</td>\n",
       "      <td>Vivo para Quererte - Remasterizado</td>\n",
       "      <td>0</td>\n",
       "      <td>181640</td>\n",
       "      <td>0</td>\n",
       "      <td>['Ignacio Corsini']</td>\n",
       "      <td>['5LiOoJbxVSAMkBS2fUm3X2']</td>\n",
       "      <td>1922-03-21</td>\n",
       "      <td>0.434</td>\n",
       "      <td>0.1770</td>\n",
       "      <td>1</td>\n",
       "      <td>-21.180</td>\n",
       "      <td>1</td>\n",
       "      <td>0.0512</td>\n",
       "      <td>0.994</td>\n",
       "      <td>0.0218</td>\n",
       "      <td>0.212</td>\n",
       "      <td>0.457</td>\n",
       "      <td>130.418</td>\n",
       "      <td>5</td>\n",
       "    </tr>\n",
       "    <tr>\n",
       "      <th>3</th>\n",
       "      <td>08FmqUhxtyLTn6pAh6bk45</td>\n",
       "      <td>El Prisionero - Remasterizado</td>\n",
       "      <td>0</td>\n",
       "      <td>176907</td>\n",
       "      <td>0</td>\n",
       "      <td>['Ignacio Corsini']</td>\n",
       "      <td>['5LiOoJbxVSAMkBS2fUm3X2']</td>\n",
       "      <td>1922-03-21</td>\n",
       "      <td>0.321</td>\n",
       "      <td>0.0946</td>\n",
       "      <td>7</td>\n",
       "      <td>-27.961</td>\n",
       "      <td>1</td>\n",
       "      <td>0.0504</td>\n",
       "      <td>0.995</td>\n",
       "      <td>0.9180</td>\n",
       "      <td>0.104</td>\n",
       "      <td>0.397</td>\n",
       "      <td>169.980</td>\n",
       "      <td>3</td>\n",
       "    </tr>\n",
       "    <tr>\n",
       "      <th>4</th>\n",
       "      <td>08y9GfoqCWfOGsKdwojr5e</td>\n",
       "      <td>Lady of the Evening</td>\n",
       "      <td>0</td>\n",
       "      <td>163080</td>\n",
       "      <td>0</td>\n",
       "      <td>['Dick Haymes']</td>\n",
       "      <td>['3BiJGZsyX9sJchTqcSA7Su']</td>\n",
       "      <td>1922</td>\n",
       "      <td>0.402</td>\n",
       "      <td>0.1580</td>\n",
       "      <td>3</td>\n",
       "      <td>-16.900</td>\n",
       "      <td>0</td>\n",
       "      <td>0.0390</td>\n",
       "      <td>0.989</td>\n",
       "      <td>0.1300</td>\n",
       "      <td>0.311</td>\n",
       "      <td>0.196</td>\n",
       "      <td>103.220</td>\n",
       "      <td>4</td>\n",
       "    </tr>\n",
       "  </tbody>\n",
       "</table>\n",
       "</div>"
      ],
      "text/plain": [
       "                       id                                 name  popularity  \\\n",
       "0  35iwgR4jXetI318WEWsa1Q                                Carve           6   \n",
       "1  021ht4sdgPcrDgSk7JTbKY  Capítulo 2.16 - Banquero Anarquista           0   \n",
       "2  07A5yehtSnoedViJAZkNnc   Vivo para Quererte - Remasterizado           0   \n",
       "3  08FmqUhxtyLTn6pAh6bk45        El Prisionero - Remasterizado           0   \n",
       "4  08y9GfoqCWfOGsKdwojr5e                  Lady of the Evening           0   \n",
       "\n",
       "   duration_ms  explicit              artists                  id_artists  \\\n",
       "0       126903         0              ['Uli']  ['45tIt06XoI0Iio4LBEVpls']   \n",
       "1        98200         0  ['Fernando Pessoa']  ['14jtPCOoNZwquk5wd9DxrY']   \n",
       "2       181640         0  ['Ignacio Corsini']  ['5LiOoJbxVSAMkBS2fUm3X2']   \n",
       "3       176907         0  ['Ignacio Corsini']  ['5LiOoJbxVSAMkBS2fUm3X2']   \n",
       "4       163080         0      ['Dick Haymes']  ['3BiJGZsyX9sJchTqcSA7Su']   \n",
       "\n",
       "  release_date  danceability  energy  key  loudness  mode  speechiness  \\\n",
       "0   1922-02-22         0.645  0.4450    0   -13.338     1       0.4510   \n",
       "1   1922-06-01         0.695  0.2630    0   -22.136     1       0.9570   \n",
       "2   1922-03-21         0.434  0.1770    1   -21.180     1       0.0512   \n",
       "3   1922-03-21         0.321  0.0946    7   -27.961     1       0.0504   \n",
       "4         1922         0.402  0.1580    3   -16.900     0       0.0390   \n",
       "\n",
       "   acousticness  instrumentalness  liveness  valence    tempo  time_signature  \n",
       "0         0.674            0.7440     0.151    0.127  104.851               3  \n",
       "1         0.797            0.0000     0.148    0.655  102.009               1  \n",
       "2         0.994            0.0218     0.212    0.457  130.418               5  \n",
       "3         0.995            0.9180     0.104    0.397  169.980               3  \n",
       "4         0.989            0.1300     0.311    0.196  103.220               4  "
      ]
     },
     "execution_count": 3,
     "metadata": {},
     "output_type": "execute_result"
    }
   ],
   "source": [
    "tracks = pd.read_csv('./data/tracks.csv')\n",
    "display(tracks.shape)\n",
    "tracks.head()"
   ]
  },
  {
   "cell_type": "code",
   "execution_count": 4,
   "id": "f1a9b5f3-308b-4475-a01d-e42e91845049",
   "metadata": {
    "jupyter": {
     "source_hidden": true
    },
    "tags": []
   },
   "outputs": [],
   "source": [
    "# # open JSON file\n",
    "# x = open('./data/dict_artists.json') # this json contains a list of recommended artists for each artist, capped at 20\n",
    "  \n",
    "# # put JSON into dictionary\n",
    "# artist_info = json.load(x)\n",
    "    \n",
    "# # Closing file\n",
    "# x.close()\n",
    "\n",
    "# artist_info"
   ]
  },
  {
   "cell_type": "markdown",
   "id": "0b4eba31-295a-4323-bf0b-f958717b992f",
   "metadata": {},
   "source": [
    "## 3. Data Cleaning and EDA"
   ]
  },
  {
   "cell_type": "markdown",
   "id": "ea2666b0-005f-45ba-aa9c-be0c935a16db",
   "metadata": {},
   "source": [
    "### Checking Data Types\n",
    "Let's make sure the data types are correct for each column!"
   ]
  },
  {
   "cell_type": "code",
   "execution_count": 5,
   "id": "c9a694f4-337d-43c9-8746-704d912a1f99",
   "metadata": {},
   "outputs": [
    {
     "name": "stdout",
     "output_type": "stream",
     "text": [
      "<class 'pandas.core.frame.DataFrame'>\n",
      "RangeIndex: 1162095 entries, 0 to 1162094\n",
      "Data columns (total 5 columns):\n",
      " #   Column      Non-Null Count    Dtype  \n",
      "---  ------      --------------    -----  \n",
      " 0   id          1162095 non-null  object \n",
      " 1   followers   1162084 non-null  float64\n",
      " 2   genres      1162095 non-null  object \n",
      " 3   name        1162095 non-null  object \n",
      " 4   popularity  1162095 non-null  int64  \n",
      "dtypes: float64(1), int64(1), object(3)\n",
      "memory usage: 44.3+ MB\n"
     ]
    }
   ],
   "source": [
    "artists.info()"
   ]
  },
  {
   "cell_type": "code",
   "execution_count": 6,
   "id": "d0f443b0-a1d9-4753-8f17-ff4e7090db5b",
   "metadata": {},
   "outputs": [
    {
     "name": "stdout",
     "output_type": "stream",
     "text": [
      "<class 'pandas.core.frame.DataFrame'>\n",
      "RangeIndex: 586672 entries, 0 to 586671\n",
      "Data columns (total 20 columns):\n",
      " #   Column            Non-Null Count   Dtype  \n",
      "---  ------            --------------   -----  \n",
      " 0   id                586672 non-null  object \n",
      " 1   name              586601 non-null  object \n",
      " 2   popularity        586672 non-null  int64  \n",
      " 3   duration_ms       586672 non-null  int64  \n",
      " 4   explicit          586672 non-null  int64  \n",
      " 5   artists           586672 non-null  object \n",
      " 6   id_artists        586672 non-null  object \n",
      " 7   release_date      586672 non-null  object \n",
      " 8   danceability      586672 non-null  float64\n",
      " 9   energy            586672 non-null  float64\n",
      " 10  key               586672 non-null  int64  \n",
      " 11  loudness          586672 non-null  float64\n",
      " 12  mode              586672 non-null  int64  \n",
      " 13  speechiness       586672 non-null  float64\n",
      " 14  acousticness      586672 non-null  float64\n",
      " 15  instrumentalness  586672 non-null  float64\n",
      " 16  liveness          586672 non-null  float64\n",
      " 17  valence           586672 non-null  float64\n",
      " 18  tempo             586672 non-null  float64\n",
      " 19  time_signature    586672 non-null  int64  \n",
      "dtypes: float64(9), int64(6), object(5)\n",
      "memory usage: 89.5+ MB\n"
     ]
    }
   ],
   "source": [
    "tracks.info()"
   ]
  },
  {
   "cell_type": "markdown",
   "id": "9cfcb780-3a37-4783-93fc-51fe2ba0094d",
   "metadata": {},
   "source": [
    "Most of the data types look correct but some fields like `genres` in the `artists` dataframe and `artists` and `id_artists` in `tracks` LOOK like lists but they are not actually Python lists. "
   ]
  },
  {
   "cell_type": "markdown",
   "id": "e7d55594-6c4a-4605-9df7-5ac8d87c1d76",
   "metadata": {},
   "source": [
    "### Correcting Data Types\n",
    "\n",
    "Let's make `genres`, `artists` and `id_artists` lists!"
   ]
  },
  {
   "cell_type": "code",
   "execution_count": 7,
   "id": "84a65e28-f289-4442-8c09-379ee517e573",
   "metadata": {},
   "outputs": [],
   "source": [
    "# Make `genres` a list of genres\n",
    "artists['genres'] = [lst.replace(\"[\", \"\").replace(\"]\", \"\").replace(\"'\", \"\").strip().split(',') for lst in artists['genres']]"
   ]
  },
  {
   "cell_type": "code",
   "execution_count": 8,
   "id": "6b3d70f2-3629-4332-a01c-23c6a99703dd",
   "metadata": {},
   "outputs": [],
   "source": [
    "# # New feature: The number of genres associated with each artist\n",
    "# artists['genre_cnt'] = [len(lst) for lst in artists['genres']]"
   ]
  },
  {
   "cell_type": "code",
   "execution_count": 9,
   "id": "fcc0e054-2a6d-4ec8-aa53-6331a4456010",
   "metadata": {},
   "outputs": [],
   "source": [
    "# Make `id_artists` a list of artist ids \n",
    "tracks['id_artists'] = [lst.replace(\"[\", \"\").replace(\"]\", \"\").replace(\"'\", \"\").strip().split(',') for lst in tracks['id_artists']]"
   ]
  },
  {
   "cell_type": "code",
   "execution_count": 10,
   "id": "211465dd-3586-4fa3-a40b-a5448db14fbb",
   "metadata": {},
   "outputs": [],
   "source": [
    "# Make `artists` a list of artists\n",
    "tracks['artists'] = [lst.replace(\"[\", \"\").replace(\"]\", \"\").replace(\"'\", \"\").strip().split(',') for lst in tracks['artists']]"
   ]
  },
  {
   "cell_type": "code",
   "execution_count": 11,
   "id": "8068781b-e3bf-464a-a32b-ba7d99cf4184",
   "metadata": {},
   "outputs": [],
   "source": [
    "# New feature: The number of artists in the song \n",
    "tracks['artist_cnt'] = [len(lst) for lst in tracks['id_artists']]"
   ]
  },
  {
   "cell_type": "markdown",
   "id": "4c9bfe57-a5f1-4a59-9377-ad4c5b0bab9a",
   "metadata": {},
   "source": [
    "Let's see what our dataframes look like now..."
   ]
  },
  {
   "cell_type": "code",
   "execution_count": 12,
   "id": "700f485a-594f-4685-bfd0-168337ea7bbc",
   "metadata": {},
   "outputs": [
    {
     "data": {
      "text/html": [
       "<div>\n",
       "<style scoped>\n",
       "    .dataframe tbody tr th:only-of-type {\n",
       "        vertical-align: middle;\n",
       "    }\n",
       "\n",
       "    .dataframe tbody tr th {\n",
       "        vertical-align: top;\n",
       "    }\n",
       "\n",
       "    .dataframe thead th {\n",
       "        text-align: right;\n",
       "    }\n",
       "</style>\n",
       "<table border=\"1\" class=\"dataframe\">\n",
       "  <thead>\n",
       "    <tr style=\"text-align: right;\">\n",
       "      <th></th>\n",
       "      <th>id</th>\n",
       "      <th>followers</th>\n",
       "      <th>genres</th>\n",
       "      <th>name</th>\n",
       "      <th>popularity</th>\n",
       "    </tr>\n",
       "  </thead>\n",
       "  <tbody>\n",
       "    <tr>\n",
       "      <th>0</th>\n",
       "      <td>0DheY5irMjBUeLybbCUEZ2</td>\n",
       "      <td>0.0</td>\n",
       "      <td>[]</td>\n",
       "      <td>Armid &amp; Amir Zare Pashai feat. Sara Rouzbehani</td>\n",
       "      <td>0</td>\n",
       "    </tr>\n",
       "    <tr>\n",
       "      <th>1</th>\n",
       "      <td>0DlhY15l3wsrnlfGio2bjU</td>\n",
       "      <td>5.0</td>\n",
       "      <td>[]</td>\n",
       "      <td>ปูนา ภาวิณี</td>\n",
       "      <td>0</td>\n",
       "    </tr>\n",
       "    <tr>\n",
       "      <th>2</th>\n",
       "      <td>0DmRESX2JknGPQyO15yxg7</td>\n",
       "      <td>0.0</td>\n",
       "      <td>[]</td>\n",
       "      <td>Sadaa</td>\n",
       "      <td>0</td>\n",
       "    </tr>\n",
       "    <tr>\n",
       "      <th>3</th>\n",
       "      <td>0DmhnbHjm1qw6NCYPeZNgJ</td>\n",
       "      <td>0.0</td>\n",
       "      <td>[]</td>\n",
       "      <td>Tra'gruda</td>\n",
       "      <td>0</td>\n",
       "    </tr>\n",
       "    <tr>\n",
       "      <th>4</th>\n",
       "      <td>0Dn11fWM7vHQ3rinvWEl4E</td>\n",
       "      <td>2.0</td>\n",
       "      <td>[]</td>\n",
       "      <td>Ioannis Panoutsopoulos</td>\n",
       "      <td>0</td>\n",
       "    </tr>\n",
       "  </tbody>\n",
       "</table>\n",
       "</div>"
      ],
      "text/plain": [
       "                       id  followers genres  \\\n",
       "0  0DheY5irMjBUeLybbCUEZ2        0.0     []   \n",
       "1  0DlhY15l3wsrnlfGio2bjU        5.0     []   \n",
       "2  0DmRESX2JknGPQyO15yxg7        0.0     []   \n",
       "3  0DmhnbHjm1qw6NCYPeZNgJ        0.0     []   \n",
       "4  0Dn11fWM7vHQ3rinvWEl4E        2.0     []   \n",
       "\n",
       "                                             name  popularity  \n",
       "0  Armid & Amir Zare Pashai feat. Sara Rouzbehani           0  \n",
       "1                                     ปูนา ภาวิณี           0  \n",
       "2                                           Sadaa           0  \n",
       "3                                       Tra'gruda           0  \n",
       "4                          Ioannis Panoutsopoulos           0  "
      ]
     },
     "execution_count": 12,
     "metadata": {},
     "output_type": "execute_result"
    }
   ],
   "source": [
    "artists.head()"
   ]
  },
  {
   "cell_type": "code",
   "execution_count": 13,
   "id": "31a5792c-a5be-40ae-839f-bbdb9d8be240",
   "metadata": {},
   "outputs": [
    {
     "data": {
      "text/html": [
       "<div>\n",
       "<style scoped>\n",
       "    .dataframe tbody tr th:only-of-type {\n",
       "        vertical-align: middle;\n",
       "    }\n",
       "\n",
       "    .dataframe tbody tr th {\n",
       "        vertical-align: top;\n",
       "    }\n",
       "\n",
       "    .dataframe thead th {\n",
       "        text-align: right;\n",
       "    }\n",
       "</style>\n",
       "<table border=\"1\" class=\"dataframe\">\n",
       "  <thead>\n",
       "    <tr style=\"text-align: right;\">\n",
       "      <th></th>\n",
       "      <th>id</th>\n",
       "      <th>name</th>\n",
       "      <th>popularity</th>\n",
       "      <th>duration_ms</th>\n",
       "      <th>explicit</th>\n",
       "      <th>artists</th>\n",
       "      <th>id_artists</th>\n",
       "      <th>release_date</th>\n",
       "      <th>danceability</th>\n",
       "      <th>energy</th>\n",
       "      <th>...</th>\n",
       "      <th>loudness</th>\n",
       "      <th>mode</th>\n",
       "      <th>speechiness</th>\n",
       "      <th>acousticness</th>\n",
       "      <th>instrumentalness</th>\n",
       "      <th>liveness</th>\n",
       "      <th>valence</th>\n",
       "      <th>tempo</th>\n",
       "      <th>time_signature</th>\n",
       "      <th>artist_cnt</th>\n",
       "    </tr>\n",
       "  </thead>\n",
       "  <tbody>\n",
       "    <tr>\n",
       "      <th>0</th>\n",
       "      <td>35iwgR4jXetI318WEWsa1Q</td>\n",
       "      <td>Carve</td>\n",
       "      <td>6</td>\n",
       "      <td>126903</td>\n",
       "      <td>0</td>\n",
       "      <td>[Uli]</td>\n",
       "      <td>[45tIt06XoI0Iio4LBEVpls]</td>\n",
       "      <td>1922-02-22</td>\n",
       "      <td>0.645</td>\n",
       "      <td>0.4450</td>\n",
       "      <td>...</td>\n",
       "      <td>-13.338</td>\n",
       "      <td>1</td>\n",
       "      <td>0.4510</td>\n",
       "      <td>0.674</td>\n",
       "      <td>0.7440</td>\n",
       "      <td>0.151</td>\n",
       "      <td>0.127</td>\n",
       "      <td>104.851</td>\n",
       "      <td>3</td>\n",
       "      <td>1</td>\n",
       "    </tr>\n",
       "    <tr>\n",
       "      <th>1</th>\n",
       "      <td>021ht4sdgPcrDgSk7JTbKY</td>\n",
       "      <td>Capítulo 2.16 - Banquero Anarquista</td>\n",
       "      <td>0</td>\n",
       "      <td>98200</td>\n",
       "      <td>0</td>\n",
       "      <td>[Fernando Pessoa]</td>\n",
       "      <td>[14jtPCOoNZwquk5wd9DxrY]</td>\n",
       "      <td>1922-06-01</td>\n",
       "      <td>0.695</td>\n",
       "      <td>0.2630</td>\n",
       "      <td>...</td>\n",
       "      <td>-22.136</td>\n",
       "      <td>1</td>\n",
       "      <td>0.9570</td>\n",
       "      <td>0.797</td>\n",
       "      <td>0.0000</td>\n",
       "      <td>0.148</td>\n",
       "      <td>0.655</td>\n",
       "      <td>102.009</td>\n",
       "      <td>1</td>\n",
       "      <td>1</td>\n",
       "    </tr>\n",
       "    <tr>\n",
       "      <th>2</th>\n",
       "      <td>07A5yehtSnoedViJAZkNnc</td>\n",
       "      <td>Vivo para Quererte - Remasterizado</td>\n",
       "      <td>0</td>\n",
       "      <td>181640</td>\n",
       "      <td>0</td>\n",
       "      <td>[Ignacio Corsini]</td>\n",
       "      <td>[5LiOoJbxVSAMkBS2fUm3X2]</td>\n",
       "      <td>1922-03-21</td>\n",
       "      <td>0.434</td>\n",
       "      <td>0.1770</td>\n",
       "      <td>...</td>\n",
       "      <td>-21.180</td>\n",
       "      <td>1</td>\n",
       "      <td>0.0512</td>\n",
       "      <td>0.994</td>\n",
       "      <td>0.0218</td>\n",
       "      <td>0.212</td>\n",
       "      <td>0.457</td>\n",
       "      <td>130.418</td>\n",
       "      <td>5</td>\n",
       "      <td>1</td>\n",
       "    </tr>\n",
       "    <tr>\n",
       "      <th>3</th>\n",
       "      <td>08FmqUhxtyLTn6pAh6bk45</td>\n",
       "      <td>El Prisionero - Remasterizado</td>\n",
       "      <td>0</td>\n",
       "      <td>176907</td>\n",
       "      <td>0</td>\n",
       "      <td>[Ignacio Corsini]</td>\n",
       "      <td>[5LiOoJbxVSAMkBS2fUm3X2]</td>\n",
       "      <td>1922-03-21</td>\n",
       "      <td>0.321</td>\n",
       "      <td>0.0946</td>\n",
       "      <td>...</td>\n",
       "      <td>-27.961</td>\n",
       "      <td>1</td>\n",
       "      <td>0.0504</td>\n",
       "      <td>0.995</td>\n",
       "      <td>0.9180</td>\n",
       "      <td>0.104</td>\n",
       "      <td>0.397</td>\n",
       "      <td>169.980</td>\n",
       "      <td>3</td>\n",
       "      <td>1</td>\n",
       "    </tr>\n",
       "    <tr>\n",
       "      <th>4</th>\n",
       "      <td>08y9GfoqCWfOGsKdwojr5e</td>\n",
       "      <td>Lady of the Evening</td>\n",
       "      <td>0</td>\n",
       "      <td>163080</td>\n",
       "      <td>0</td>\n",
       "      <td>[Dick Haymes]</td>\n",
       "      <td>[3BiJGZsyX9sJchTqcSA7Su]</td>\n",
       "      <td>1922</td>\n",
       "      <td>0.402</td>\n",
       "      <td>0.1580</td>\n",
       "      <td>...</td>\n",
       "      <td>-16.900</td>\n",
       "      <td>0</td>\n",
       "      <td>0.0390</td>\n",
       "      <td>0.989</td>\n",
       "      <td>0.1300</td>\n",
       "      <td>0.311</td>\n",
       "      <td>0.196</td>\n",
       "      <td>103.220</td>\n",
       "      <td>4</td>\n",
       "      <td>1</td>\n",
       "    </tr>\n",
       "  </tbody>\n",
       "</table>\n",
       "<p>5 rows × 21 columns</p>\n",
       "</div>"
      ],
      "text/plain": [
       "                       id                                 name  popularity  \\\n",
       "0  35iwgR4jXetI318WEWsa1Q                                Carve           6   \n",
       "1  021ht4sdgPcrDgSk7JTbKY  Capítulo 2.16 - Banquero Anarquista           0   \n",
       "2  07A5yehtSnoedViJAZkNnc   Vivo para Quererte - Remasterizado           0   \n",
       "3  08FmqUhxtyLTn6pAh6bk45        El Prisionero - Remasterizado           0   \n",
       "4  08y9GfoqCWfOGsKdwojr5e                  Lady of the Evening           0   \n",
       "\n",
       "   duration_ms  explicit            artists                id_artists  \\\n",
       "0       126903         0              [Uli]  [45tIt06XoI0Iio4LBEVpls]   \n",
       "1        98200         0  [Fernando Pessoa]  [14jtPCOoNZwquk5wd9DxrY]   \n",
       "2       181640         0  [Ignacio Corsini]  [5LiOoJbxVSAMkBS2fUm3X2]   \n",
       "3       176907         0  [Ignacio Corsini]  [5LiOoJbxVSAMkBS2fUm3X2]   \n",
       "4       163080         0      [Dick Haymes]  [3BiJGZsyX9sJchTqcSA7Su]   \n",
       "\n",
       "  release_date  danceability  energy  ...  loudness  mode  speechiness  \\\n",
       "0   1922-02-22         0.645  0.4450  ...   -13.338     1       0.4510   \n",
       "1   1922-06-01         0.695  0.2630  ...   -22.136     1       0.9570   \n",
       "2   1922-03-21         0.434  0.1770  ...   -21.180     1       0.0512   \n",
       "3   1922-03-21         0.321  0.0946  ...   -27.961     1       0.0504   \n",
       "4         1922         0.402  0.1580  ...   -16.900     0       0.0390   \n",
       "\n",
       "   acousticness  instrumentalness  liveness  valence    tempo  time_signature  \\\n",
       "0         0.674            0.7440     0.151    0.127  104.851               3   \n",
       "1         0.797            0.0000     0.148    0.655  102.009               1   \n",
       "2         0.994            0.0218     0.212    0.457  130.418               5   \n",
       "3         0.995            0.9180     0.104    0.397  169.980               3   \n",
       "4         0.989            0.1300     0.311    0.196  103.220               4   \n",
       "\n",
       "   artist_cnt  \n",
       "0           1  \n",
       "1           1  \n",
       "2           1  \n",
       "3           1  \n",
       "4           1  \n",
       "\n",
       "[5 rows x 21 columns]"
      ]
     },
     "execution_count": 13,
     "metadata": {},
     "output_type": "execute_result"
    }
   ],
   "source": [
    "tracks.head()"
   ]
  },
  {
   "cell_type": "markdown",
   "id": "0328696a-ff04-4ff3-adb2-29e131f7a87f",
   "metadata": {},
   "source": [
    "Let's check that the `genres`, `artists` and `id_artists` fields have actually been correctly converted to lists. "
   ]
  },
  {
   "cell_type": "code",
   "execution_count": 14,
   "id": "9f1b4377-32bf-43f7-a63b-7c12851f915b",
   "metadata": {},
   "outputs": [
    {
     "data": {
      "text/plain": [
       "'pinoy hip hop'"
      ]
     },
     "execution_count": 14,
     "metadata": {},
     "output_type": "execute_result"
    }
   ],
   "source": [
    "artists['genres'][200][0]"
   ]
  },
  {
   "cell_type": "code",
   "execution_count": 15,
   "id": "1c80a300-0cb6-4d32-9e45-572a7b2f78b2",
   "metadata": {},
   "outputs": [
    {
     "data": {
      "text/plain": [
       "'Fernando Pessoa'"
      ]
     },
     "execution_count": 15,
     "metadata": {},
     "output_type": "execute_result"
    }
   ],
   "source": [
    "tracks['artists'][1][0]"
   ]
  },
  {
   "cell_type": "code",
   "execution_count": 16,
   "id": "9b777183-7a2d-4aa9-b547-ead69d42e8cb",
   "metadata": {},
   "outputs": [
    {
     "data": {
      "text/plain": [
       "'14jtPCOoNZwquk5wd9DxrY'"
      ]
     },
     "execution_count": 16,
     "metadata": {},
     "output_type": "execute_result"
    }
   ],
   "source": [
    "tracks['id_artists'][1][0]"
   ]
  },
  {
   "cell_type": "markdown",
   "id": "7b41f451-4f61-48c0-9c2d-5df3068f3366",
   "metadata": {},
   "source": [
    "Yep, looks good, these columns are lists now. "
   ]
  },
  {
   "cell_type": "markdown",
   "id": "288b162e-fa2e-4558-81b6-14bc7927e901",
   "metadata": {},
   "source": [
    "### Dropping duplicate tracks\n",
    "\n",
    "There are some tracks which are duplicates which is likely because the same track can appear on multiple albums under different track ids e.g. if an album is repackaged/a deluxe version is released/a greatest hits collection is released etc. Let's drop such duplicates."
   ]
  },
  {
   "cell_type": "code",
   "execution_count": 17,
   "id": "96ead480-dcc5-4c8f-ad76-ed6d1f0ced87",
   "metadata": {},
   "outputs": [
    {
     "data": {
      "text/html": [
       "<div>\n",
       "<style scoped>\n",
       "    .dataframe tbody tr th:only-of-type {\n",
       "        vertical-align: middle;\n",
       "    }\n",
       "\n",
       "    .dataframe tbody tr th {\n",
       "        vertical-align: top;\n",
       "    }\n",
       "\n",
       "    .dataframe thead th {\n",
       "        text-align: right;\n",
       "    }\n",
       "</style>\n",
       "<table border=\"1\" class=\"dataframe\">\n",
       "  <thead>\n",
       "    <tr style=\"text-align: right;\">\n",
       "      <th></th>\n",
       "      <th>id</th>\n",
       "      <th>name</th>\n",
       "      <th>popularity</th>\n",
       "      <th>duration_ms</th>\n",
       "      <th>explicit</th>\n",
       "      <th>artists</th>\n",
       "      <th>id_artists</th>\n",
       "      <th>release_date</th>\n",
       "      <th>danceability</th>\n",
       "      <th>energy</th>\n",
       "      <th>...</th>\n",
       "      <th>loudness</th>\n",
       "      <th>mode</th>\n",
       "      <th>speechiness</th>\n",
       "      <th>acousticness</th>\n",
       "      <th>instrumentalness</th>\n",
       "      <th>liveness</th>\n",
       "      <th>valence</th>\n",
       "      <th>tempo</th>\n",
       "      <th>time_signature</th>\n",
       "      <th>artist_cnt</th>\n",
       "    </tr>\n",
       "  </thead>\n",
       "  <tbody>\n",
       "    <tr>\n",
       "      <th>76412</th>\n",
       "      <td>5IVuqXILoxVWvWEPm82Jxr</td>\n",
       "      <td>Crazy In Love (feat. Jay-Z)</td>\n",
       "      <td>78</td>\n",
       "      <td>236133</td>\n",
       "      <td>0</td>\n",
       "      <td>[Beyoncé,  JAY-Z]</td>\n",
       "      <td>[6vWDO969PvNqNYHIOW5v0m,  3nFkdlSjzX9mRTtwJOzDYB]</td>\n",
       "      <td>2003-06-24</td>\n",
       "      <td>0.646</td>\n",
       "      <td>0.770</td>\n",
       "      <td>...</td>\n",
       "      <td>-6.596</td>\n",
       "      <td>0</td>\n",
       "      <td>0.226</td>\n",
       "      <td>0.00249</td>\n",
       "      <td>0.0</td>\n",
       "      <td>0.0715</td>\n",
       "      <td>0.681</td>\n",
       "      <td>99.165</td>\n",
       "      <td>4</td>\n",
       "      <td>2</td>\n",
       "    </tr>\n",
       "    <tr>\n",
       "      <th>76438</th>\n",
       "      <td>0TwBtDAWpkpM3srywFVOV5</td>\n",
       "      <td>Crazy In Love (feat. Jay-Z)</td>\n",
       "      <td>73</td>\n",
       "      <td>235933</td>\n",
       "      <td>0</td>\n",
       "      <td>[Beyoncé,  JAY-Z]</td>\n",
       "      <td>[6vWDO969PvNqNYHIOW5v0m,  3nFkdlSjzX9mRTtwJOzDYB]</td>\n",
       "      <td>2003-03-10</td>\n",
       "      <td>0.664</td>\n",
       "      <td>0.758</td>\n",
       "      <td>...</td>\n",
       "      <td>-6.583</td>\n",
       "      <td>0</td>\n",
       "      <td>0.210</td>\n",
       "      <td>0.00238</td>\n",
       "      <td>0.0</td>\n",
       "      <td>0.0598</td>\n",
       "      <td>0.701</td>\n",
       "      <td>99.259</td>\n",
       "      <td>4</td>\n",
       "      <td>2</td>\n",
       "    </tr>\n",
       "    <tr>\n",
       "      <th>486782</th>\n",
       "      <td>0WqIKmW4BTrj3eJFmnCKMv</td>\n",
       "      <td>Crazy In Love (feat. Jay-Z)</td>\n",
       "      <td>25</td>\n",
       "      <td>235933</td>\n",
       "      <td>0</td>\n",
       "      <td>[Beyoncé,  JAY-Z]</td>\n",
       "      <td>[6vWDO969PvNqNYHIOW5v0m,  3nFkdlSjzX9mRTtwJOzDYB]</td>\n",
       "      <td>2003-06-23</td>\n",
       "      <td>0.664</td>\n",
       "      <td>0.758</td>\n",
       "      <td>...</td>\n",
       "      <td>-6.583</td>\n",
       "      <td>0</td>\n",
       "      <td>0.210</td>\n",
       "      <td>0.00238</td>\n",
       "      <td>0.0</td>\n",
       "      <td>0.0598</td>\n",
       "      <td>0.701</td>\n",
       "      <td>99.259</td>\n",
       "      <td>4</td>\n",
       "      <td>2</td>\n",
       "    </tr>\n",
       "  </tbody>\n",
       "</table>\n",
       "<p>3 rows × 21 columns</p>\n",
       "</div>"
      ],
      "text/plain": [
       "                            id                         name  popularity  \\\n",
       "76412   5IVuqXILoxVWvWEPm82Jxr  Crazy In Love (feat. Jay-Z)          78   \n",
       "76438   0TwBtDAWpkpM3srywFVOV5  Crazy In Love (feat. Jay-Z)          73   \n",
       "486782  0WqIKmW4BTrj3eJFmnCKMv  Crazy In Love (feat. Jay-Z)          25   \n",
       "\n",
       "        duration_ms  explicit            artists  \\\n",
       "76412        236133         0  [Beyoncé,  JAY-Z]   \n",
       "76438        235933         0  [Beyoncé,  JAY-Z]   \n",
       "486782       235933         0  [Beyoncé,  JAY-Z]   \n",
       "\n",
       "                                               id_artists release_date  \\\n",
       "76412   [6vWDO969PvNqNYHIOW5v0m,  3nFkdlSjzX9mRTtwJOzDYB]   2003-06-24   \n",
       "76438   [6vWDO969PvNqNYHIOW5v0m,  3nFkdlSjzX9mRTtwJOzDYB]   2003-03-10   \n",
       "486782  [6vWDO969PvNqNYHIOW5v0m,  3nFkdlSjzX9mRTtwJOzDYB]   2003-06-23   \n",
       "\n",
       "        danceability  energy  ...  loudness  mode  speechiness  acousticness  \\\n",
       "76412          0.646   0.770  ...    -6.596     0        0.226       0.00249   \n",
       "76438          0.664   0.758  ...    -6.583     0        0.210       0.00238   \n",
       "486782         0.664   0.758  ...    -6.583     0        0.210       0.00238   \n",
       "\n",
       "        instrumentalness  liveness  valence   tempo  time_signature  \\\n",
       "76412                0.0    0.0715    0.681  99.165               4   \n",
       "76438                0.0    0.0598    0.701  99.259               4   \n",
       "486782               0.0    0.0598    0.701  99.259               4   \n",
       "\n",
       "        artist_cnt  \n",
       "76412            2  \n",
       "76438            2  \n",
       "486782           2  \n",
       "\n",
       "[3 rows x 21 columns]"
      ]
     },
     "execution_count": 17,
     "metadata": {},
     "output_type": "execute_result"
    }
   ],
   "source": [
    "# Example of a track that is duplicated \n",
    "tracks[tracks['name']=='Crazy In Love (feat. Jay-Z)']"
   ]
  },
  {
   "cell_type": "code",
   "execution_count": 18,
   "id": "faba998a-6a91-42b7-8217-88f752a48de2",
   "metadata": {},
   "outputs": [],
   "source": [
    "tracks['artists_str'] = [','.join(lst) for lst in tracks['artists']]\n",
    "tracks['artists_id_str'] = [','.join(lst) for lst in tracks['id_artists']]"
   ]
  },
  {
   "cell_type": "code",
   "execution_count": 19,
   "id": "16720e56-e8f3-4ab8-8a08-de5c05dc7907",
   "metadata": {},
   "outputs": [
    {
     "data": {
      "text/plain": [
       "(586672, 23)"
      ]
     },
     "execution_count": 19,
     "metadata": {},
     "output_type": "execute_result"
    }
   ],
   "source": [
    "# Check shape of tracks before dropping duplicates\n",
    "tracks.shape"
   ]
  },
  {
   "cell_type": "code",
   "execution_count": 20,
   "id": "80d29b27-8d0c-4e4d-a75b-0ea7234a2ace",
   "metadata": {},
   "outputs": [],
   "source": [
    "tracks.drop_duplicates(subset=['name', 'artists_str', 'artists_id_str'], # we want to find duplicates by all columns EXCEPT id\n",
    "                       keep='first', # drop duplicates except for the first occurrence\n",
    "                       inplace=True)"
   ]
  },
  {
   "cell_type": "code",
   "execution_count": 21,
   "id": "e902c80b-4861-4a68-863f-37e60bb7063d",
   "metadata": {},
   "outputs": [
    {
     "data": {
      "text/plain": [
       "(526784, 23)"
      ]
     },
     "execution_count": 21,
     "metadata": {},
     "output_type": "execute_result"
    }
   ],
   "source": [
    "# Check shape of tracks AFTER dropping duplicates \n",
    "tracks.shape"
   ]
  },
  {
   "cell_type": "code",
   "execution_count": 22,
   "id": "4692395f-b615-4324-bfea-2d2bdcd9a6e3",
   "metadata": {},
   "outputs": [
    {
     "data": {
      "text/html": [
       "<div>\n",
       "<style scoped>\n",
       "    .dataframe tbody tr th:only-of-type {\n",
       "        vertical-align: middle;\n",
       "    }\n",
       "\n",
       "    .dataframe tbody tr th {\n",
       "        vertical-align: top;\n",
       "    }\n",
       "\n",
       "    .dataframe thead th {\n",
       "        text-align: right;\n",
       "    }\n",
       "</style>\n",
       "<table border=\"1\" class=\"dataframe\">\n",
       "  <thead>\n",
       "    <tr style=\"text-align: right;\">\n",
       "      <th></th>\n",
       "      <th>id</th>\n",
       "      <th>name</th>\n",
       "      <th>popularity</th>\n",
       "      <th>duration_ms</th>\n",
       "      <th>explicit</th>\n",
       "      <th>artists</th>\n",
       "      <th>id_artists</th>\n",
       "      <th>release_date</th>\n",
       "      <th>danceability</th>\n",
       "      <th>energy</th>\n",
       "      <th>...</th>\n",
       "      <th>speechiness</th>\n",
       "      <th>acousticness</th>\n",
       "      <th>instrumentalness</th>\n",
       "      <th>liveness</th>\n",
       "      <th>valence</th>\n",
       "      <th>tempo</th>\n",
       "      <th>time_signature</th>\n",
       "      <th>artist_cnt</th>\n",
       "      <th>artists_str</th>\n",
       "      <th>artists_id_str</th>\n",
       "    </tr>\n",
       "  </thead>\n",
       "  <tbody>\n",
       "    <tr>\n",
       "      <th>76412</th>\n",
       "      <td>5IVuqXILoxVWvWEPm82Jxr</td>\n",
       "      <td>Crazy In Love (feat. Jay-Z)</td>\n",
       "      <td>78</td>\n",
       "      <td>236133</td>\n",
       "      <td>0</td>\n",
       "      <td>[Beyoncé,  JAY-Z]</td>\n",
       "      <td>[6vWDO969PvNqNYHIOW5v0m,  3nFkdlSjzX9mRTtwJOzDYB]</td>\n",
       "      <td>2003-06-24</td>\n",
       "      <td>0.646</td>\n",
       "      <td>0.77</td>\n",
       "      <td>...</td>\n",
       "      <td>0.226</td>\n",
       "      <td>0.00249</td>\n",
       "      <td>0.0</td>\n",
       "      <td>0.0715</td>\n",
       "      <td>0.681</td>\n",
       "      <td>99.165</td>\n",
       "      <td>4</td>\n",
       "      <td>2</td>\n",
       "      <td>Beyoncé, JAY-Z</td>\n",
       "      <td>6vWDO969PvNqNYHIOW5v0m, 3nFkdlSjzX9mRTtwJOzDYB</td>\n",
       "    </tr>\n",
       "  </tbody>\n",
       "</table>\n",
       "<p>1 rows × 23 columns</p>\n",
       "</div>"
      ],
      "text/plain": [
       "                           id                         name  popularity  \\\n",
       "76412  5IVuqXILoxVWvWEPm82Jxr  Crazy In Love (feat. Jay-Z)          78   \n",
       "\n",
       "       duration_ms  explicit            artists  \\\n",
       "76412       236133         0  [Beyoncé,  JAY-Z]   \n",
       "\n",
       "                                              id_artists release_date  \\\n",
       "76412  [6vWDO969PvNqNYHIOW5v0m,  3nFkdlSjzX9mRTtwJOzDYB]   2003-06-24   \n",
       "\n",
       "       danceability  energy  ...  speechiness  acousticness  instrumentalness  \\\n",
       "76412         0.646    0.77  ...        0.226       0.00249               0.0   \n",
       "\n",
       "       liveness  valence   tempo  time_signature  artist_cnt     artists_str  \\\n",
       "76412    0.0715    0.681  99.165               4           2  Beyoncé, JAY-Z   \n",
       "\n",
       "                                       artists_id_str  \n",
       "76412  6vWDO969PvNqNYHIOW5v0m, 3nFkdlSjzX9mRTtwJOzDYB  \n",
       "\n",
       "[1 rows x 23 columns]"
      ]
     },
     "execution_count": 22,
     "metadata": {},
     "output_type": "execute_result"
    }
   ],
   "source": [
    "# Check the earlier example of a track that is duplicated \n",
    "tracks[tracks['name']=='Crazy In Love (feat. Jay-Z)']"
   ]
  },
  {
   "cell_type": "markdown",
   "id": "14a28192-d58e-415d-9931-a5863903b1ca",
   "metadata": {},
   "source": [
    "Based on the shape of `tracks` df before and after dropping duplicates, as well as the 'Crazy In Love' example, we can see that duplicates have been successfully dropped!"
   ]
  },
  {
   "cell_type": "markdown",
   "id": "deee1f6b-ff46-47df-9543-9cbf9035a595",
   "metadata": {},
   "source": [
    "### Adding `genre` to each track\n",
    "\n",
    "The `tracks` dataframe currently does not have any genre information about each song which would be really useful information. Fortunately, the `artists` dataframe contains genre information for each artist. Let's combine these 2 dataframes so that we can get genre information for each song, based on the artist for that song. In order to do this, we will...\n",
    "1. Explode each song in `tracks` by artist(s) in the song e.g. 1 row for 'Crazy in Love' by [Beyoncé, JAY-Z] will become 2 rows - 'Crazy in Love' by 'Beyoncé' and 'Crazy in Love' by 'Jay-Z'.\n",
    "2. Merge the `artists` dataframe with this new dataframe we created in step 1. "
   ]
  },
  {
   "cell_type": "code",
   "execution_count": 23,
   "id": "4787e28e-7915-499e-a4e0-f8c867430734",
   "metadata": {},
   "outputs": [],
   "source": [
    "# Explode by artist id since we'll use artist id for the merge with `artists` df \n",
    "tracks_exploded = tracks.explode('id_artists')"
   ]
  },
  {
   "cell_type": "code",
   "execution_count": 24,
   "id": "9a437a92-1fa6-4945-931a-311361c19e51",
   "metadata": {},
   "outputs": [
    {
     "data": {
      "text/html": [
       "<div>\n",
       "<style scoped>\n",
       "    .dataframe tbody tr th:only-of-type {\n",
       "        vertical-align: middle;\n",
       "    }\n",
       "\n",
       "    .dataframe tbody tr th {\n",
       "        vertical-align: top;\n",
       "    }\n",
       "\n",
       "    .dataframe thead th {\n",
       "        text-align: right;\n",
       "    }\n",
       "</style>\n",
       "<table border=\"1\" class=\"dataframe\">\n",
       "  <thead>\n",
       "    <tr style=\"text-align: right;\">\n",
       "      <th></th>\n",
       "      <th>id_x</th>\n",
       "      <th>name_x</th>\n",
       "      <th>popularity_x</th>\n",
       "      <th>duration_ms</th>\n",
       "      <th>explicit</th>\n",
       "      <th>artists</th>\n",
       "      <th>id_artists</th>\n",
       "      <th>release_date</th>\n",
       "      <th>danceability</th>\n",
       "      <th>energy</th>\n",
       "      <th>...</th>\n",
       "      <th>tempo</th>\n",
       "      <th>time_signature</th>\n",
       "      <th>artist_cnt</th>\n",
       "      <th>artists_str</th>\n",
       "      <th>artists_id_str</th>\n",
       "      <th>id_y</th>\n",
       "      <th>followers</th>\n",
       "      <th>genres</th>\n",
       "      <th>name_y</th>\n",
       "      <th>popularity_y</th>\n",
       "    </tr>\n",
       "  </thead>\n",
       "  <tbody>\n",
       "    <tr>\n",
       "      <th>0</th>\n",
       "      <td>35iwgR4jXetI318WEWsa1Q</td>\n",
       "      <td>Carve</td>\n",
       "      <td>6</td>\n",
       "      <td>126903</td>\n",
       "      <td>0</td>\n",
       "      <td>[Uli]</td>\n",
       "      <td>45tIt06XoI0Iio4LBEVpls</td>\n",
       "      <td>1922-02-22</td>\n",
       "      <td>0.645</td>\n",
       "      <td>0.4450</td>\n",
       "      <td>...</td>\n",
       "      <td>104.851</td>\n",
       "      <td>3</td>\n",
       "      <td>1</td>\n",
       "      <td>Uli</td>\n",
       "      <td>45tIt06XoI0Iio4LBEVpls</td>\n",
       "      <td>45tIt06XoI0Iio4LBEVpls</td>\n",
       "      <td>91.0</td>\n",
       "      <td>[]</td>\n",
       "      <td>Uli</td>\n",
       "      <td>4.0</td>\n",
       "    </tr>\n",
       "    <tr>\n",
       "      <th>1</th>\n",
       "      <td>021ht4sdgPcrDgSk7JTbKY</td>\n",
       "      <td>Capítulo 2.16 - Banquero Anarquista</td>\n",
       "      <td>0</td>\n",
       "      <td>98200</td>\n",
       "      <td>0</td>\n",
       "      <td>[Fernando Pessoa]</td>\n",
       "      <td>14jtPCOoNZwquk5wd9DxrY</td>\n",
       "      <td>1922-06-01</td>\n",
       "      <td>0.695</td>\n",
       "      <td>0.2630</td>\n",
       "      <td>...</td>\n",
       "      <td>102.009</td>\n",
       "      <td>1</td>\n",
       "      <td>1</td>\n",
       "      <td>Fernando Pessoa</td>\n",
       "      <td>14jtPCOoNZwquk5wd9DxrY</td>\n",
       "      <td>14jtPCOoNZwquk5wd9DxrY</td>\n",
       "      <td>3.0</td>\n",
       "      <td>[]</td>\n",
       "      <td>Fernando Pessoa</td>\n",
       "      <td>0.0</td>\n",
       "    </tr>\n",
       "    <tr>\n",
       "      <th>2</th>\n",
       "      <td>07A5yehtSnoedViJAZkNnc</td>\n",
       "      <td>Vivo para Quererte - Remasterizado</td>\n",
       "      <td>0</td>\n",
       "      <td>181640</td>\n",
       "      <td>0</td>\n",
       "      <td>[Ignacio Corsini]</td>\n",
       "      <td>5LiOoJbxVSAMkBS2fUm3X2</td>\n",
       "      <td>1922-03-21</td>\n",
       "      <td>0.434</td>\n",
       "      <td>0.1770</td>\n",
       "      <td>...</td>\n",
       "      <td>130.418</td>\n",
       "      <td>5</td>\n",
       "      <td>1</td>\n",
       "      <td>Ignacio Corsini</td>\n",
       "      <td>5LiOoJbxVSAMkBS2fUm3X2</td>\n",
       "      <td>5LiOoJbxVSAMkBS2fUm3X2</td>\n",
       "      <td>3528.0</td>\n",
       "      <td>[tango,  vintage tango]</td>\n",
       "      <td>Ignacio Corsini</td>\n",
       "      <td>23.0</td>\n",
       "    </tr>\n",
       "    <tr>\n",
       "      <th>3</th>\n",
       "      <td>08FmqUhxtyLTn6pAh6bk45</td>\n",
       "      <td>El Prisionero - Remasterizado</td>\n",
       "      <td>0</td>\n",
       "      <td>176907</td>\n",
       "      <td>0</td>\n",
       "      <td>[Ignacio Corsini]</td>\n",
       "      <td>5LiOoJbxVSAMkBS2fUm3X2</td>\n",
       "      <td>1922-03-21</td>\n",
       "      <td>0.321</td>\n",
       "      <td>0.0946</td>\n",
       "      <td>...</td>\n",
       "      <td>169.980</td>\n",
       "      <td>3</td>\n",
       "      <td>1</td>\n",
       "      <td>Ignacio Corsini</td>\n",
       "      <td>5LiOoJbxVSAMkBS2fUm3X2</td>\n",
       "      <td>5LiOoJbxVSAMkBS2fUm3X2</td>\n",
       "      <td>3528.0</td>\n",
       "      <td>[tango,  vintage tango]</td>\n",
       "      <td>Ignacio Corsini</td>\n",
       "      <td>23.0</td>\n",
       "    </tr>\n",
       "    <tr>\n",
       "      <th>4</th>\n",
       "      <td>08y9GfoqCWfOGsKdwojr5e</td>\n",
       "      <td>Lady of the Evening</td>\n",
       "      <td>0</td>\n",
       "      <td>163080</td>\n",
       "      <td>0</td>\n",
       "      <td>[Dick Haymes]</td>\n",
       "      <td>3BiJGZsyX9sJchTqcSA7Su</td>\n",
       "      <td>1922</td>\n",
       "      <td>0.402</td>\n",
       "      <td>0.1580</td>\n",
       "      <td>...</td>\n",
       "      <td>103.220</td>\n",
       "      <td>4</td>\n",
       "      <td>1</td>\n",
       "      <td>Dick Haymes</td>\n",
       "      <td>3BiJGZsyX9sJchTqcSA7Su</td>\n",
       "      <td>3BiJGZsyX9sJchTqcSA7Su</td>\n",
       "      <td>11327.0</td>\n",
       "      <td>[adult standards,  big band,  easy listening, ...</td>\n",
       "      <td>Dick Haymes</td>\n",
       "      <td>35.0</td>\n",
       "    </tr>\n",
       "  </tbody>\n",
       "</table>\n",
       "<p>5 rows × 28 columns</p>\n",
       "</div>"
      ],
      "text/plain": [
       "                     id_x                               name_x  popularity_x  \\\n",
       "0  35iwgR4jXetI318WEWsa1Q                                Carve             6   \n",
       "1  021ht4sdgPcrDgSk7JTbKY  Capítulo 2.16 - Banquero Anarquista             0   \n",
       "2  07A5yehtSnoedViJAZkNnc   Vivo para Quererte - Remasterizado             0   \n",
       "3  08FmqUhxtyLTn6pAh6bk45        El Prisionero - Remasterizado             0   \n",
       "4  08y9GfoqCWfOGsKdwojr5e                  Lady of the Evening             0   \n",
       "\n",
       "   duration_ms  explicit            artists              id_artists  \\\n",
       "0       126903         0              [Uli]  45tIt06XoI0Iio4LBEVpls   \n",
       "1        98200         0  [Fernando Pessoa]  14jtPCOoNZwquk5wd9DxrY   \n",
       "2       181640         0  [Ignacio Corsini]  5LiOoJbxVSAMkBS2fUm3X2   \n",
       "3       176907         0  [Ignacio Corsini]  5LiOoJbxVSAMkBS2fUm3X2   \n",
       "4       163080         0      [Dick Haymes]  3BiJGZsyX9sJchTqcSA7Su   \n",
       "\n",
       "  release_date  danceability  energy  ...    tempo  time_signature  \\\n",
       "0   1922-02-22         0.645  0.4450  ...  104.851               3   \n",
       "1   1922-06-01         0.695  0.2630  ...  102.009               1   \n",
       "2   1922-03-21         0.434  0.1770  ...  130.418               5   \n",
       "3   1922-03-21         0.321  0.0946  ...  169.980               3   \n",
       "4         1922         0.402  0.1580  ...  103.220               4   \n",
       "\n",
       "   artist_cnt      artists_str          artists_id_str  \\\n",
       "0           1              Uli  45tIt06XoI0Iio4LBEVpls   \n",
       "1           1  Fernando Pessoa  14jtPCOoNZwquk5wd9DxrY   \n",
       "2           1  Ignacio Corsini  5LiOoJbxVSAMkBS2fUm3X2   \n",
       "3           1  Ignacio Corsini  5LiOoJbxVSAMkBS2fUm3X2   \n",
       "4           1      Dick Haymes  3BiJGZsyX9sJchTqcSA7Su   \n",
       "\n",
       "                     id_y  followers  \\\n",
       "0  45tIt06XoI0Iio4LBEVpls       91.0   \n",
       "1  14jtPCOoNZwquk5wd9DxrY        3.0   \n",
       "2  5LiOoJbxVSAMkBS2fUm3X2     3528.0   \n",
       "3  5LiOoJbxVSAMkBS2fUm3X2     3528.0   \n",
       "4  3BiJGZsyX9sJchTqcSA7Su    11327.0   \n",
       "\n",
       "                                              genres           name_y  \\\n",
       "0                                                 []              Uli   \n",
       "1                                                 []  Fernando Pessoa   \n",
       "2                            [tango,  vintage tango]  Ignacio Corsini   \n",
       "3                            [tango,  vintage tango]  Ignacio Corsini   \n",
       "4  [adult standards,  big band,  easy listening, ...      Dick Haymes   \n",
       "\n",
       "   popularity_y  \n",
       "0           4.0  \n",
       "1           0.0  \n",
       "2          23.0  \n",
       "3          23.0  \n",
       "4          35.0  \n",
       "\n",
       "[5 rows x 28 columns]"
      ]
     },
     "execution_count": 24,
     "metadata": {},
     "output_type": "execute_result"
    }
   ],
   "source": [
    "# Merge tracks df with artists df\n",
    "combined_df = tracks_exploded.merge(artists, how='left', left_on='id_artists', right_on='id')\n",
    "combined_df.head()"
   ]
  },
  {
   "cell_type": "markdown",
   "id": "8f83ed3c-9a1a-4c7c-b3f7-12d6a946ab92",
   "metadata": {},
   "source": [
    "Now that we've merged the 2 dataframes, let's do some cleanup by removing columns that no longer necessary and renaming columns with duplicated names clearly. "
   ]
  },
  {
   "cell_type": "code",
   "execution_count": 25,
   "id": "1bc695a2-90c4-4bd3-aaa8-b35a0168fd13",
   "metadata": {},
   "outputs": [
    {
     "data": {
      "text/plain": [
       "Index(['id_x', 'name_x', 'popularity_x', 'duration_ms', 'explicit', 'artists',\n",
       "       'id_artists', 'release_date', 'danceability', 'energy', 'key',\n",
       "       'loudness', 'mode', 'speechiness', 'acousticness', 'instrumentalness',\n",
       "       'liveness', 'valence', 'tempo', 'time_signature', 'artist_cnt',\n",
       "       'artists_str', 'artists_id_str', 'id_y', 'followers', 'genres',\n",
       "       'name_y', 'popularity_y'],\n",
       "      dtype='object')"
      ]
     },
     "execution_count": 25,
     "metadata": {},
     "output_type": "execute_result"
    }
   ],
   "source": [
    "# Get the names of all the columns in combined df\n",
    "combined_df.columns"
   ]
  },
  {
   "cell_type": "code",
   "execution_count": 26,
   "id": "3c29610b-1614-4963-b9b1-7c26f7a50368",
   "metadata": {},
   "outputs": [],
   "source": [
    "# Drop columns\n",
    "combined_df.drop(columns=['id_y', 'name_y'], inplace=True)\n",
    "# Rename columns\n",
    "combined_df.rename(columns={'id_x':'track_id', 'name_x':'track_name', 'popularity_x':'track_popularity',\n",
    "                   'followers':'artist_followers', 'popularity_y':'artist_popularity'},\n",
    "                   inplace=True)"
   ]
  },
  {
   "cell_type": "code",
   "execution_count": 27,
   "id": "0527ba7f-b925-44bf-9ef0-678bc3c62c4d",
   "metadata": {},
   "outputs": [],
   "source": [
    "# Reset index\n",
    "combined_df.reset_index(drop=True, inplace=True)"
   ]
  },
  {
   "cell_type": "code",
   "execution_count": 28,
   "id": "dcf2c302-3e3a-444e-9d33-730a6c631989",
   "metadata": {},
   "outputs": [
    {
     "data": {
      "text/html": [
       "<div>\n",
       "<style scoped>\n",
       "    .dataframe tbody tr th:only-of-type {\n",
       "        vertical-align: middle;\n",
       "    }\n",
       "\n",
       "    .dataframe tbody tr th {\n",
       "        vertical-align: top;\n",
       "    }\n",
       "\n",
       "    .dataframe thead th {\n",
       "        text-align: right;\n",
       "    }\n",
       "</style>\n",
       "<table border=\"1\" class=\"dataframe\">\n",
       "  <thead>\n",
       "    <tr style=\"text-align: right;\">\n",
       "      <th></th>\n",
       "      <th>track_id</th>\n",
       "      <th>track_name</th>\n",
       "      <th>track_popularity</th>\n",
       "      <th>duration_ms</th>\n",
       "      <th>explicit</th>\n",
       "      <th>artists</th>\n",
       "      <th>id_artists</th>\n",
       "      <th>release_date</th>\n",
       "      <th>danceability</th>\n",
       "      <th>energy</th>\n",
       "      <th>...</th>\n",
       "      <th>liveness</th>\n",
       "      <th>valence</th>\n",
       "      <th>tempo</th>\n",
       "      <th>time_signature</th>\n",
       "      <th>artist_cnt</th>\n",
       "      <th>artists_str</th>\n",
       "      <th>artists_id_str</th>\n",
       "      <th>artist_followers</th>\n",
       "      <th>genres</th>\n",
       "      <th>artist_popularity</th>\n",
       "    </tr>\n",
       "  </thead>\n",
       "  <tbody>\n",
       "    <tr>\n",
       "      <th>0</th>\n",
       "      <td>35iwgR4jXetI318WEWsa1Q</td>\n",
       "      <td>Carve</td>\n",
       "      <td>6</td>\n",
       "      <td>126903</td>\n",
       "      <td>0</td>\n",
       "      <td>[Uli]</td>\n",
       "      <td>45tIt06XoI0Iio4LBEVpls</td>\n",
       "      <td>1922-02-22</td>\n",
       "      <td>0.645</td>\n",
       "      <td>0.4450</td>\n",
       "      <td>...</td>\n",
       "      <td>0.151</td>\n",
       "      <td>0.127</td>\n",
       "      <td>104.851</td>\n",
       "      <td>3</td>\n",
       "      <td>1</td>\n",
       "      <td>Uli</td>\n",
       "      <td>45tIt06XoI0Iio4LBEVpls</td>\n",
       "      <td>91.0</td>\n",
       "      <td>[]</td>\n",
       "      <td>4.0</td>\n",
       "    </tr>\n",
       "    <tr>\n",
       "      <th>1</th>\n",
       "      <td>021ht4sdgPcrDgSk7JTbKY</td>\n",
       "      <td>Capítulo 2.16 - Banquero Anarquista</td>\n",
       "      <td>0</td>\n",
       "      <td>98200</td>\n",
       "      <td>0</td>\n",
       "      <td>[Fernando Pessoa]</td>\n",
       "      <td>14jtPCOoNZwquk5wd9DxrY</td>\n",
       "      <td>1922-06-01</td>\n",
       "      <td>0.695</td>\n",
       "      <td>0.2630</td>\n",
       "      <td>...</td>\n",
       "      <td>0.148</td>\n",
       "      <td>0.655</td>\n",
       "      <td>102.009</td>\n",
       "      <td>1</td>\n",
       "      <td>1</td>\n",
       "      <td>Fernando Pessoa</td>\n",
       "      <td>14jtPCOoNZwquk5wd9DxrY</td>\n",
       "      <td>3.0</td>\n",
       "      <td>[]</td>\n",
       "      <td>0.0</td>\n",
       "    </tr>\n",
       "    <tr>\n",
       "      <th>2</th>\n",
       "      <td>07A5yehtSnoedViJAZkNnc</td>\n",
       "      <td>Vivo para Quererte - Remasterizado</td>\n",
       "      <td>0</td>\n",
       "      <td>181640</td>\n",
       "      <td>0</td>\n",
       "      <td>[Ignacio Corsini]</td>\n",
       "      <td>5LiOoJbxVSAMkBS2fUm3X2</td>\n",
       "      <td>1922-03-21</td>\n",
       "      <td>0.434</td>\n",
       "      <td>0.1770</td>\n",
       "      <td>...</td>\n",
       "      <td>0.212</td>\n",
       "      <td>0.457</td>\n",
       "      <td>130.418</td>\n",
       "      <td>5</td>\n",
       "      <td>1</td>\n",
       "      <td>Ignacio Corsini</td>\n",
       "      <td>5LiOoJbxVSAMkBS2fUm3X2</td>\n",
       "      <td>3528.0</td>\n",
       "      <td>[tango,  vintage tango]</td>\n",
       "      <td>23.0</td>\n",
       "    </tr>\n",
       "    <tr>\n",
       "      <th>3</th>\n",
       "      <td>08FmqUhxtyLTn6pAh6bk45</td>\n",
       "      <td>El Prisionero - Remasterizado</td>\n",
       "      <td>0</td>\n",
       "      <td>176907</td>\n",
       "      <td>0</td>\n",
       "      <td>[Ignacio Corsini]</td>\n",
       "      <td>5LiOoJbxVSAMkBS2fUm3X2</td>\n",
       "      <td>1922-03-21</td>\n",
       "      <td>0.321</td>\n",
       "      <td>0.0946</td>\n",
       "      <td>...</td>\n",
       "      <td>0.104</td>\n",
       "      <td>0.397</td>\n",
       "      <td>169.980</td>\n",
       "      <td>3</td>\n",
       "      <td>1</td>\n",
       "      <td>Ignacio Corsini</td>\n",
       "      <td>5LiOoJbxVSAMkBS2fUm3X2</td>\n",
       "      <td>3528.0</td>\n",
       "      <td>[tango,  vintage tango]</td>\n",
       "      <td>23.0</td>\n",
       "    </tr>\n",
       "    <tr>\n",
       "      <th>4</th>\n",
       "      <td>08y9GfoqCWfOGsKdwojr5e</td>\n",
       "      <td>Lady of the Evening</td>\n",
       "      <td>0</td>\n",
       "      <td>163080</td>\n",
       "      <td>0</td>\n",
       "      <td>[Dick Haymes]</td>\n",
       "      <td>3BiJGZsyX9sJchTqcSA7Su</td>\n",
       "      <td>1922</td>\n",
       "      <td>0.402</td>\n",
       "      <td>0.1580</td>\n",
       "      <td>...</td>\n",
       "      <td>0.311</td>\n",
       "      <td>0.196</td>\n",
       "      <td>103.220</td>\n",
       "      <td>4</td>\n",
       "      <td>1</td>\n",
       "      <td>Dick Haymes</td>\n",
       "      <td>3BiJGZsyX9sJchTqcSA7Su</td>\n",
       "      <td>11327.0</td>\n",
       "      <td>[adult standards,  big band,  easy listening, ...</td>\n",
       "      <td>35.0</td>\n",
       "    </tr>\n",
       "  </tbody>\n",
       "</table>\n",
       "<p>5 rows × 26 columns</p>\n",
       "</div>"
      ],
      "text/plain": [
       "                 track_id                           track_name  \\\n",
       "0  35iwgR4jXetI318WEWsa1Q                                Carve   \n",
       "1  021ht4sdgPcrDgSk7JTbKY  Capítulo 2.16 - Banquero Anarquista   \n",
       "2  07A5yehtSnoedViJAZkNnc   Vivo para Quererte - Remasterizado   \n",
       "3  08FmqUhxtyLTn6pAh6bk45        El Prisionero - Remasterizado   \n",
       "4  08y9GfoqCWfOGsKdwojr5e                  Lady of the Evening   \n",
       "\n",
       "   track_popularity  duration_ms  explicit            artists  \\\n",
       "0                 6       126903         0              [Uli]   \n",
       "1                 0        98200         0  [Fernando Pessoa]   \n",
       "2                 0       181640         0  [Ignacio Corsini]   \n",
       "3                 0       176907         0  [Ignacio Corsini]   \n",
       "4                 0       163080         0      [Dick Haymes]   \n",
       "\n",
       "               id_artists release_date  danceability  energy  ...  liveness  \\\n",
       "0  45tIt06XoI0Iio4LBEVpls   1922-02-22         0.645  0.4450  ...     0.151   \n",
       "1  14jtPCOoNZwquk5wd9DxrY   1922-06-01         0.695  0.2630  ...     0.148   \n",
       "2  5LiOoJbxVSAMkBS2fUm3X2   1922-03-21         0.434  0.1770  ...     0.212   \n",
       "3  5LiOoJbxVSAMkBS2fUm3X2   1922-03-21         0.321  0.0946  ...     0.104   \n",
       "4  3BiJGZsyX9sJchTqcSA7Su         1922         0.402  0.1580  ...     0.311   \n",
       "\n",
       "   valence    tempo  time_signature  artist_cnt      artists_str  \\\n",
       "0    0.127  104.851               3           1              Uli   \n",
       "1    0.655  102.009               1           1  Fernando Pessoa   \n",
       "2    0.457  130.418               5           1  Ignacio Corsini   \n",
       "3    0.397  169.980               3           1  Ignacio Corsini   \n",
       "4    0.196  103.220               4           1      Dick Haymes   \n",
       "\n",
       "           artists_id_str  artist_followers  \\\n",
       "0  45tIt06XoI0Iio4LBEVpls              91.0   \n",
       "1  14jtPCOoNZwquk5wd9DxrY               3.0   \n",
       "2  5LiOoJbxVSAMkBS2fUm3X2            3528.0   \n",
       "3  5LiOoJbxVSAMkBS2fUm3X2            3528.0   \n",
       "4  3BiJGZsyX9sJchTqcSA7Su           11327.0   \n",
       "\n",
       "                                              genres  artist_popularity  \n",
       "0                                                 []                4.0  \n",
       "1                                                 []                0.0  \n",
       "2                            [tango,  vintage tango]               23.0  \n",
       "3                            [tango,  vintage tango]               23.0  \n",
       "4  [adult standards,  big band,  easy listening, ...               35.0  \n",
       "\n",
       "[5 rows x 26 columns]"
      ]
     },
     "execution_count": 28,
     "metadata": {},
     "output_type": "execute_result"
    }
   ],
   "source": [
    "combined_df.head()"
   ]
  },
  {
   "cell_type": "markdown",
   "id": "0630c16c-df63-4416-a73d-45e68074f0c8",
   "metadata": {},
   "source": [
    "### Remove missing values"
   ]
  },
  {
   "cell_type": "code",
   "execution_count": 29,
   "id": "ba433327-b47f-4203-ae49-7255d76c079b",
   "metadata": {},
   "outputs": [],
   "source": [
    "# sum([np.isnan(num) for num in combined_df['artist_popularity']])"
   ]
  },
  {
   "cell_type": "code",
   "execution_count": 30,
   "id": "a4146b1d-caa5-480b-96e9-89d6a352f55a",
   "metadata": {},
   "outputs": [],
   "source": [
    "# Remove missing values in artist popularity \n",
    "combined_df['artist_popularity'].fillna(0.0, inplace=True)"
   ]
  },
  {
   "cell_type": "code",
   "execution_count": 31,
   "id": "8999e8b6-9c60-4ab0-96b2-aaecf155b38b",
   "metadata": {},
   "outputs": [],
   "source": [
    "# sum([np.isnan(num) for num in combined_df['artist_popularity']])"
   ]
  },
  {
   "cell_type": "code",
   "execution_count": 32,
   "id": "6854a0dc-8f89-4a4e-b141-0c9fd94e679d",
   "metadata": {},
   "outputs": [],
   "source": [
    "# Deal with missing genres and NANs\n",
    "combined_df['genres'].fillna('missing_genre', inplace=True)\n",
    "combined_df['genres'] = [['missing_genre'] if lst[0]=='' else lst for lst in combined_df['genres']]"
   ]
  },
  {
   "cell_type": "code",
   "execution_count": 33,
   "id": "f0cac38a-e0fa-4287-9374-ea3bd9360ba5",
   "metadata": {},
   "outputs": [],
   "source": [
    "# Change \n",
    "combined_df['genres'] = [','.join(lst) for lst in combined_df['genres']]"
   ]
  },
  {
   "cell_type": "code",
   "execution_count": 34,
   "id": "7eeeb82d-1b40-492a-b35b-568277a199cb",
   "metadata": {},
   "outputs": [],
   "source": [
    "combined_df = combined_df.drop_duplicates(subset=['track_id'])\n",
    "combined_df.reset_index(drop=True, inplace=True)"
   ]
  },
  {
   "cell_type": "code",
   "execution_count": 35,
   "id": "96029414-2658-410a-af1a-667a215394d3",
   "metadata": {},
   "outputs": [
    {
     "data": {
      "text/plain": [
       "(526784, 26)"
      ]
     },
     "metadata": {},
     "output_type": "display_data"
    },
    {
     "data": {
      "text/html": [
       "<div>\n",
       "<style scoped>\n",
       "    .dataframe tbody tr th:only-of-type {\n",
       "        vertical-align: middle;\n",
       "    }\n",
       "\n",
       "    .dataframe tbody tr th {\n",
       "        vertical-align: top;\n",
       "    }\n",
       "\n",
       "    .dataframe thead th {\n",
       "        text-align: right;\n",
       "    }\n",
       "</style>\n",
       "<table border=\"1\" class=\"dataframe\">\n",
       "  <thead>\n",
       "    <tr style=\"text-align: right;\">\n",
       "      <th></th>\n",
       "      <th>track_id</th>\n",
       "      <th>track_name</th>\n",
       "      <th>track_popularity</th>\n",
       "      <th>duration_ms</th>\n",
       "      <th>explicit</th>\n",
       "      <th>artists</th>\n",
       "      <th>id_artists</th>\n",
       "      <th>release_date</th>\n",
       "      <th>danceability</th>\n",
       "      <th>energy</th>\n",
       "      <th>...</th>\n",
       "      <th>liveness</th>\n",
       "      <th>valence</th>\n",
       "      <th>tempo</th>\n",
       "      <th>time_signature</th>\n",
       "      <th>artist_cnt</th>\n",
       "      <th>artists_str</th>\n",
       "      <th>artists_id_str</th>\n",
       "      <th>artist_followers</th>\n",
       "      <th>genres</th>\n",
       "      <th>artist_popularity</th>\n",
       "    </tr>\n",
       "  </thead>\n",
       "  <tbody>\n",
       "    <tr>\n",
       "      <th>0</th>\n",
       "      <td>35iwgR4jXetI318WEWsa1Q</td>\n",
       "      <td>Carve</td>\n",
       "      <td>6</td>\n",
       "      <td>126903</td>\n",
       "      <td>0</td>\n",
       "      <td>[Uli]</td>\n",
       "      <td>45tIt06XoI0Iio4LBEVpls</td>\n",
       "      <td>1922-02-22</td>\n",
       "      <td>0.645</td>\n",
       "      <td>0.4450</td>\n",
       "      <td>...</td>\n",
       "      <td>0.151</td>\n",
       "      <td>0.127</td>\n",
       "      <td>104.851</td>\n",
       "      <td>3</td>\n",
       "      <td>1</td>\n",
       "      <td>Uli</td>\n",
       "      <td>45tIt06XoI0Iio4LBEVpls</td>\n",
       "      <td>91.0</td>\n",
       "      <td>missing_genre</td>\n",
       "      <td>4.0</td>\n",
       "    </tr>\n",
       "    <tr>\n",
       "      <th>1</th>\n",
       "      <td>021ht4sdgPcrDgSk7JTbKY</td>\n",
       "      <td>Capítulo 2.16 - Banquero Anarquista</td>\n",
       "      <td>0</td>\n",
       "      <td>98200</td>\n",
       "      <td>0</td>\n",
       "      <td>[Fernando Pessoa]</td>\n",
       "      <td>14jtPCOoNZwquk5wd9DxrY</td>\n",
       "      <td>1922-06-01</td>\n",
       "      <td>0.695</td>\n",
       "      <td>0.2630</td>\n",
       "      <td>...</td>\n",
       "      <td>0.148</td>\n",
       "      <td>0.655</td>\n",
       "      <td>102.009</td>\n",
       "      <td>1</td>\n",
       "      <td>1</td>\n",
       "      <td>Fernando Pessoa</td>\n",
       "      <td>14jtPCOoNZwquk5wd9DxrY</td>\n",
       "      <td>3.0</td>\n",
       "      <td>missing_genre</td>\n",
       "      <td>0.0</td>\n",
       "    </tr>\n",
       "    <tr>\n",
       "      <th>2</th>\n",
       "      <td>07A5yehtSnoedViJAZkNnc</td>\n",
       "      <td>Vivo para Quererte - Remasterizado</td>\n",
       "      <td>0</td>\n",
       "      <td>181640</td>\n",
       "      <td>0</td>\n",
       "      <td>[Ignacio Corsini]</td>\n",
       "      <td>5LiOoJbxVSAMkBS2fUm3X2</td>\n",
       "      <td>1922-03-21</td>\n",
       "      <td>0.434</td>\n",
       "      <td>0.1770</td>\n",
       "      <td>...</td>\n",
       "      <td>0.212</td>\n",
       "      <td>0.457</td>\n",
       "      <td>130.418</td>\n",
       "      <td>5</td>\n",
       "      <td>1</td>\n",
       "      <td>Ignacio Corsini</td>\n",
       "      <td>5LiOoJbxVSAMkBS2fUm3X2</td>\n",
       "      <td>3528.0</td>\n",
       "      <td>tango, vintage tango</td>\n",
       "      <td>23.0</td>\n",
       "    </tr>\n",
       "    <tr>\n",
       "      <th>3</th>\n",
       "      <td>08FmqUhxtyLTn6pAh6bk45</td>\n",
       "      <td>El Prisionero - Remasterizado</td>\n",
       "      <td>0</td>\n",
       "      <td>176907</td>\n",
       "      <td>0</td>\n",
       "      <td>[Ignacio Corsini]</td>\n",
       "      <td>5LiOoJbxVSAMkBS2fUm3X2</td>\n",
       "      <td>1922-03-21</td>\n",
       "      <td>0.321</td>\n",
       "      <td>0.0946</td>\n",
       "      <td>...</td>\n",
       "      <td>0.104</td>\n",
       "      <td>0.397</td>\n",
       "      <td>169.980</td>\n",
       "      <td>3</td>\n",
       "      <td>1</td>\n",
       "      <td>Ignacio Corsini</td>\n",
       "      <td>5LiOoJbxVSAMkBS2fUm3X2</td>\n",
       "      <td>3528.0</td>\n",
       "      <td>tango, vintage tango</td>\n",
       "      <td>23.0</td>\n",
       "    </tr>\n",
       "    <tr>\n",
       "      <th>4</th>\n",
       "      <td>08y9GfoqCWfOGsKdwojr5e</td>\n",
       "      <td>Lady of the Evening</td>\n",
       "      <td>0</td>\n",
       "      <td>163080</td>\n",
       "      <td>0</td>\n",
       "      <td>[Dick Haymes]</td>\n",
       "      <td>3BiJGZsyX9sJchTqcSA7Su</td>\n",
       "      <td>1922</td>\n",
       "      <td>0.402</td>\n",
       "      <td>0.1580</td>\n",
       "      <td>...</td>\n",
       "      <td>0.311</td>\n",
       "      <td>0.196</td>\n",
       "      <td>103.220</td>\n",
       "      <td>4</td>\n",
       "      <td>1</td>\n",
       "      <td>Dick Haymes</td>\n",
       "      <td>3BiJGZsyX9sJchTqcSA7Su</td>\n",
       "      <td>11327.0</td>\n",
       "      <td>adult standards, big band, easy listening, lou...</td>\n",
       "      <td>35.0</td>\n",
       "    </tr>\n",
       "  </tbody>\n",
       "</table>\n",
       "<p>5 rows × 26 columns</p>\n",
       "</div>"
      ],
      "text/plain": [
       "                 track_id                           track_name  \\\n",
       "0  35iwgR4jXetI318WEWsa1Q                                Carve   \n",
       "1  021ht4sdgPcrDgSk7JTbKY  Capítulo 2.16 - Banquero Anarquista   \n",
       "2  07A5yehtSnoedViJAZkNnc   Vivo para Quererte - Remasterizado   \n",
       "3  08FmqUhxtyLTn6pAh6bk45        El Prisionero - Remasterizado   \n",
       "4  08y9GfoqCWfOGsKdwojr5e                  Lady of the Evening   \n",
       "\n",
       "   track_popularity  duration_ms  explicit            artists  \\\n",
       "0                 6       126903         0              [Uli]   \n",
       "1                 0        98200         0  [Fernando Pessoa]   \n",
       "2                 0       181640         0  [Ignacio Corsini]   \n",
       "3                 0       176907         0  [Ignacio Corsini]   \n",
       "4                 0       163080         0      [Dick Haymes]   \n",
       "\n",
       "               id_artists release_date  danceability  energy  ...  liveness  \\\n",
       "0  45tIt06XoI0Iio4LBEVpls   1922-02-22         0.645  0.4450  ...     0.151   \n",
       "1  14jtPCOoNZwquk5wd9DxrY   1922-06-01         0.695  0.2630  ...     0.148   \n",
       "2  5LiOoJbxVSAMkBS2fUm3X2   1922-03-21         0.434  0.1770  ...     0.212   \n",
       "3  5LiOoJbxVSAMkBS2fUm3X2   1922-03-21         0.321  0.0946  ...     0.104   \n",
       "4  3BiJGZsyX9sJchTqcSA7Su         1922         0.402  0.1580  ...     0.311   \n",
       "\n",
       "   valence    tempo  time_signature  artist_cnt      artists_str  \\\n",
       "0    0.127  104.851               3           1              Uli   \n",
       "1    0.655  102.009               1           1  Fernando Pessoa   \n",
       "2    0.457  130.418               5           1  Ignacio Corsini   \n",
       "3    0.397  169.980               3           1  Ignacio Corsini   \n",
       "4    0.196  103.220               4           1      Dick Haymes   \n",
       "\n",
       "           artists_id_str  artist_followers  \\\n",
       "0  45tIt06XoI0Iio4LBEVpls              91.0   \n",
       "1  14jtPCOoNZwquk5wd9DxrY               3.0   \n",
       "2  5LiOoJbxVSAMkBS2fUm3X2            3528.0   \n",
       "3  5LiOoJbxVSAMkBS2fUm3X2            3528.0   \n",
       "4  3BiJGZsyX9sJchTqcSA7Su           11327.0   \n",
       "\n",
       "                                              genres  artist_popularity  \n",
       "0                                      missing_genre                4.0  \n",
       "1                                      missing_genre                0.0  \n",
       "2                               tango, vintage tango               23.0  \n",
       "3                               tango, vintage tango               23.0  \n",
       "4  adult standards, big band, easy listening, lou...               35.0  \n",
       "\n",
       "[5 rows x 26 columns]"
      ]
     },
     "execution_count": 35,
     "metadata": {},
     "output_type": "execute_result"
    }
   ],
   "source": [
    "display(combined_df.shape)\n",
    "combined_df.head()"
   ]
  },
  {
   "cell_type": "markdown",
   "id": "550b5107-9c5c-4215-aa9d-2d4e5408ae65",
   "metadata": {},
   "source": [
    "### EDA: Number of Artists Per Track"
   ]
  },
  {
   "cell_type": "code",
   "execution_count": 36,
   "id": "a91f22d3-3065-495e-8f42-cb3f95524984",
   "metadata": {},
   "outputs": [
    {
     "data": {
      "image/png": "[encoded data removed]",
      "text/plain": [
       "<Figure size 576x576 with 1 Axes>"
      ]
     },
     "metadata": {
      "needs_background": "light"
     },
     "output_type": "display_data"
    }
   ],
   "source": [
    "plt.figure(figsize=(8,8))\n",
    "plt.title('Distribution of Number of Artists on a Track')\n",
    "ax = tracks['artist_cnt'].plot(kind='hist', bins=10, range=[1, 10])\n",
    "ax.bar_label(ax.containers[0])\n",
    "plt.show()"
   ]
  },
  {
   "cell_type": "code",
   "execution_count": 37,
   "id": "de932112-504f-4217-8eff-14a10b5c365f",
   "metadata": {},
   "outputs": [
    {
     "data": {
      "text/html": [
       "<div>\n",
       "<style scoped>\n",
       "    .dataframe tbody tr th:only-of-type {\n",
       "        vertical-align: middle;\n",
       "    }\n",
       "\n",
       "    .dataframe tbody tr th {\n",
       "        vertical-align: top;\n",
       "    }\n",
       "\n",
       "    .dataframe thead th {\n",
       "        text-align: right;\n",
       "    }\n",
       "</style>\n",
       "<table border=\"1\" class=\"dataframe\">\n",
       "  <thead>\n",
       "    <tr style=\"text-align: right;\">\n",
       "      <th></th>\n",
       "      <th>artist_cnt</th>\n",
       "      <th>%</th>\n",
       "    </tr>\n",
       "  </thead>\n",
       "  <tbody>\n",
       "    <tr>\n",
       "      <th>1</th>\n",
       "      <td>429761</td>\n",
       "      <td>0.815820</td>\n",
       "    </tr>\n",
       "    <tr>\n",
       "      <th>2</th>\n",
       "      <td>495882</td>\n",
       "      <td>0.941338</td>\n",
       "    </tr>\n",
       "    <tr>\n",
       "      <th>3</th>\n",
       "      <td>514936</td>\n",
       "      <td>0.977509</td>\n",
       "    </tr>\n",
       "    <tr>\n",
       "      <th>4</th>\n",
       "      <td>521016</td>\n",
       "      <td>0.989051</td>\n",
       "    </tr>\n",
       "    <tr>\n",
       "      <th>5</th>\n",
       "      <td>523510</td>\n",
       "      <td>0.993785</td>\n",
       "    </tr>\n",
       "  </tbody>\n",
       "</table>\n",
       "</div>"
      ],
      "text/plain": [
       "   artist_cnt         %\n",
       "1      429761  0.815820\n",
       "2      495882  0.941338\n",
       "3      514936  0.977509\n",
       "4      521016  0.989051\n",
       "5      523510  0.993785"
      ]
     },
     "execution_count": 37,
     "metadata": {},
     "output_type": "execute_result"
    }
   ],
   "source": [
    "# Find the cumulative frequency of artist count\n",
    "artist_cnt_df = pd.DataFrame(tracks['artist_cnt'].value_counts().cumsum())\n",
    "artist_cnt_df['%'] = artist_cnt_df['artist_cnt']/tracks.shape[0]\n",
    "artist_cnt_df.head()"
   ]
  },
  {
   "cell_type": "markdown",
   "id": "9e11b060-ec8b-4607-8ed3-cd76175d6673",
   "metadata": {},
   "source": [
    "~80% of the tracks have only 1 artist and more than 99% of the tracks have 5 or less artists on the track. "
   ]
  },
  {
   "cell_type": "code",
   "execution_count": 38,
   "id": "fc755b61-da47-4383-8ddb-73c7617b11ec",
   "metadata": {},
   "outputs": [],
   "source": [
    "# Number of Artists by Genre "
   ]
  },
  {
   "cell_type": "code",
   "execution_count": 39,
   "id": "475cc28a-db15-4c29-8ea0-49e3f1730fa3",
   "metadata": {},
   "outputs": [],
   "source": [
    "# Get a list of all the unique genres in the artists df \n",
    "genre_lst = []\n",
    "for genres in artists['genres']:\n",
    "    # print(genres)\n",
    "    for genre in genres:\n",
    "        # genre.replace(\" '\", \"\")\n",
    "        # genre.replace(\"'\", \"\")\n",
    "        genre_lst.append(genre.strip())"
   ]
  },
  {
   "cell_type": "code",
   "execution_count": 40,
   "id": "2a5e701b-d2a5-43a0-9757-c9bca859481e",
   "metadata": {
    "tags": []
   },
   "outputs": [
    {
     "data": {
      "text/plain": [
       "['', 'baglama', 'musica triste brasileira', 'rock cristiano', 'boston hip hop']"
      ]
     },
     "execution_count": 40,
     "metadata": {},
     "output_type": "execute_result"
    }
   ],
   "source": [
    "list(set(genre_lst))[:5]"
   ]
  },
  {
   "cell_type": "markdown",
   "id": "44d59370-87b1-4764-b877-dda756b73e5b",
   "metadata": {},
   "source": [
    "### Create a `year` feature for `combined_df` and `tracks`"
   ]
  },
  {
   "cell_type": "code",
   "execution_count": 41,
   "id": "6ae0b7bc-5578-4014-b997-e1d0af3789e5",
   "metadata": {},
   "outputs": [],
   "source": [
    "combined_df['release_year'] = pd.to_datetime(combined_df['release_date']).dt.year\n",
    "tracks['release_year'] = pd.to_datetime(tracks['release_date']).dt.year"
   ]
  },
  {
   "cell_type": "markdown",
   "id": "cd50df29-3dbf-4a55-ac0e-762170b59119",
   "metadata": {},
   "source": [
    "### EDA: Number of Tracks by Year"
   ]
  },
  {
   "cell_type": "code",
   "execution_count": 42,
   "id": "37527b51-54fc-49b3-98d2-1afe44f32bf1",
   "metadata": {},
   "outputs": [
    {
     "data": {
      "image/png": "[encoded data removed]",
      "text/plain": [
       "<Figure size 576x576 with 1 Axes>"
      ]
     },
     "metadata": {
      "needs_background": "light"
     },
     "output_type": "display_data"
    }
   ],
   "source": [
    "plt.figure(figsize=(8,8))\n",
    "plt.title('Distribution of Number of Tracks by Year')\n",
    "ax = tracks['release_year'].plot(kind='hist', bins=10, range=[1920, 2020])\n",
    "ax.bar_label(ax.containers[0])\n",
    "plt.show()"
   ]
  },
  {
   "cell_type": "markdown",
   "id": "09268f2b-04d1-42c2-9358-3d8f74b43617",
   "metadata": {},
   "source": [
    "## 4. Preprocessing \n",
    "In this section, we prepare data by embedding it into vectors so that we can calculate similarity measures between our database of songs and a user's music taste. \n",
    "\n",
    "1. Feature engineering \n",
    "    - Create a `year` feature for release date  \n",
    "2. Scaling\n",
    "    - Let's scale `track_popularity`, `artist_popularity` and musical features of a song to a scale of 0-1 \n",
    "3. One-hot encoding \n",
    "    - Let's OHE the `year` feature\n",
    "4. TF-IDF the genres \n",
    "5. Drop unnecessary features"
   ]
  },
  {
   "cell_type": "markdown",
   "id": "3ea8823f-7cce-48e9-97a8-ab5526891c0f",
   "metadata": {},
   "source": [
    "### 4.2 Scaling using `MinMaxScaler()`\n",
    "\n",
    "Let's build a function that takes in a dataframe, a list of columns in the dataframe and returns a dataframe of the specified columns after scaling. "
   ]
  },
  {
   "cell_type": "code",
   "execution_count": 43,
   "id": "a2f73346-a46f-4fac-8e65-7ee06a561a77",
   "metadata": {},
   "outputs": [],
   "source": [
    "def scale_df(col_lst, df=combined_df):\n",
    "    # Instantiate scaler \n",
    "    mms = MinMaxScaler()\n",
    "    \n",
    "    # Fit and transform the data \n",
    "    transformed_df = mms.fit_transform(df[col_lst])\n",
    "\n",
    "    return pd.DataFrame(transformed_df, columns=col_lst)"
   ]
  },
  {
   "cell_type": "code",
   "execution_count": 44,
   "id": "def0b3e7-b862-4918-8bb7-3a8b849d7e59",
   "metadata": {},
   "outputs": [],
   "source": [
    "def ohe_df(col_lst, df=combined_df): \n",
    "    transformed_df = pd.get_dummies(df[col_lst], columns=col_lst)\n",
    "    \n",
    "    return transformed_df"
   ]
  },
  {
   "cell_type": "markdown",
   "id": "348db1ae-80df-483d-a8fe-7202f6939df5",
   "metadata": {},
   "source": [
    "### 4.4 TF-IDF Vectoriser \n",
    "[insert explanation and diagram]"
   ]
  },
  {
   "cell_type": "code",
   "execution_count": 45,
   "id": "9ebfa1b1-52ae-4340-98f9-18e5f97466b0",
   "metadata": {},
   "outputs": [],
   "source": [
    "def tvec_df(col, df=combined_df):\n",
    "    # Instantiate tfidfvectorizer\n",
    "    tvec = TfidfVectorizer()\n",
    "\n",
    "    # Fit and transform the data\n",
    "    tvec_matrix = tvec.fit_transform(df[col])\n",
    "    \n",
    "    # Put transformed data into a df\n",
    "    df = pd.DataFrame(tvec_matrix.toarray(), columns=tvec.get_feature_names())\n",
    "    \n",
    "    return df"
   ]
  },
  {
   "cell_type": "markdown",
   "id": "2a0639e9-72f8-4ce3-8149-7c53c06266bf",
   "metadata": {},
   "source": [
    "### 4.5 Combine all preprocessing!\n",
    "\n",
    "Let's build a function that takes in a dataframe and returns the vectorized dataframe. "
   ]
  },
  {
   "cell_type": "code",
   "execution_count": 46,
   "id": "5603b7b3-9a98-41a3-ac5e-b351d2079507",
   "metadata": {},
   "outputs": [
    {
     "data": {
      "text/plain": [
       "Index(['track_id', 'track_name', 'track_popularity', 'duration_ms', 'explicit',\n",
       "       'artists', 'id_artists', 'release_date', 'danceability', 'energy',\n",
       "       'key', 'loudness', 'mode', 'speechiness', 'acousticness',\n",
       "       'instrumentalness', 'liveness', 'valence', 'tempo', 'time_signature',\n",
       "       'artist_cnt', 'artists_str', 'artists_id_str', 'artist_followers',\n",
       "       'genres', 'artist_popularity', 'release_year'],\n",
       "      dtype='object')"
      ]
     },
     "execution_count": 46,
     "metadata": {},
     "output_type": "execute_result"
    }
   ],
   "source": [
    "combined_df.columns"
   ]
  },
  {
   "cell_type": "code",
   "execution_count": 47,
   "id": "75d3aca4-0690-4fed-91dd-c68043abe2d7",
   "metadata": {},
   "outputs": [],
   "source": [
    "def create_vector(df=combined_df):\n",
    "    scale_ft = ['track_popularity', 'danceability', 'energy', \n",
    "               'key', 'loudness', 'mode', \n",
    "               'speechiness', 'acousticness', 'instrumentalness', \n",
    "               'liveness', 'valence', 'tempo', 'time_signature', \n",
    "               'artist_popularity']\n",
    "    ohe_ft = ['explicit', 'release_year']\n",
    "    tvec_ft = 'genres'\n",
    "    \n",
    "    final_df = pd.concat([df['track_id'], \n",
    "                          scale_df(scale_ft), \n",
    "                          ohe_df(ohe_ft), \n",
    "                          tvec_df(tvec_ft)], \n",
    "                         axis=1)\n",
    "    \n",
    "    return final_df"
   ]
  },
  {
   "cell_type": "markdown",
   "id": "1ed9d731-6f55-4b86-9eb9-b825dcf5bae1",
   "metadata": {},
   "source": [
    "### 4.6 Final cleaning and split song dataset for upload to Pinecone\n",
    "\n",
    "Pinecone has limits of about x00k songs. Out of the 500k+ songs we currently have, we will randomly select 450k songs for upload. Then, we will split these 450k songs into batches for upload to Pinecone. "
   ]
  },
  {
   "cell_type": "code",
   "execution_count": 48,
   "id": "e3229c56-a8f5-4e0e-be99-f1556db5735e",
   "metadata": {},
   "outputs": [
    {
     "data": {
      "text/plain": [
       "(450000, 27)"
      ]
     },
     "execution_count": 48,
     "metadata": {},
     "output_type": "execute_result"
    }
   ],
   "source": [
    "# Generate a random list of indexes \n",
    "random.seed(42)\n",
    "random_index = random.sample(range(combined_df.shape[0]), 450000)\n",
    "\n",
    "# Create final df\n",
    "final_songs = combined_df.iloc[random_index, :]\n",
    "final_songs.shape"
   ]
  },
  {
   "cell_type": "code",
   "execution_count": 49,
   "id": "f7e9eb59-4d9d-4e5c-96c0-4aae4cd317d4",
   "metadata": {},
   "outputs": [
    {
     "data": {
      "image/png": "[encoded data removed]",
      "text/plain": [
       "<Figure size 576x576 with 1 Axes>"
      ]
     },
     "metadata": {
      "needs_background": "light"
     },
     "output_type": "display_data"
    }
   ],
   "source": [
    "plt.figure(figsize=(8,8))\n",
    "plt.title('Distribution of Number of Tracks by Year (after random selection)')\n",
    "ax = final_songs['release_year'].plot(kind='hist', bins=10, range=[1920, 2020])\n",
    "ax.bar_label(ax.containers[0])\n",
    "plt.show()"
   ]
  },
  {
   "cell_type": "markdown",
   "id": "f50b9be2-0e95-4c73-8194-105a496e454e",
   "metadata": {},
   "source": [
    "Distribution looks pretty similar to the original dataset with 500k+ songs! Let's proceed with these randomly chosen 450k tracks. "
   ]
  },
  {
   "cell_type": "code",
   "execution_count": 50,
   "id": "73a3449e-e841-4345-be36-836a75ae1b75",
   "metadata": {},
   "outputs": [],
   "source": [
    "all_song_ft = create_vector()"
   ]
  },
  {
   "cell_type": "code",
   "execution_count": 51,
   "id": "a17565cd-a1f8-4f93-885e-57e9ec730075",
   "metadata": {},
   "outputs": [
    {
     "data": {
      "text/plain": [
       "(526784, 2408)"
      ]
     },
     "metadata": {},
     "output_type": "display_data"
    }
   ],
   "source": [
    "display(all_song_ft.shape)"
   ]
  },
  {
   "cell_type": "code",
   "execution_count": 52,
   "id": "b94bdbde-5316-443e-8201-99eb915c4804",
   "metadata": {},
   "outputs": [
    {
     "data": {
      "text/plain": [
       "(450000, 2408)"
      ]
     },
     "execution_count": 52,
     "metadata": {},
     "output_type": "execute_result"
    }
   ],
   "source": [
    "final_song_ft = all_song_ft.iloc[random_index, :]\n",
    "final_song_ft.shape"
   ]
  },
  {
   "cell_type": "code",
   "execution_count": 53,
   "id": "babea94f-c4a0-4983-beab-d50a1380d2ec",
   "metadata": {},
   "outputs": [
    {
     "data": {
      "text/html": [
       "<div>\n",
       "<style scoped>\n",
       "    .dataframe tbody tr th:only-of-type {\n",
       "        vertical-align: middle;\n",
       "    }\n",
       "\n",
       "    .dataframe tbody tr th {\n",
       "        vertical-align: top;\n",
       "    }\n",
       "\n",
       "    .dataframe thead th {\n",
       "        text-align: right;\n",
       "    }\n",
       "</style>\n",
       "<table border=\"1\" class=\"dataframe\">\n",
       "  <thead>\n",
       "    <tr style=\"text-align: right;\">\n",
       "      <th></th>\n",
       "      <th>track_id</th>\n",
       "      <th>track_popularity</th>\n",
       "      <th>danceability</th>\n",
       "      <th>energy</th>\n",
       "      <th>key</th>\n",
       "      <th>loudness</th>\n",
       "      <th>mode</th>\n",
       "      <th>speechiness</th>\n",
       "      <th>acousticness</th>\n",
       "      <th>instrumentalness</th>\n",
       "      <th>...</th>\n",
       "      <th>zikir</th>\n",
       "      <th>zillertal</th>\n",
       "      <th>zim</th>\n",
       "      <th>zither</th>\n",
       "      <th>zolo</th>\n",
       "      <th>zouglou</th>\n",
       "      <th>zouk</th>\n",
       "      <th>zuliana</th>\n",
       "      <th>zurich</th>\n",
       "      <th>zydeco</th>\n",
       "    </tr>\n",
       "  </thead>\n",
       "  <tbody>\n",
       "    <tr>\n",
       "      <th>0</th>\n",
       "      <td>1qFqi7NahjuFxGV3H2FNmb</td>\n",
       "      <td>0.16</td>\n",
       "      <td>0.468214</td>\n",
       "      <td>0.337</td>\n",
       "      <td>0.454545</td>\n",
       "      <td>0.740103</td>\n",
       "      <td>1.0</td>\n",
       "      <td>0.052317</td>\n",
       "      <td>0.696787</td>\n",
       "      <td>0.000000</td>\n",
       "      <td>...</td>\n",
       "      <td>0.0</td>\n",
       "      <td>0.0</td>\n",
       "      <td>0.0</td>\n",
       "      <td>0.0</td>\n",
       "      <td>0.0</td>\n",
       "      <td>0.0</td>\n",
       "      <td>0.0</td>\n",
       "      <td>0.0</td>\n",
       "      <td>0.0</td>\n",
       "      <td>0.0</td>\n",
       "    </tr>\n",
       "    <tr>\n",
       "      <th>1</th>\n",
       "      <td>4iUxT3nhVmAsUj7Jm5ZeJy</td>\n",
       "      <td>0.19</td>\n",
       "      <td>0.162462</td>\n",
       "      <td>0.267</td>\n",
       "      <td>0.818182</td>\n",
       "      <td>0.663011</td>\n",
       "      <td>1.0</td>\n",
       "      <td>0.038620</td>\n",
       "      <td>0.928715</td>\n",
       "      <td>0.979000</td>\n",
       "      <td>...</td>\n",
       "      <td>0.0</td>\n",
       "      <td>0.0</td>\n",
       "      <td>0.0</td>\n",
       "      <td>0.0</td>\n",
       "      <td>0.0</td>\n",
       "      <td>0.0</td>\n",
       "      <td>0.0</td>\n",
       "      <td>0.0</td>\n",
       "      <td>0.0</td>\n",
       "      <td>0.0</td>\n",
       "    </tr>\n",
       "    <tr>\n",
       "      <th>2</th>\n",
       "      <td>18Gd6vSbxKS4mrEvjz14oS</td>\n",
       "      <td>0.15</td>\n",
       "      <td>0.383451</td>\n",
       "      <td>0.297</td>\n",
       "      <td>0.181818</td>\n",
       "      <td>0.667875</td>\n",
       "      <td>0.0</td>\n",
       "      <td>0.033368</td>\n",
       "      <td>0.392570</td>\n",
       "      <td>0.000012</td>\n",
       "      <td>...</td>\n",
       "      <td>0.0</td>\n",
       "      <td>0.0</td>\n",
       "      <td>0.0</td>\n",
       "      <td>0.0</td>\n",
       "      <td>0.0</td>\n",
       "      <td>0.0</td>\n",
       "      <td>0.0</td>\n",
       "      <td>0.0</td>\n",
       "      <td>0.0</td>\n",
       "      <td>0.0</td>\n",
       "    </tr>\n",
       "    <tr>\n",
       "      <th>3</th>\n",
       "      <td>32QnXosZq7A11knnBAEqk7</td>\n",
       "      <td>0.59</td>\n",
       "      <td>0.717457</td>\n",
       "      <td>0.315</td>\n",
       "      <td>0.000000</td>\n",
       "      <td>0.746283</td>\n",
       "      <td>1.0</td>\n",
       "      <td>0.035015</td>\n",
       "      <td>0.744980</td>\n",
       "      <td>0.000000</td>\n",
       "      <td>...</td>\n",
       "      <td>0.0</td>\n",
       "      <td>0.0</td>\n",
       "      <td>0.0</td>\n",
       "      <td>0.0</td>\n",
       "      <td>0.0</td>\n",
       "      <td>0.0</td>\n",
       "      <td>0.0</td>\n",
       "      <td>0.0</td>\n",
       "      <td>0.0</td>\n",
       "      <td>0.0</td>\n",
       "    </tr>\n",
       "    <tr>\n",
       "      <th>4</th>\n",
       "      <td>0JBjiB2QZSYPVUEnUmSroj</td>\n",
       "      <td>0.38</td>\n",
       "      <td>0.507568</td>\n",
       "      <td>0.928</td>\n",
       "      <td>0.000000</td>\n",
       "      <td>0.835934</td>\n",
       "      <td>1.0</td>\n",
       "      <td>0.032750</td>\n",
       "      <td>0.002912</td>\n",
       "      <td>0.000010</td>\n",
       "      <td>...</td>\n",
       "      <td>0.0</td>\n",
       "      <td>0.0</td>\n",
       "      <td>0.0</td>\n",
       "      <td>0.0</td>\n",
       "      <td>0.0</td>\n",
       "      <td>0.0</td>\n",
       "      <td>0.0</td>\n",
       "      <td>0.0</td>\n",
       "      <td>0.0</td>\n",
       "      <td>0.0</td>\n",
       "    </tr>\n",
       "  </tbody>\n",
       "</table>\n",
       "<p>5 rows × 2408 columns</p>\n",
       "</div>"
      ],
      "text/plain": [
       "                 track_id  track_popularity  danceability  energy       key  \\\n",
       "0  1qFqi7NahjuFxGV3H2FNmb              0.16      0.468214   0.337  0.454545   \n",
       "1  4iUxT3nhVmAsUj7Jm5ZeJy              0.19      0.162462   0.267  0.818182   \n",
       "2  18Gd6vSbxKS4mrEvjz14oS              0.15      0.383451   0.297  0.181818   \n",
       "3  32QnXosZq7A11knnBAEqk7              0.59      0.717457   0.315  0.000000   \n",
       "4  0JBjiB2QZSYPVUEnUmSroj              0.38      0.507568   0.928  0.000000   \n",
       "\n",
       "   loudness  mode  speechiness  acousticness  instrumentalness  ...  zikir  \\\n",
       "0  0.740103   1.0     0.052317      0.696787          0.000000  ...    0.0   \n",
       "1  0.663011   1.0     0.038620      0.928715          0.979000  ...    0.0   \n",
       "2  0.667875   0.0     0.033368      0.392570          0.000012  ...    0.0   \n",
       "3  0.746283   1.0     0.035015      0.744980          0.000000  ...    0.0   \n",
       "4  0.835934   1.0     0.032750      0.002912          0.000010  ...    0.0   \n",
       "\n",
       "   zillertal  zim  zither  zolo  zouglou  zouk  zuliana  zurich  zydeco  \n",
       "0        0.0  0.0     0.0   0.0      0.0   0.0      0.0     0.0     0.0  \n",
       "1        0.0  0.0     0.0   0.0      0.0   0.0      0.0     0.0     0.0  \n",
       "2        0.0  0.0     0.0   0.0      0.0   0.0      0.0     0.0     0.0  \n",
       "3        0.0  0.0     0.0   0.0      0.0   0.0      0.0     0.0     0.0  \n",
       "4        0.0  0.0     0.0   0.0      0.0   0.0      0.0     0.0     0.0  \n",
       "\n",
       "[5 rows x 2408 columns]"
      ]
     },
     "execution_count": 53,
     "metadata": {},
     "output_type": "execute_result"
    }
   ],
   "source": [
    "# Reset the index one more time\n",
    "final_song_ft.reset_index(drop=True, inplace=True)\n",
    "final_song_ft.head()"
   ]
  },
  {
   "cell_type": "markdown",
   "id": "3ce51736-071c-44c3-89ba-c7de603aa7a8",
   "metadata": {},
   "source": [
    "### Pickle variables! "
   ]
  },
  {
   "cell_type": "code",
   "execution_count": 54,
   "id": "e64e8d1f-a21b-472f-a76e-14a8870f5d17",
   "metadata": {},
   "outputs": [],
   "source": [
    "all_song_ft.to_pickle('./data/all_song_ft.pkl')\n",
    "final_song_ft.to_pickle('./data/final_song_ft.pkl')\n",
    "# final_vector.to_pickle('./data/final_vector.pkl')"
   ]
  }
 ],
 "metadata": {
  "kernelspec": {
   "display_name": "Python 3 (ipykernel)",
   "language": "python",
   "name": "python3"
  },
  "language_info": {
   "codemirror_mode": {
    "name": "ipython",
    "version": 3
   },
   "file_extension": ".py",
   "mimetype": "text/x-python",
   "name": "python",
   "nbconvert_exporter": "python",
   "pygments_lexer": "ipython3",
   "version": "3.8.13"
  }
 },
 "nbformat": 4,
 "nbformat_minor": 5
}
