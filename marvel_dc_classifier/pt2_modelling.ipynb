{
 "cells": [
  {
   "cell_type": "markdown",
   "id": "e84c017a-5130-4550-9418-dcacefe02dec",
   "metadata": {},
   "source": [
    "# Classifying Reddit Posts to Marvel/DC Movie Subreddits Pt 2\n",
    "\n",
    "## 1. Recap: Problem Statement\n",
    "\n",
    "We are employees of a marketing agency hired by a toy company to perform market research on Reddit to build a classifier model that classifies posts from Marvel vs DC movies subreddits in order to \n",
    "1. Build a classifier model that can be applied to other platforms (e.g. Twitter, Facebook) with text data to determine public interest in either movie franchise\n",
    "2. Find popular heroes and keywords for each franchise to identify product and marketing opportunities (using sentiment analysis)\n",
    "\n",
    "The success of the classifier model will be evaluated using the accuracy metric i.e. is the model able to correctly label a post as coming from the Marvel/DC subreddit? Similarly, sentiment analysis will be evaluated using accuracy i.e. is the model able to correctly identify a post as having positive, neutral or negative sentiment? This can help us identify the most discussed heroes and keywords (a sign of popularity) and whether the discussions around these heroes and topics are positive, neutral or negative to identify product and marketing opportunities to boost revenue for our customer, the toy company. \n",
    "\n",
    "## 2. Overview of Notebook\n",
    "This second code notebook will cover the following:\n",
    "- Data cleaning and EDA\n",
    "- Data preprocessing using NLP techniques e.g. \n",
    "    - Tokenizing\n",
    "    - Removing stopwords (words that do not convey much meaning)\n",
    "    - Stemming \n",
    "    - Vectorizing\n",
    "- Model fitting and evaluation\n",
    "- Sentiment analysis"
   ]
  },
  {
   "cell_type": "markdown",
   "id": "4c94f195-429d-45a5-a3f0-2fb9a7f5a7ac",
   "metadata": {},
   "source": [
    "## 3. Import Libraries"
   ]
  },
  {
   "cell_type": "code",
   "execution_count": 1,
   "id": "e2d2b19f-ff8f-42eb-b94f-0d379b1d0e2d",
   "metadata": {},
   "outputs": [
    {
     "name": "stderr",
     "output_type": "stream",
     "text": [
      "/var/folders/8z/79m40r1d0xlgt3j50lw991x40000gn/T/ipykernel_1812/2232588271.py:21: TqdmDeprecationWarning: This function will be removed in tqdm==5.0.0\n",
      "Please use `tqdm.notebook.*` instead of `tqdm._tqdm_notebook.*`\n",
      "  from tqdm._tqdm_notebook import tqdm_notebook\n"
     ]
    }
   ],
   "source": [
    "import pandas as pd \n",
    "import numpy as np\n",
    "import matplotlib.pyplot as plt\n",
    "import seaborn as sns\n",
    "\n",
    "from sklearn.feature_extraction.text import CountVectorizer, TfidfVectorizer\n",
    "from nltk.corpus import stopwords\n",
    "import regex as re\n",
    "from nltk.tokenize import sent_tokenize, word_tokenize\n",
    "from nltk.stem import WordNetLemmatizer\n",
    "from nltk.stem.porter import PorterStemmer\n",
    "from nltk.corpus import stopwords\n",
    "\n",
    "from sklearn.model_selection import train_test_split, cross_val_score, GridSearchCV\n",
    "from sklearn.pipeline import Pipeline\n",
    "from sklearn.naive_bayes import MultinomialNB\n",
    "from sklearn.ensemble import RandomForestClassifier\n",
    "from sklearn.svm import LinearSVC, SVC\n",
    "from sklearn.linear_model import LogisticRegression\n",
    "from transformers import pipeline\n",
    "from tqdm._tqdm_notebook import tqdm_notebook\n",
    "tqdm_notebook.pandas()\n",
    "import json\n",
    "from sklearn.metrics import accuracy_score, confusion_matrix, plot_confusion_matrix\n",
    "\n",
    "import warnings\n",
    "warnings.filterwarnings(\"ignore\")"
   ]
  },
  {
   "cell_type": "markdown",
   "id": "f83ca962-a569-4a2f-b53d-e1145a422fbc",
   "metadata": {},
   "source": [
    "## 4. Read Data\n",
    "\n",
    "In this section, we load the data from the Marvel and DC subreddits using the Pushift API in the pt 1 code notebook."
   ]
  },
  {
   "cell_type": "code",
   "execution_count": 2,
   "id": "3c7e6621-a28c-4cc8-ab81-a1cef09bf4b7",
   "metadata": {},
   "outputs": [
    {
     "data": {
      "text/plain": [
       "(4997, 85)"
      ]
     },
     "metadata": {},
     "output_type": "display_data"
    },
    {
     "data": {
      "text/html": [
       "<div>\n",
       "<style scoped>\n",
       "    .dataframe tbody tr th:only-of-type {\n",
       "        vertical-align: middle;\n",
       "    }\n",
       "\n",
       "    .dataframe tbody tr th {\n",
       "        vertical-align: top;\n",
       "    }\n",
       "\n",
       "    .dataframe thead th {\n",
       "        text-align: right;\n",
       "    }\n",
       "</style>\n",
       "<table border=\"1\" class=\"dataframe\">\n",
       "  <thead>\n",
       "    <tr style=\"text-align: right;\">\n",
       "      <th></th>\n",
       "      <th>all_awardings</th>\n",
       "      <th>allow_live_comments</th>\n",
       "      <th>author</th>\n",
       "      <th>author_flair_css_class</th>\n",
       "      <th>author_flair_richtext</th>\n",
       "      <th>author_flair_template_id</th>\n",
       "      <th>author_flair_text</th>\n",
       "      <th>author_flair_text_color</th>\n",
       "      <th>author_flair_type</th>\n",
       "      <th>author_fullname</th>\n",
       "      <th>...</th>\n",
       "      <th>discussion_type</th>\n",
       "      <th>author_flair_background_color</th>\n",
       "      <th>gallery_data</th>\n",
       "      <th>is_gallery</th>\n",
       "      <th>media_metadata</th>\n",
       "      <th>author_cakeday</th>\n",
       "      <th>distinguished</th>\n",
       "      <th>banned_by</th>\n",
       "      <th>call_to_action</th>\n",
       "      <th>category</th>\n",
       "    </tr>\n",
       "  </thead>\n",
       "  <tbody>\n",
       "    <tr>\n",
       "      <th>0</th>\n",
       "      <td>[]</td>\n",
       "      <td>False</td>\n",
       "      <td>OutrageousCan366</td>\n",
       "      <td>HulkTR</td>\n",
       "      <td>[{'e': 'text', 't': 'Hulk'}]</td>\n",
       "      <td>93d81236-e5ea-11e7-a21d-0e4a80901758</td>\n",
       "      <td>Hulk</td>\n",
       "      <td>dark</td>\n",
       "      <td>richtext</td>\n",
       "      <td>t2_bngpojal</td>\n",
       "      <td>...</td>\n",
       "      <td>NaN</td>\n",
       "      <td>NaN</td>\n",
       "      <td>NaN</td>\n",
       "      <td>NaN</td>\n",
       "      <td>NaN</td>\n",
       "      <td>NaN</td>\n",
       "      <td>NaN</td>\n",
       "      <td>NaN</td>\n",
       "      <td>NaN</td>\n",
       "      <td>NaN</td>\n",
       "    </tr>\n",
       "    <tr>\n",
       "      <th>1</th>\n",
       "      <td>[]</td>\n",
       "      <td>False</td>\n",
       "      <td>Yeahdude16261</td>\n",
       "      <td>NaN</td>\n",
       "      <td>[]</td>\n",
       "      <td>NaN</td>\n",
       "      <td>NaN</td>\n",
       "      <td>NaN</td>\n",
       "      <td>text</td>\n",
       "      <td>t2_k5714qok</td>\n",
       "      <td>...</td>\n",
       "      <td>NaN</td>\n",
       "      <td>NaN</td>\n",
       "      <td>NaN</td>\n",
       "      <td>NaN</td>\n",
       "      <td>NaN</td>\n",
       "      <td>NaN</td>\n",
       "      <td>NaN</td>\n",
       "      <td>NaN</td>\n",
       "      <td>NaN</td>\n",
       "      <td>NaN</td>\n",
       "    </tr>\n",
       "    <tr>\n",
       "      <th>2</th>\n",
       "      <td>[]</td>\n",
       "      <td>False</td>\n",
       "      <td>PhotoConorWilliams</td>\n",
       "      <td>NaN</td>\n",
       "      <td>[]</td>\n",
       "      <td>NaN</td>\n",
       "      <td>NaN</td>\n",
       "      <td>NaN</td>\n",
       "      <td>text</td>\n",
       "      <td>t2_29cgz41b</td>\n",
       "      <td>...</td>\n",
       "      <td>NaN</td>\n",
       "      <td>NaN</td>\n",
       "      <td>NaN</td>\n",
       "      <td>NaN</td>\n",
       "      <td>NaN</td>\n",
       "      <td>NaN</td>\n",
       "      <td>NaN</td>\n",
       "      <td>NaN</td>\n",
       "      <td>NaN</td>\n",
       "      <td>NaN</td>\n",
       "    </tr>\n",
       "    <tr>\n",
       "      <th>3</th>\n",
       "      <td>[]</td>\n",
       "      <td>False</td>\n",
       "      <td>Ullaspn_2003</td>\n",
       "      <td>NaN</td>\n",
       "      <td>[]</td>\n",
       "      <td>NaN</td>\n",
       "      <td>NaN</td>\n",
       "      <td>NaN</td>\n",
       "      <td>text</td>\n",
       "      <td>t2_75zhhfx6</td>\n",
       "      <td>...</td>\n",
       "      <td>NaN</td>\n",
       "      <td>NaN</td>\n",
       "      <td>NaN</td>\n",
       "      <td>NaN</td>\n",
       "      <td>NaN</td>\n",
       "      <td>NaN</td>\n",
       "      <td>NaN</td>\n",
       "      <td>NaN</td>\n",
       "      <td>NaN</td>\n",
       "      <td>NaN</td>\n",
       "    </tr>\n",
       "    <tr>\n",
       "      <th>4</th>\n",
       "      <td>[]</td>\n",
       "      <td>False</td>\n",
       "      <td>inklingboi08</td>\n",
       "      <td>NaN</td>\n",
       "      <td>[]</td>\n",
       "      <td>NaN</td>\n",
       "      <td>NaN</td>\n",
       "      <td>NaN</td>\n",
       "      <td>text</td>\n",
       "      <td>t2_3w9e07d1</td>\n",
       "      <td>...</td>\n",
       "      <td>NaN</td>\n",
       "      <td>NaN</td>\n",
       "      <td>NaN</td>\n",
       "      <td>NaN</td>\n",
       "      <td>NaN</td>\n",
       "      <td>NaN</td>\n",
       "      <td>NaN</td>\n",
       "      <td>NaN</td>\n",
       "      <td>NaN</td>\n",
       "      <td>NaN</td>\n",
       "    </tr>\n",
       "  </tbody>\n",
       "</table>\n",
       "<p>5 rows × 85 columns</p>\n",
       "</div>"
      ],
      "text/plain": [
       "  all_awardings  allow_live_comments              author  \\\n",
       "0            []                False    OutrageousCan366   \n",
       "1            []                False       Yeahdude16261   \n",
       "2            []                False  PhotoConorWilliams   \n",
       "3            []                False        Ullaspn_2003   \n",
       "4            []                False        inklingboi08   \n",
       "\n",
       "  author_flair_css_class         author_flair_richtext  \\\n",
       "0                 HulkTR  [{'e': 'text', 't': 'Hulk'}]   \n",
       "1                    NaN                            []   \n",
       "2                    NaN                            []   \n",
       "3                    NaN                            []   \n",
       "4                    NaN                            []   \n",
       "\n",
       "               author_flair_template_id author_flair_text  \\\n",
       "0  93d81236-e5ea-11e7-a21d-0e4a80901758              Hulk   \n",
       "1                                   NaN               NaN   \n",
       "2                                   NaN               NaN   \n",
       "3                                   NaN               NaN   \n",
       "4                                   NaN               NaN   \n",
       "\n",
       "  author_flair_text_color author_flair_type author_fullname  ...  \\\n",
       "0                    dark          richtext     t2_bngpojal  ...   \n",
       "1                     NaN              text     t2_k5714qok  ...   \n",
       "2                     NaN              text     t2_29cgz41b  ...   \n",
       "3                     NaN              text     t2_75zhhfx6  ...   \n",
       "4                     NaN              text     t2_3w9e07d1  ...   \n",
       "\n",
       "   discussion_type author_flair_background_color gallery_data is_gallery  \\\n",
       "0              NaN                           NaN          NaN        NaN   \n",
       "1              NaN                           NaN          NaN        NaN   \n",
       "2              NaN                           NaN          NaN        NaN   \n",
       "3              NaN                           NaN          NaN        NaN   \n",
       "4              NaN                           NaN          NaN        NaN   \n",
       "\n",
       "   media_metadata  author_cakeday  distinguished banned_by call_to_action  \\\n",
       "0             NaN             NaN            NaN       NaN            NaN   \n",
       "1             NaN             NaN            NaN       NaN            NaN   \n",
       "2             NaN             NaN            NaN       NaN            NaN   \n",
       "3             NaN             NaN            NaN       NaN            NaN   \n",
       "4             NaN             NaN            NaN       NaN            NaN   \n",
       "\n",
       "  category  \n",
       "0      NaN  \n",
       "1      NaN  \n",
       "2      NaN  \n",
       "3      NaN  \n",
       "4      NaN  \n",
       "\n",
       "[5 rows x 85 columns]"
      ]
     },
     "execution_count": 2,
     "metadata": {},
     "output_type": "execute_result"
    }
   ],
   "source": [
    "marvel = pd.read_csv('./datasets/marvel.csv')\n",
    "display(marvel.shape)\n",
    "marvel.head()"
   ]
  },
  {
   "cell_type": "code",
   "execution_count": 3,
   "id": "90150efb-aa80-4016-9efb-00095db353c7",
   "metadata": {},
   "outputs": [
    {
     "data": {
      "text/plain": [
       "(4998, 85)"
      ]
     },
     "metadata": {},
     "output_type": "display_data"
    },
    {
     "data": {
      "text/html": [
       "<div>\n",
       "<style scoped>\n",
       "    .dataframe tbody tr th:only-of-type {\n",
       "        vertical-align: middle;\n",
       "    }\n",
       "\n",
       "    .dataframe tbody tr th {\n",
       "        vertical-align: top;\n",
       "    }\n",
       "\n",
       "    .dataframe thead th {\n",
       "        text-align: right;\n",
       "    }\n",
       "</style>\n",
       "<table border=\"1\" class=\"dataframe\">\n",
       "  <thead>\n",
       "    <tr style=\"text-align: right;\">\n",
       "      <th></th>\n",
       "      <th>all_awardings</th>\n",
       "      <th>allow_live_comments</th>\n",
       "      <th>author</th>\n",
       "      <th>author_flair_css_class</th>\n",
       "      <th>author_flair_richtext</th>\n",
       "      <th>author_flair_text</th>\n",
       "      <th>author_flair_type</th>\n",
       "      <th>author_fullname</th>\n",
       "      <th>author_is_blocked</th>\n",
       "      <th>author_patreon_flair</th>\n",
       "      <th>...</th>\n",
       "      <th>media_embed</th>\n",
       "      <th>secure_media</th>\n",
       "      <th>secure_media_embed</th>\n",
       "      <th>crosspost_parent</th>\n",
       "      <th>crosspost_parent_list</th>\n",
       "      <th>poll_data</th>\n",
       "      <th>distinguished</th>\n",
       "      <th>banned_by</th>\n",
       "      <th>call_to_action</th>\n",
       "      <th>category</th>\n",
       "    </tr>\n",
       "  </thead>\n",
       "  <tbody>\n",
       "    <tr>\n",
       "      <th>0</th>\n",
       "      <td>[]</td>\n",
       "      <td>False</td>\n",
       "      <td>SirSufficient385</td>\n",
       "      <td>NaN</td>\n",
       "      <td>[]</td>\n",
       "      <td>NaN</td>\n",
       "      <td>text</td>\n",
       "      <td>t2_d02xl6ar</td>\n",
       "      <td>False</td>\n",
       "      <td>False</td>\n",
       "      <td>...</td>\n",
       "      <td>NaN</td>\n",
       "      <td>NaN</td>\n",
       "      <td>NaN</td>\n",
       "      <td>NaN</td>\n",
       "      <td>NaN</td>\n",
       "      <td>NaN</td>\n",
       "      <td>NaN</td>\n",
       "      <td>NaN</td>\n",
       "      <td>NaN</td>\n",
       "      <td>NaN</td>\n",
       "    </tr>\n",
       "    <tr>\n",
       "      <th>1</th>\n",
       "      <td>[]</td>\n",
       "      <td>False</td>\n",
       "      <td>eatherichortrydietin</td>\n",
       "      <td>NaN</td>\n",
       "      <td>[]</td>\n",
       "      <td>NaN</td>\n",
       "      <td>text</td>\n",
       "      <td>t2_eop6rrqo</td>\n",
       "      <td>False</td>\n",
       "      <td>False</td>\n",
       "      <td>...</td>\n",
       "      <td>NaN</td>\n",
       "      <td>NaN</td>\n",
       "      <td>NaN</td>\n",
       "      <td>NaN</td>\n",
       "      <td>NaN</td>\n",
       "      <td>NaN</td>\n",
       "      <td>NaN</td>\n",
       "      <td>NaN</td>\n",
       "      <td>NaN</td>\n",
       "      <td>NaN</td>\n",
       "    </tr>\n",
       "    <tr>\n",
       "      <th>2</th>\n",
       "      <td>[]</td>\n",
       "      <td>False</td>\n",
       "      <td>scottydoeskno</td>\n",
       "      <td>NaN</td>\n",
       "      <td>[]</td>\n",
       "      <td>NaN</td>\n",
       "      <td>text</td>\n",
       "      <td>t2_d4x0p</td>\n",
       "      <td>False</td>\n",
       "      <td>False</td>\n",
       "      <td>...</td>\n",
       "      <td>NaN</td>\n",
       "      <td>NaN</td>\n",
       "      <td>NaN</td>\n",
       "      <td>NaN</td>\n",
       "      <td>NaN</td>\n",
       "      <td>NaN</td>\n",
       "      <td>NaN</td>\n",
       "      <td>NaN</td>\n",
       "      <td>NaN</td>\n",
       "      <td>NaN</td>\n",
       "    </tr>\n",
       "    <tr>\n",
       "      <th>3</th>\n",
       "      <td>[]</td>\n",
       "      <td>False</td>\n",
       "      <td>Ecra-8</td>\n",
       "      <td>NaN</td>\n",
       "      <td>[]</td>\n",
       "      <td>NaN</td>\n",
       "      <td>text</td>\n",
       "      <td>t2_3sx7ihzq</td>\n",
       "      <td>False</td>\n",
       "      <td>False</td>\n",
       "      <td>...</td>\n",
       "      <td>NaN</td>\n",
       "      <td>NaN</td>\n",
       "      <td>NaN</td>\n",
       "      <td>NaN</td>\n",
       "      <td>NaN</td>\n",
       "      <td>NaN</td>\n",
       "      <td>NaN</td>\n",
       "      <td>NaN</td>\n",
       "      <td>NaN</td>\n",
       "      <td>NaN</td>\n",
       "    </tr>\n",
       "    <tr>\n",
       "      <th>4</th>\n",
       "      <td>[]</td>\n",
       "      <td>False</td>\n",
       "      <td>Ecra-8</td>\n",
       "      <td>NaN</td>\n",
       "      <td>[]</td>\n",
       "      <td>NaN</td>\n",
       "      <td>text</td>\n",
       "      <td>t2_3sx7ihzq</td>\n",
       "      <td>False</td>\n",
       "      <td>False</td>\n",
       "      <td>...</td>\n",
       "      <td>NaN</td>\n",
       "      <td>NaN</td>\n",
       "      <td>NaN</td>\n",
       "      <td>NaN</td>\n",
       "      <td>NaN</td>\n",
       "      <td>NaN</td>\n",
       "      <td>NaN</td>\n",
       "      <td>NaN</td>\n",
       "      <td>NaN</td>\n",
       "      <td>NaN</td>\n",
       "    </tr>\n",
       "  </tbody>\n",
       "</table>\n",
       "<p>5 rows × 85 columns</p>\n",
       "</div>"
      ],
      "text/plain": [
       "  all_awardings  allow_live_comments                author  \\\n",
       "0            []                False      SirSufficient385   \n",
       "1            []                False  eatherichortrydietin   \n",
       "2            []                False         scottydoeskno   \n",
       "3            []                False                Ecra-8   \n",
       "4            []                False                Ecra-8   \n",
       "\n",
       "  author_flair_css_class author_flair_richtext author_flair_text  \\\n",
       "0                    NaN                    []               NaN   \n",
       "1                    NaN                    []               NaN   \n",
       "2                    NaN                    []               NaN   \n",
       "3                    NaN                    []               NaN   \n",
       "4                    NaN                    []               NaN   \n",
       "\n",
       "  author_flair_type author_fullname  author_is_blocked author_patreon_flair  \\\n",
       "0              text     t2_d02xl6ar              False                False   \n",
       "1              text     t2_eop6rrqo              False                False   \n",
       "2              text        t2_d4x0p              False                False   \n",
       "3              text     t2_3sx7ihzq              False                False   \n",
       "4              text     t2_3sx7ihzq              False                False   \n",
       "\n",
       "   ... media_embed secure_media  secure_media_embed  crosspost_parent  \\\n",
       "0  ...         NaN          NaN                 NaN               NaN   \n",
       "1  ...         NaN          NaN                 NaN               NaN   \n",
       "2  ...         NaN          NaN                 NaN               NaN   \n",
       "3  ...         NaN          NaN                 NaN               NaN   \n",
       "4  ...         NaN          NaN                 NaN               NaN   \n",
       "\n",
       "   crosspost_parent_list poll_data distinguished banned_by call_to_action  \\\n",
       "0                    NaN       NaN           NaN       NaN            NaN   \n",
       "1                    NaN       NaN           NaN       NaN            NaN   \n",
       "2                    NaN       NaN           NaN       NaN            NaN   \n",
       "3                    NaN       NaN           NaN       NaN            NaN   \n",
       "4                    NaN       NaN           NaN       NaN            NaN   \n",
       "\n",
       "  category  \n",
       "0      NaN  \n",
       "1      NaN  \n",
       "2      NaN  \n",
       "3      NaN  \n",
       "4      NaN  \n",
       "\n",
       "[5 rows x 85 columns]"
      ]
     },
     "execution_count": 3,
     "metadata": {},
     "output_type": "execute_result"
    }
   ],
   "source": [
    "dc = pd.read_csv('./datasets/dc.csv')\n",
    "display(dc.shape)\n",
    "dc.head()"
   ]
  },
  {
   "cell_type": "markdown",
   "id": "9588229b-cf39-4197-b1eb-5cb2fb23eed0",
   "metadata": {},
   "source": [
    "## 5. Data Cleaning and EDA\n",
    "In this section we will do the following:\n",
    "- Examine basic summary statistics\n",
    "- Examine distributions in important columns\n",
    "- Identify and address outliers\n",
    "- Check for and handle missing values in the important columns"
   ]
  },
  {
   "cell_type": "markdown",
   "id": "8dd16317-e354-417b-ae7f-7c43e2424bde",
   "metadata": {},
   "source": [
    "### 5.1 Checking the distribution of posts with/without selftext"
   ]
  },
  {
   "cell_type": "code",
   "execution_count": 4,
   "id": "58e31198-42c6-4371-9e1a-036e5d94bd68",
   "metadata": {},
   "outputs": [
    {
     "data": {
      "image/png": "[encoded data removed]",
      "text/plain": [
       "<Figure size 864x432 with 2 Axes>"
      ]
     },
     "metadata": {
      "needs_background": "light"
     },
     "output_type": "display_data"
    }
   ],
   "source": [
    "# Check count of posts that have a body text vs posts with title only \n",
    "plt.figure(figsize=(12,6))\n",
    "plt.subplot(1,2,1)\n",
    "labels = ['Has Body Text','Title Only']\n",
    "plot1 = sns.countplot(x=marvel['selftext'].isna(), palette='Reds')\n",
    "plot1.set_xticklabels(labels)\n",
    "plt.title('Count of Marvel Posts by Type')\n",
    "plot1.set_xlabel('')\n",
    "\n",
    "plt.subplot(1, 2, 2)\n",
    "plot2 = sns.countplot(x=dc['selftext'].isna(), palette='Blues')\n",
    "plot2.set_xticklabels(labels)\n",
    "plt.title('Count of DC Posts by Type')\n",
    "plot2.set_xlabel('')\n",
    "plt.show()"
   ]
  },
  {
   "cell_type": "markdown",
   "id": "19ca07ec-14c9-4365-a182-a3f205cae255",
   "metadata": {
    "tags": []
   },
   "source": [
    "### 5.2 Handling missing values: Creating `content` column\n",
    "There are some missing values in the `selftext` column. This column is the body of text that can be found under the title in a Reddit post but not every Reddit post has a body of text, thus some rows have missing values for the `selftext` column. We can create a new column for model training that concatenates `title` and `selftext` to solve this issue of missing values. "
   ]
  },
  {
   "cell_type": "code",
   "execution_count": 5,
   "id": "e81ae1be-06f1-4a41-b1a2-ac6ed4cb1982",
   "metadata": {
    "tags": []
   },
   "outputs": [],
   "source": [
    "# Put empty string ' ' for missing values in self-text\n",
    "marvel.fillna(' ', inplace=True)\n",
    "dc.fillna(' ', inplace=True)"
   ]
  },
  {
   "cell_type": "code",
   "execution_count": 6,
   "id": "41318490-0183-4fc7-bb29-8f3ecfca5d5f",
   "metadata": {
    "tags": []
   },
   "outputs": [],
   "source": [
    "# Create new column called `content` for marvel and dc dfs\n",
    "marvel['content'] = marvel['title']+' '+marvel['selftext']\n",
    "dc['content'] = dc['title']+' '+dc['selftext']"
   ]
  },
  {
   "cell_type": "markdown",
   "id": "973be112-3929-47d2-b605-833325faca79",
   "metadata": {},
   "source": [
    "### 5.3 Summary Statistics \n",
    "Let's get some summary statistics on the number of characters in the `title` and `selftext` columns from our data."
   ]
  },
  {
   "cell_type": "code",
   "execution_count": 7,
   "id": "18f5e755-a2ae-4c5e-bbc4-3fbd1eef00e4",
   "metadata": {},
   "outputs": [],
   "source": [
    "# Define a function that takes in a dataframe, and list of text columns to return summary stats for \n",
    "def text_sum(df, lst=['title', 'selftext']):\n",
    "    empty_lst = []\n",
    "    \n",
    "    for col in lst: \n",
    "        dictionary = {} \n",
    "        char_cnt = [len(string) for string in df[col]]\n",
    "        dictionary['mean'] = sum(char_cnt)/len(char_cnt)\n",
    "        dictionary['std'] = np.std(char_cnt)\n",
    "        dictionary['median'] = np.percentile(char_cnt, 50)\n",
    "        dictionary['25th perc'] = np.percentile(char_cnt, 25)\n",
    "        dictionary['75th perc'] = np.percentile(char_cnt, 75)\n",
    "        dictionary['min'] = np.percentile(char_cnt, 0)\n",
    "        dictionary['max'] = np.percentile(char_cnt, 100)\n",
    "        empty_lst.append(dictionary)\n",
    "        \n",
    "    return pd.DataFrame(empty_lst, index=lst).T"
   ]
  },
  {
   "cell_type": "code",
   "execution_count": 8,
   "id": "f85f6fac-6dc8-414f-927a-eab920e9ffc3",
   "metadata": {},
   "outputs": [
    {
     "data": {
      "text/html": [
       "<div>\n",
       "<style scoped>\n",
       "    .dataframe tbody tr th:only-of-type {\n",
       "        vertical-align: middle;\n",
       "    }\n",
       "\n",
       "    .dataframe tbody tr th {\n",
       "        vertical-align: top;\n",
       "    }\n",
       "\n",
       "    .dataframe thead th {\n",
       "        text-align: right;\n",
       "    }\n",
       "</style>\n",
       "<table border=\"1\" class=\"dataframe\">\n",
       "  <thead>\n",
       "    <tr style=\"text-align: right;\">\n",
       "      <th></th>\n",
       "      <th>title</th>\n",
       "      <th>selftext</th>\n",
       "    </tr>\n",
       "  </thead>\n",
       "  <tbody>\n",
       "    <tr>\n",
       "      <th>mean</th>\n",
       "      <td>63.863946</td>\n",
       "      <td>122.547419</td>\n",
       "    </tr>\n",
       "    <tr>\n",
       "      <th>std</th>\n",
       "      <td>47.950687</td>\n",
       "      <td>597.016959</td>\n",
       "    </tr>\n",
       "    <tr>\n",
       "      <th>median</th>\n",
       "      <td>52.000000</td>\n",
       "      <td>1.000000</td>\n",
       "    </tr>\n",
       "    <tr>\n",
       "      <th>25th perc</th>\n",
       "      <td>31.000000</td>\n",
       "      <td>1.000000</td>\n",
       "    </tr>\n",
       "    <tr>\n",
       "      <th>75th perc</th>\n",
       "      <td>82.000000</td>\n",
       "      <td>9.000000</td>\n",
       "    </tr>\n",
       "    <tr>\n",
       "      <th>min</th>\n",
       "      <td>1.000000</td>\n",
       "      <td>1.000000</td>\n",
       "    </tr>\n",
       "    <tr>\n",
       "      <th>max</th>\n",
       "      <td>300.000000</td>\n",
       "      <td>16353.000000</td>\n",
       "    </tr>\n",
       "  </tbody>\n",
       "</table>\n",
       "</div>"
      ],
      "text/plain": [
       "                title      selftext\n",
       "mean        63.863946    122.547419\n",
       "std         47.950687    597.016959\n",
       "median      52.000000      1.000000\n",
       "25th perc   31.000000      1.000000\n",
       "75th perc   82.000000      9.000000\n",
       "min          1.000000      1.000000\n",
       "max        300.000000  16353.000000"
      ]
     },
     "execution_count": 8,
     "metadata": {},
     "output_type": "execute_result"
    }
   ],
   "source": [
    "# Summary stats for the Marvel subreddit\n",
    "text_sum(marvel)\n",
    "# Summary stats for the DC subreddit\n",
    "text_sum(dc)"
   ]
  },
  {
   "cell_type": "markdown",
   "id": "7c6b2466-736e-4d90-ba2c-bfb6339396e4",
   "metadata": {},
   "source": [
    "Both Marvel and DC have pretty similar summary statistics in terms of the number of characters in the title and body text of each post. The distribution of the number of characters is right-skewed in both subreddits, we see outliers that have much higher character counts than the median. Marvel posts also tend to have longer body text than DC posts. "
   ]
  },
  {
   "cell_type": "markdown",
   "id": "1b5f02b8-6716-4d7d-847d-04d465d1ae27",
   "metadata": {},
   "source": [
    "### 5.4 Checking the distribution of posts with/without media"
   ]
  },
  {
   "cell_type": "code",
   "execution_count": 9,
   "id": "bc0f1665-4920-446c-920c-2e9edfab2d37",
   "metadata": {},
   "outputs": [
    {
     "data": {
      "image/png": "[encoded data removed]",
      "text/plain": [
       "<Figure size 864x432 with 2 Axes>"
      ]
     },
     "metadata": {
      "needs_background": "light"
     },
     "output_type": "display_data"
    }
   ],
   "source": [
    "# Check count of posts that have a image/video vs posts with text only\n",
    "plt.figure(figsize=(12,6))\n",
    "plt.subplot(1,2,1)\n",
    "labels = ['With Video/Image', 'Text Only']\n",
    "plot1 = sns.countplot(x=marvel['is_self'], palette='Reds')\n",
    "plot1.set_xticklabels(labels)\n",
    "plt.title('Count of Marvel Posts by Type')\n",
    "plot1.set_xlabel('')\n",
    "\n",
    "plt.subplot(1, 2, 2)\n",
    "plot2 = sns.countplot(x=dc['is_self'], palette='Blues')\n",
    "plot2.set_xticklabels(labels)\n",
    "plt.title('Count of DC Posts by Type')\n",
    "plot2.set_xlabel('')\n",
    "plt.show()"
   ]
  },
  {
   "cell_type": "markdown",
   "id": "e5b34cd0-27ef-4f31-98ff-afe9696599c6",
   "metadata": {},
   "source": [
    "Most posts tend to have some form of media (not just text) which comes as no surprise since these subreddits discuss movies and characters, so images and videos should be expected. "
   ]
  },
  {
   "cell_type": "markdown",
   "id": "e22a6571-074a-49be-a360-2d6f0b00f86f",
   "metadata": {},
   "source": [
    "### 5.5 Top unigrams in each subreddit"
   ]
  },
  {
   "cell_type": "code",
   "execution_count": 10,
   "id": "c6c418c3-b0e7-43d6-a84f-55d96fee3677",
   "metadata": {},
   "outputs": [],
   "source": [
    "# Remove common words that don't convey much meaning \n",
    "stopwords_lst = stopwords.words('english')\n",
    "more_words = ['like', 'just', 'think', 'removed','would','could','should','get'\n",
    "             ,'also','one','really','movies', 'film', 'new', 'film', 'https', 'movie'\n",
    "             ,'show', 'see']\n",
    "stopwords_lst.extend(more_words)"
   ]
  },
  {
   "cell_type": "code",
   "execution_count": 11,
   "id": "6bdba8b6-f835-436a-b9a4-2e4f981d443f",
   "metadata": {},
   "outputs": [
    {
     "data": {
      "image/png": "[encoded data removed]",
      "text/plain": [
       "<Figure size 864x432 with 2 Axes>"
      ]
     },
     "metadata": {
      "needs_background": "light"
     },
     "output_type": "display_data"
    }
   ],
   "source": [
    "# Instantiate CountVectorizer\n",
    "cvec = CountVectorizer(stop_words=stopwords_lst)\n",
    "\n",
    "# Vectorise and put vectors into dataframe for Marvel\n",
    "marvel_words = cvec.fit_transform(marvel['content']) \n",
    "marvel_words_df = pd.DataFrame(marvel_words.toarray(), columns=cvec.get_feature_names_out())\n",
    "\n",
    "# Vectorise and put vectors into dataframe for DC\n",
    "dc_words = cvec.fit_transform(dc['content']) \n",
    "dc_words_df = pd.DataFrame(dc_words.toarray(), columns=cvec.get_feature_names_out())\n",
    "\n",
    "# Find top 10 words in both subreddits\n",
    "marv_cnt = pd.DataFrame(marvel_words_df.sum().sort_values(ascending=False).head(10), columns=['count'])\n",
    "dc_cnt = pd.DataFrame(dc_words_df.sum().sort_values(ascending=False).head(10), columns=['count'])\n",
    "\n",
    "# Bar plot of top 10 words \n",
    "plt.figure(figsize=(12,6))\n",
    "\n",
    "plt.subplot(1,2,1)\n",
    "sns.barplot(x=marv_cnt['count'], y=marv_cnt.index.tolist(), palette='Reds').set(xlabel=None)\n",
    "plt.title('Top 10 Unigrams in the Marvel Subreddit')\n",
    "\n",
    "plt.subplot(1,2,2)\n",
    "sns.barplot(x=dc_cnt['count'], y=dc_cnt.index.tolist(), palette='Blues').set(xlabel=None)\n",
    "plt.title('Top 10 Unigrams in the DC Subreddit')\n",
    "\n",
    "plt.show()"
   ]
  },
  {
   "cell_type": "markdown",
   "id": "6aab2ca7-f113-4f49-8d53-9d37e53ea285",
   "metadata": {},
   "source": [
    "### 5.6 Top bigrams in each subreddit"
   ]
  },
  {
   "cell_type": "code",
   "execution_count": 12,
   "id": "7a003ee3-9291-4936-9095-3929ecc52516",
   "metadata": {},
   "outputs": [
    {
     "data": {
      "image/png": "[encoded data removed]",
      "text/plain": [
       "<Figure size 1296x648 with 2 Axes>"
      ]
     },
     "metadata": {
      "needs_background": "light"
     },
     "output_type": "display_data"
    }
   ],
   "source": [
    "# Instantiate CountVectorizer\n",
    "cvec = CountVectorizer(stop_words=stopwords_lst, ngram_range=(2,2))\n",
    "\n",
    "# Vectorise and put vectors into dataframe for Marvel\n",
    "marvel_words = cvec.fit_transform(marvel['content']) \n",
    "marvel_words_df = pd.DataFrame(marvel_words.toarray(), columns=cvec.get_feature_names_out())\n",
    "\n",
    "# Vectorise and put vectors into dataframe for DC\n",
    "dc_words = cvec.fit_transform(dc['content']) \n",
    "dc_words_df = pd.DataFrame(dc_words.toarray(), columns=cvec.get_feature_names_out())\n",
    "\n",
    "# Find top 10 bigrams in both subreddits\n",
    "marv_cnt = pd.DataFrame(marvel_words_df.sum().sort_values(ascending=False).head(10), columns=['count'])\n",
    "dc_cnt = pd.DataFrame(dc_words_df.sum().sort_values(ascending=False).head(10), columns=['count'])\n",
    "\n",
    "# Bar plot of top 10 words \n",
    "plt.figure(figsize=(18,9))\n",
    "\n",
    "plt.subplot(1,2,1)\n",
    "sns.barplot(x=marv_cnt['count'], y=marv_cnt.index.tolist(), palette='Reds').set(xlabel=None)\n",
    "plt.title('Top 10 Bigrams in the Marvel Subreddit')\n",
    "\n",
    "plt.subplot(1,2,2)\n",
    "sns.barplot(x=dc_cnt['count'], y=dc_cnt.index.tolist(), palette='Blues').set(xlabel=None)\n",
    "plt.title('Top 10 Bigrams in the DC Subreddit')\n",
    "\n",
    "plt.show()"
   ]
  },
  {
   "cell_type": "markdown",
   "id": "56b50f51-6666-420f-9437-172ff08771c7",
   "metadata": {},
   "source": [
    "### 5.7 Overall findings\n",
    "\n",
    "This section has given us a pretty good start to answer our objectives. The top unigrams and bigrams give an indication of the potential strongest features that can help us build a classfier model that produces accurate predictions. Once we build our model and analyse feature importance, we can look back to this section to do a sanity check on the features we got from the model. \n",
    "\n",
    "The top unigrams and bigrams also help us identify the most popular and most disscussed keywords and heroes to identify product and marketing opportunities. We will use sentiment analysis in a later section to determine if the discussions around these words are positive, neutral or negative. "
   ]
  },
  {
   "cell_type": "markdown",
   "id": "6a70dacc-bf00-4eaa-a302-817683e7d582",
   "metadata": {},
   "source": [
    "## 6. Data Preprocessing\n",
    "\n",
    "- Lowercase\n",
    "- Tokenization\n",
    "- Stop Word Removal\n",
    "- Special Char Removal\n",
    "- Stemming/Lemmatization"
   ]
  },
  {
   "cell_type": "code",
   "execution_count": 13,
   "id": "0305c9d2-6e65-4f1e-8899-2dab8f3231ca",
   "metadata": {},
   "outputs": [
    {
     "data": {
      "text/plain": [
       "(9995, 2)"
      ]
     },
     "metadata": {},
     "output_type": "display_data"
    }
   ],
   "source": [
    "# Combine marvel and dc dfs\n",
    "df = pd.concat([marvel[['subreddit', 'content']], dc[['subreddit', 'content']]]).reset_index(drop=True)\n",
    "display(df.shape)"
   ]
  },
  {
   "cell_type": "code",
   "execution_count": 14,
   "id": "6efb2b4e-40f7-4640-98bf-e3854bc29069",
   "metadata": {},
   "outputs": [],
   "source": [
    "# Define a function that takes in a series and \n",
    "# Returns a series that is a cleaned up version of the input series\n",
    "\n",
    "def word_cleaner(str_lst):\n",
    "    # Instantiate stemmer/lemmatizer\n",
    "    p_stemmer = PorterStemmer()\n",
    "    # lemmatizer = WordNetLemmatizer()\n",
    "    \n",
    "    # 1. Make all strings lowercase \n",
    "    lst_clean_1 = [string.lower().strip() for string in str_lst]\n",
    "    \n",
    "    # 2. Regex to remove any non-latin characters \n",
    "    lst_clean_2 = [re.sub(\"[^a-zA-Z]\", \" \", string) for string in lst_clean_1]\n",
    "    \n",
    "    # 3. Tokenize \n",
    "    lst_tokenized = [word_tokenize(string) for string in lst_clean_2]\n",
    "    \n",
    "    # 4. Remove stop words\n",
    "    lst_stopped = [[word for word in lst if word not in stopwords_lst] for lst in lst_tokenized]\n",
    "    \n",
    "    # 5. Stem words \n",
    "    lst_stem = [[p_stemmer.stem(word) for word in lst] for lst in lst_stopped]\n",
    "    \n",
    "    # # 5. Alternatively, lemmatize words \n",
    "    # lst_lem = [[lemmatizer.lemmatize(word) for word in lst] for lst in lst_tokenized]\n",
    "\n",
    "    # 6. Put list of words back into 1 string per row\n",
    "    lst_cleaned = [' '.join(lst) for lst in lst_stem]\n",
    "    # lst_cleaned = [' '.join(lst) for lst in lst_lem]\n",
    "    \n",
    "    return lst_cleaned"
   ]
  },
  {
   "cell_type": "code",
   "execution_count": 15,
   "id": "19ab869f-5357-496e-957e-ea69d1d527c3",
   "metadata": {},
   "outputs": [],
   "source": [
    "# Create a new column that is the cleaned up version of the `content` column \n",
    "df['content_clean'] = word_cleaner(df['content'])"
   ]
  },
  {
   "cell_type": "code",
   "execution_count": 16,
   "id": "e2dc6676-d31b-4e8b-a303-34e53d3145fe",
   "metadata": {},
   "outputs": [],
   "source": [
    "# Create new colum `class` where 1=marvel, 0=DC\n",
    "df['class']=df['subreddit'].map({'marvelstudios':1, 'DC_Cinematic':0})"
   ]
  },
  {
   "cell_type": "code",
   "execution_count": 17,
   "id": "051d22b8-19b9-47c4-a712-02de27e5912c",
   "metadata": {},
   "outputs": [
    {
     "data": {
      "text/html": [
       "<div>\n",
       "<style scoped>\n",
       "    .dataframe tbody tr th:only-of-type {\n",
       "        vertical-align: middle;\n",
       "    }\n",
       "\n",
       "    .dataframe tbody tr th {\n",
       "        vertical-align: top;\n",
       "    }\n",
       "\n",
       "    .dataframe thead th {\n",
       "        text-align: right;\n",
       "    }\n",
       "</style>\n",
       "<table border=\"1\" class=\"dataframe\">\n",
       "  <thead>\n",
       "    <tr style=\"text-align: right;\">\n",
       "      <th></th>\n",
       "      <th>subreddit</th>\n",
       "      <th>content</th>\n",
       "      <th>content_clean</th>\n",
       "      <th>class</th>\n",
       "    </tr>\n",
       "  </thead>\n",
       "  <tbody>\n",
       "    <tr>\n",
       "      <th>0</th>\n",
       "      <td>marvelstudios</td>\n",
       "      <td>Thor: Love and Thunder</td>\n",
       "      <td>thor love thunder</td>\n",
       "      <td>1</td>\n",
       "    </tr>\n",
       "    <tr>\n",
       "      <th>1</th>\n",
       "      <td>marvelstudios</td>\n",
       "      <td>why is Bucky Barnes so popular? [removed]</td>\n",
       "      <td>bucki barn popular</td>\n",
       "      <td>1</td>\n",
       "    </tr>\n",
       "    <tr>\n",
       "      <th>2</th>\n",
       "      <td>marvelstudios</td>\n",
       "      <td>How would you feel about an Avengers style app...</td>\n",
       "      <td>feel aveng style approach set x men mcu start ...</td>\n",
       "      <td>1</td>\n",
       "    </tr>\n",
       "    <tr>\n",
       "      <th>3</th>\n",
       "      <td>marvelstudios</td>\n",
       "      <td>Is this omnipotent city</td>\n",
       "      <td>omnipot citi</td>\n",
       "      <td>1</td>\n",
       "    </tr>\n",
       "    <tr>\n",
       "      <th>4</th>\n",
       "      <td>marvelstudios</td>\n",
       "      <td>This is the explanation I'll be using from now...</td>\n",
       "      <td>explan use</td>\n",
       "      <td>1</td>\n",
       "    </tr>\n",
       "  </tbody>\n",
       "</table>\n",
       "</div>"
      ],
      "text/plain": [
       "       subreddit                                            content  \\\n",
       "0  marvelstudios                           Thor: Love and Thunder     \n",
       "1  marvelstudios          why is Bucky Barnes so popular? [removed]   \n",
       "2  marvelstudios  How would you feel about an Avengers style app...   \n",
       "3  marvelstudios                          Is this omnipotent city     \n",
       "4  marvelstudios  This is the explanation I'll be using from now...   \n",
       "\n",
       "                                       content_clean  class  \n",
       "0                                  thor love thunder      1  \n",
       "1                                 bucki barn popular      1  \n",
       "2  feel aveng style approach set x men mcu start ...      1  \n",
       "3                                       omnipot citi      1  \n",
       "4                                         explan use      1  "
      ]
     },
     "execution_count": 17,
     "metadata": {},
     "output_type": "execute_result"
    }
   ],
   "source": [
    "# Check that the dataframe looks as expected \n",
    "df.head()"
   ]
  },
  {
   "cell_type": "markdown",
   "id": "5b686e5e-b3e8-41d0-8394-f81f9b77cfcc",
   "metadata": {},
   "source": [
    "## 7. Baseline Model\n",
    "\n",
    "The baseline model provides a benchmark to measure model performance against. \n",
    "\n",
    "If we were given a random post and had to classify it under the Marvel or DC subreddit, our best guess (without using machine learning models) would be to use the proportion of each class in the dataset i.e. if the target class comprises 90% of the dataset, our best guess would be predict that any random post belongs to the target class. \n",
    "\n",
    "We can then improve upon this baseline score using machine learning models and a variety of techniques e.g. feature engineering, hyperparameter tuning, dimensionality reduction etc. to make predictions better. "
   ]
  },
  {
   "cell_type": "code",
   "execution_count": 18,
   "id": "81c44657-702f-46fc-9761-06f3ebc17f86",
   "metadata": {},
   "outputs": [
    {
     "data": {
      "text/plain": [
       "DC_Cinematic     0.50005\n",
       "marvelstudios    0.49995\n",
       "Name: subreddit, dtype: float64"
      ]
     },
     "execution_count": 18,
     "metadata": {},
     "output_type": "execute_result"
    }
   ],
   "source": [
    "df['subreddit'].value_counts(normalize=True)"
   ]
  },
  {
   "cell_type": "markdown",
   "id": "bc7e0a54-4cc8-46df-b96d-aa0bf20dc576",
   "metadata": {},
   "source": [
    "## 8. Model Testing and Fitting and Evaluation"
   ]
  },
  {
   "cell_type": "code",
   "execution_count": 19,
   "id": "e4876989-8346-4b15-8464-ccd63419d464",
   "metadata": {},
   "outputs": [],
   "source": [
    "# Create X and y\n",
    "X = df['content_clean']\n",
    "y = df['class']"
   ]
  },
  {
   "cell_type": "markdown",
   "id": "79ecb13d-6174-46a3-a26c-0eba80a6a50d",
   "metadata": {},
   "source": [
    "### 8.1 Random Forest, SVM, Naive Bayes and Logistic Regression Models\n",
    "\n",
    "Let's try these different classifier models with different vectorizers to find the combination which produces the best accuracy score."
   ]
  },
  {
   "cell_type": "code",
   "execution_count": 20,
   "id": "79c5d79b-7eac-4de4-9238-caf75863824a",
   "metadata": {},
   "outputs": [],
   "source": [
    "# Instantiate transformers \n",
    "cvec = CountVectorizer()\n",
    "tvec = TfidfVectorizer()\n",
    "\n",
    "# Instantiate models \n",
    "rf = RandomForestClassifier()\n",
    "svc = SVC()\n",
    "nb = MultinomialNB()\n",
    "logreg = LogisticRegression()"
   ]
  },
  {
   "cell_type": "code",
   "execution_count": 21,
   "id": "4d2ea102-1725-4455-a605-ca7bf04efd73",
   "metadata": {},
   "outputs": [],
   "source": [
    "# Create list of dictionary of parameters to GridSearch over for transformers and models \n",
    "params = {\n",
    "    'cvec':{ # default parameters performed the best!\n",
    "        # 'ngram_range':[(1,1), (2,2)],\n",
    "        # 'max_df':[0.95, 1.0],\n",
    "        # 'min_df':[1, 2]\n",
    "        # 'max_features':[]\n",
    "    },\n",
    "    'tvec':{\n",
    "        # 'ngram_range':[(1,1), (2,2)],\n",
    "        # 'max_df':[0.95, 1.0],\n",
    "        # 'min_df':[1, 2], \n",
    "        'max_features': [6_000, 7_000]\n",
    "    # 'max_features':[]\n",
    "    },\n",
    "    'rf':{\n",
    "        'n_estimators': [100, 150, 200], # iterating over different number of trees in the forest\n",
    "        # 'max_depth': [None, 1, 2, 3, 4, 5]\n",
    "    },\n",
    "    'svc':{\n",
    "        'C':[1.0, 0.1, 0.01],\n",
    "        'kernel':['linear', 'poly', 'rbf'], \n",
    "        'degree':[2]\n",
    "    },\n",
    "    'nb':{\n",
    "        'alpha':[1.0, 10.0]\n",
    "    },\n",
    "    'logreg':{\n",
    "        'penalty':['l1', 'l2'],\n",
    "        'C':[1.0, 0.1, 0.01],\n",
    "        'solver':['liblinear']\n",
    "    }  \n",
    "}"
   ]
  },
  {
   "cell_type": "code",
   "execution_count": 22,
   "id": "42bbe97a-e1bf-47fb-a8d2-48645d6fb309",
   "metadata": {},
   "outputs": [],
   "source": [
    "# Def function that takes in list of dict keys and full dict of parameters and returns a dict of parameters specified in list \n",
    "def params_fx(lst, dictionary=params):\n",
    "    dict_param = {}\n",
    "    for item in lst:\n",
    "        for key,value in dictionary[item].items(): \n",
    "            dict_param[item+\"__\"+key]=value\n",
    "    return dict_param"
   ]
  },
  {
   "cell_type": "code",
   "execution_count": 23,
   "id": "029acc4a-6231-4cb8-adeb-edef5a3ff81b",
   "metadata": {},
   "outputs": [],
   "source": [
    "# Def function that takes in X, y, transformers, a model and a dictionary of hyperparameters for the model \n",
    "# Returns cross val score, test score, train score \n",
    "def all_model_scores(X, y, vectorizer, estimator, param_lst): \n",
    "    # Pipeline\n",
    "    pipe = Pipeline([\n",
    "    (param_lst[0], vectorizer), \n",
    "    (param_lst[1], estimator)])\n",
    "    \n",
    "    # Instantiate GridSearchCV \n",
    "    pipe_gs = GridSearchCV(pipe,\n",
    "                           params_fx(param_lst), # use params function to call dict of params \n",
    "                           cv=5,\n",
    "                           verbose=1)\n",
    "    \n",
    "    # Train/test split\n",
    "    X_train, X_test, y_train, y_test = train_test_split(X, y, random_state=42, stratify=y)\n",
    "    \n",
    "    # Fit pipe on training data\n",
    "    pipe_gs.fit(X_train, y_train)\n",
    "    \n",
    "    # Cross validation \n",
    "    cv_scores = cross_val_score(pipe_gs, X_train, y_train, cv=5)\n",
    "    \n",
    "    all_scores = {\n",
    "        'cross val mean score':cv_scores.mean(), \n",
    "        'cross val std':cv_scores.std(), \n",
    "        'train score':pipe_gs.score(X_train, y_train),\n",
    "        'test score':pipe_gs.score(X_test, y_test)\n",
    "    }\n",
    "    \n",
    "    # Return pipeline gridsearch and scores \n",
    "    return [pipe_gs, all_scores]"
   ]
  },
  {
   "cell_type": "code",
   "execution_count": 24,
   "id": "6fdb8936-4e8a-4457-8f71-bc1bed9d99c0",
   "metadata": {},
   "outputs": [
    {
     "name": "stdout",
     "output_type": "stream",
     "text": [
      "Fitting 5 folds for each of 3 candidates, totalling 15 fits\n",
      "Fitting 5 folds for each of 3 candidates, totalling 15 fits\n",
      "Fitting 5 folds for each of 3 candidates, totalling 15 fits\n",
      "Fitting 5 folds for each of 3 candidates, totalling 15 fits\n",
      "Fitting 5 folds for each of 3 candidates, totalling 15 fits\n",
      "Fitting 5 folds for each of 3 candidates, totalling 15 fits\n"
     ]
    }
   ],
   "source": [
    "# CountVectorizer and Random Forest model \n",
    "cvec_rf_score = all_model_scores(X, y, cvec, rf, ['cvec', 'rf'])"
   ]
  },
  {
   "cell_type": "code",
   "execution_count": 25,
   "id": "04c2b4ac-f18a-465c-94a9-322da7f7414b",
   "metadata": {},
   "outputs": [
    {
     "name": "stdout",
     "output_type": "stream",
     "text": [
      "Fitting 5 folds for each of 2 candidates, totalling 10 fits\n",
      "Fitting 5 folds for each of 2 candidates, totalling 10 fits\n",
      "Fitting 5 folds for each of 2 candidates, totalling 10 fits\n",
      "Fitting 5 folds for each of 2 candidates, totalling 10 fits\n",
      "Fitting 5 folds for each of 2 candidates, totalling 10 fits\n",
      "Fitting 5 folds for each of 2 candidates, totalling 10 fits\n"
     ]
    }
   ],
   "source": [
    "# CountVectorizer and Naive Bayes model \n",
    "cvec_nb_score = all_model_scores(X, y, cvec, nb, ['cvec', 'nb'])"
   ]
  },
  {
   "cell_type": "code",
   "execution_count": 26,
   "id": "931f34e4-a897-415d-b4ca-1d84dea86579",
   "metadata": {},
   "outputs": [
    {
     "name": "stdout",
     "output_type": "stream",
     "text": [
      "Fitting 5 folds for each of 18 candidates, totalling 90 fits\n",
      "Fitting 5 folds for each of 18 candidates, totalling 90 fits\n",
      "Fitting 5 folds for each of 18 candidates, totalling 90 fits\n",
      "Fitting 5 folds for each of 18 candidates, totalling 90 fits\n",
      "Fitting 5 folds for each of 18 candidates, totalling 90 fits\n",
      "Fitting 5 folds for each of 18 candidates, totalling 90 fits\n"
     ]
    }
   ],
   "source": [
    "# TfidfVectorizer and SVM model \n",
    "tvec_svm_score = all_model_scores(X, y, tvec, svc, ['tvec', 'svc'])"
   ]
  },
  {
   "cell_type": "code",
   "execution_count": 27,
   "id": "8099d44b-087c-4f34-845c-f26b76edb5e5",
   "metadata": {},
   "outputs": [
    {
     "name": "stdout",
     "output_type": "stream",
     "text": [
      "Fitting 5 folds for each of 12 candidates, totalling 60 fits\n",
      "Fitting 5 folds for each of 12 candidates, totalling 60 fits\n",
      "Fitting 5 folds for each of 12 candidates, totalling 60 fits\n",
      "Fitting 5 folds for each of 12 candidates, totalling 60 fits\n",
      "Fitting 5 folds for each of 12 candidates, totalling 60 fits\n",
      "Fitting 5 folds for each of 12 candidates, totalling 60 fits\n"
     ]
    }
   ],
   "source": [
    "# TfidfVectorizer and Logistic Regression\n",
    "tvec_logreg_score = all_model_scores(X, y, tvec, logreg, ['tvec', 'logreg'])"
   ]
  },
  {
   "cell_type": "markdown",
   "id": "66b8f6cc-73b0-402e-aab2-66f5be121e68",
   "metadata": {},
   "source": [
    "### 8.2 Zero Shot Classification Model (Pretrained Model)\n",
    "\n",
    "Let's try the **bart-large-mnli model** which is a pretrained, zero shot classification model from Hugging Face. This model takes in a string/sequence of strings to be classified and labels to classify each string of text as. For example, you could give the model the text 'I want to eat apples' and two labels - 'fruit' or 'vegetable' and the model returns probabilities for each label for the given text e.g. {'fruit' : 80%, 'vegetable' : 20%}. \n",
    "\n",
    "Note: The zero shot model code is commented out because it takes a long time to run and the output has already been saved to a csv file. "
   ]
  },
  {
   "cell_type": "code",
   "execution_count": 32,
   "id": "d150a25a-c1ac-4680-b91b-937195ab6491",
   "metadata": {},
   "outputs": [],
   "source": [
    "# # Problem: After content is cleaned, some rows contain '' (but not NA) which cannot be used by zero shot \n",
    "# # Fix: If content_clean='', replace it with the original post \n",
    "# df['content_clean'] = [cont.strip() if clean_cont=='' else clean_cont for cont, clean_cont in zip(df['content'], df['content_clean'])]\n",
    "# # df.head()"
   ]
  },
  {
   "cell_type": "code",
   "execution_count": 33,
   "id": "bf3f1b72-0845-4b8c-9b94-d5189bca3d25",
   "metadata": {
    "tags": []
   },
   "outputs": [],
   "source": [
    "# # Zero shot model \n",
    "# classifier = pipeline(\"zero-shot-classification\",\n",
    "#                       model=\"facebook/bart-large-mnli\")\n",
    "\n",
    "# # Labels to classify each post as \n",
    "# labels = ['marvel', 'dc']\n",
    "\n",
    "# # Create a new column in df to store the entire output of the model \n",
    "# df['zero_shot_output'] = df['content_clean'].progress_apply(classifier, candidate_labels=labels)"
   ]
  },
  {
   "cell_type": "code",
   "execution_count": 34,
   "id": "cbb57052-5789-4f13-b142-cce05019acdd",
   "metadata": {},
   "outputs": [],
   "source": [
    "# # Write zero shot output to csv (just in case!)\n",
    "# # df.to_csv('./datasets/df_zero_shot.csv')\n",
    "# df = pd.read_csv('./datasets/df_zero_shot.csv')"
   ]
  },
  {
   "cell_type": "code",
   "execution_count": 35,
   "id": "e765e2c8-ad58-43f7-8d65-34a8065630b3",
   "metadata": {},
   "outputs": [],
   "source": [
    "# # Create a new df column that contains the zero shot predicted class \n",
    "# df['zero_shot_predict']=[1 if dictionary['scores'][0]>dictionary['scores'][1] else 0 for dictionary in df['zero_shot_output']]"
   ]
  },
  {
   "cell_type": "code",
   "execution_count": 36,
   "id": "08dc4115-c9a2-4262-b279-8e07aa82ee7b",
   "metadata": {},
   "outputs": [],
   "source": [
    "# # Calculate zero shot accuracy\n",
    "# correct_pred_cnt = sum(df['class']==df['zero_shot_predict'])\n",
    "# correct_pred_cnt/df['class'].count()"
   ]
  },
  {
   "cell_type": "markdown",
   "id": "21bb9ee8-21ee-421e-9b47-9a285bcde43f",
   "metadata": {},
   "source": [
    "Unfortunately, the accuracy score (0.49!) from this zero shot model is no better than our baseline model. Let's do some investigation to find out why by looking at the model predictions that do not match the actual data."
   ]
  },
  {
   "cell_type": "code",
   "execution_count": 37,
   "id": "43581625-1035-4551-ba42-fa6fe8340a38",
   "metadata": {},
   "outputs": [],
   "source": [
    "# # Take a look at the predictions that are wrong\n",
    "# df[df['class']!=df['zero_shot_predict']].head()"
   ]
  },
  {
   "cell_type": "markdown",
   "id": "944da5da-7a60-4704-954c-a989558cb414",
   "metadata": {},
   "source": [
    "For some reason, it seems that posts from the DC subreddit tend to be misclassfiied as Marvel (even when classic DC characters are mentioned in the post). It seems that the model is unable to recognize attribute DC characters to the DC label. This could be because the label 'DC' only has two alphabets and may not be meaningful/recognizable enough. Safe to say, we won't be using this model as our final production model!"
   ]
  },
  {
   "cell_type": "code",
   "execution_count": 38,
   "id": "a27ac86c-1cb6-4c5d-b3e0-40015bb1c8b1",
   "metadata": {
    "jupyter": {
     "source_hidden": true
    },
    "tags": []
   },
   "outputs": [],
   "source": [
    "# # Pipeline\n",
    "# pipe = Pipeline([\n",
    "# ('cvec', cvec), \n",
    "# ('nb', nb)])\n",
    "\n",
    "# # Train/test split\n",
    "# X_train, X_test, y_train, y_test = train_test_split(X, y, random_state=42, stratify=y)\n",
    "\n",
    "# # Fit pipe on training data\n",
    "# pipe.fit(X_train, y_train)\n",
    "\n",
    "# # Predictions \n",
    "# y_pred = pipe.predict(X_test)\n",
    "\n",
    "# # Get the index of test data rows to get the raw (before preprocessing) content\n",
    "# X_test_raw = df['content'][X_test.index.tolist()]\n",
    "\n",
    "# # Create a dataframe for easy comparison\n",
    "# predict_comparison = pd.DataFrame(data={'X_test_raw': X_test_raw,\n",
    "#                                         'X_test':X_test,\n",
    "#                                         'y_test':y_test, \n",
    "#                                         'y_pred':y_pred})\n",
    "\n",
    "# # Find rows where model predictions don't match actual data \n",
    "# mismatched = predict_comparison[predict_comparison['y_test']!=predict_comparison['y_pred']]\n",
    "# mismatched.to_csv('./datasets/nb_model_mismatches.csv')"
   ]
  },
  {
   "cell_type": "markdown",
   "id": "aac86600-bf55-4904-9cd7-b6c3f894fe8e",
   "metadata": {},
   "source": [
    "### 8.3 Choosing and Evaluating the Production Model"
   ]
  },
  {
   "cell_type": "code",
   "execution_count": 39,
   "id": "e8645eea-cbee-4a84-b3e4-71a5210ceda1",
   "metadata": {
    "tags": []
   },
   "outputs": [
    {
     "data": {
      "text/html": [
       "<div>\n",
       "<style scoped>\n",
       "    .dataframe tbody tr th:only-of-type {\n",
       "        vertical-align: middle;\n",
       "    }\n",
       "\n",
       "    .dataframe tbody tr th {\n",
       "        vertical-align: top;\n",
       "    }\n",
       "\n",
       "    .dataframe thead th {\n",
       "        text-align: right;\n",
       "    }\n",
       "</style>\n",
       "<table border=\"1\" class=\"dataframe\">\n",
       "  <thead>\n",
       "    <tr style=\"text-align: right;\">\n",
       "      <th></th>\n",
       "      <th>cross val mean score</th>\n",
       "      <th>cross val std</th>\n",
       "      <th>train score</th>\n",
       "      <th>test score</th>\n",
       "    </tr>\n",
       "  </thead>\n",
       "  <tbody>\n",
       "    <tr>\n",
       "      <th>cvec_rf</th>\n",
       "      <td>0.896212</td>\n",
       "      <td>0.006818</td>\n",
       "      <td>0.995064</td>\n",
       "      <td>0.893157</td>\n",
       "    </tr>\n",
       "    <tr>\n",
       "      <th>cvec_nb</th>\n",
       "      <td>0.901815</td>\n",
       "      <td>0.007441</td>\n",
       "      <td>0.937300</td>\n",
       "      <td>0.911965</td>\n",
       "    </tr>\n",
       "    <tr>\n",
       "      <th>tvec_svm</th>\n",
       "      <td>0.910087</td>\n",
       "      <td>0.005845</td>\n",
       "      <td>0.987860</td>\n",
       "      <td>0.911965</td>\n",
       "    </tr>\n",
       "    <tr>\n",
       "      <th>tvec_logreg</th>\n",
       "      <td>0.906485</td>\n",
       "      <td>0.008478</td>\n",
       "      <td>0.958378</td>\n",
       "      <td>0.904362</td>\n",
       "    </tr>\n",
       "  </tbody>\n",
       "</table>\n",
       "</div>"
      ],
      "text/plain": [
       "             cross val mean score  cross val std  train score  test score\n",
       "cvec_rf                  0.896212       0.006818     0.995064    0.893157\n",
       "cvec_nb                  0.901815       0.007441     0.937300    0.911965\n",
       "tvec_svm                 0.910087       0.005845     0.987860    0.911965\n",
       "tvec_logreg              0.906485       0.008478     0.958378    0.904362"
      ]
     },
     "execution_count": 39,
     "metadata": {},
     "output_type": "execute_result"
    }
   ],
   "source": [
    "pd.DataFrame([cvec_rf_score[1], cvec_nb_score[1], tvec_svm_score[1], tvec_logreg_score[1]], \n",
    "             index=['cvec_rf', 'cvec_nb', 'tvec_svm', 'tvec_logreg'])"
   ]
  },
  {
   "cell_type": "markdown",
   "id": "ee08f2f3-17f1-4d1c-884b-28e9f65a7820",
   "metadata": {},
   "source": [
    "### 8.4 Final Model: Logistic Regression\n",
    "- Based on test scores, the random forest model is eliminated because it has the lowest score\n",
    "- The remaining SVM, Naive Bayes and Logistic Regression models have similar test scores\n",
    "- The SVM model has the highest overfitting (train score higher than test score) so it is eliminated  \n",
    "- The Naive Bayes model has 2 significant disadvantages, especially in the context of our business problem:\n",
    "    - Naive Bayes assumes independence between words which definitely does not apply here \n",
    "        - E.g. A post that talks about the 'batman' movie is likely to mention other relevant keywords/characters like 'robin', 'joker', 'dark knight' etc.\n",
    "    - Feature importance is calculated using the predicted probabilities however these probabilities from the Naive Bayes model are known to be quite unreliable which might affect the accuracy of our final list of features because we need to know the most important features for our business problem, it's not just the accuracy of predictions that matter. \n",
    "- Thus, Logistic Regression is chosen as our final production model! "
   ]
  },
  {
   "cell_type": "markdown",
   "id": "428ed1a1-888b-468b-bbf6-b71e386e7a4b",
   "metadata": {},
   "source": [
    "### 8.4 Interpreting the Final Model "
   ]
  },
  {
   "cell_type": "code",
   "execution_count": 40,
   "id": "bb18ee0c-b294-4f10-84e3-031ea93c793c",
   "metadata": {},
   "outputs": [
    {
     "data": {
      "image/png": "[encoded data removed]",
      "text/plain": [
       "<Figure size 1440x504 with 2 Axes>"
      ]
     },
     "metadata": {
      "needs_background": "light"
     },
     "output_type": "display_data"
    }
   ],
   "source": [
    "# Put the coefficients from pipeline into df \n",
    "coefs = pd.DataFrame(tvec_logreg_score[0].best_estimator_.steps[1][1].coef_).T\n",
    "coefs.columns = ['coef']\n",
    "coefs['feature'] = tvec_logreg_score[0].best_estimator_.steps[0][1].get_feature_names()\n",
    "coefs = coefs[['feature','coef']]\n",
    "coefs = coefs.sort_values('coef', ascending=True)\n",
    "\n",
    "# Get top DC and top marvel features and coefficients\n",
    "top_dc_coefs = coefs.head(15).reset_index(drop=True)\n",
    "top_marvel_coefs = coefs.tail(15).sort_values(by='coef', ascending=False).reset_index(drop=True)\n",
    "\n",
    "fig, axs = plt.subplots(1, 2, figsize=(20,7))\n",
    "axs[0].title.set_text('Top 15 Predictive Features for DC')\n",
    "axs[1].title.set_text('Top 15 Predictive Features for Marvel')\n",
    "sns.barplot(data = top_dc_coefs, x = 'coef',y='feature',ax = axs[0])\n",
    "sns.barplot(data = top_marvel_coefs, x = 'coef',y='feature',ax = axs[1])\n",
    "plt.show()"
   ]
  },
  {
   "cell_type": "markdown",
   "id": "0c9905a2-4c84-47e0-b38d-c080e3f6ec1f",
   "metadata": {},
   "source": [
    "## 9. Sentiment Analysis"
   ]
  },
  {
   "cell_type": "markdown",
   "id": "d200161d-c097-4db4-b69c-250c3ede0a1c",
   "metadata": {},
   "source": [
    "### 9.1 Choosing a sentiment analysis model\n",
    "\n",
    "Let's try the **cardiffnlp/twitter-roberta-base-sentiment** and **finiteautomata/bertweet-base-sentiment-analysis** model which are models trained on huge datasets of tweets from Hugging Face. These models were chosen because they produce positive, neutral and negative labels (some models only produce positive/negative labels). They take in a string/sequence of strings to be classified and classify each string of text as 'POS'/'NEU'/'NEG' along with a score to indicate how positive/neutral/negative the string is. \n",
    "\n",
    "We'll test these 2 models on a human labelled dataset of 300 rows to see which gives us better accuracy and subsequently run the better performing model on our entire datset."
   ]
  },
  {
   "cell_type": "code",
   "execution_count": 41,
   "id": "1941c00d-7fa5-4aac-b285-e07decee10b0",
   "metadata": {},
   "outputs": [],
   "source": [
    "# Let's load 2 sentiment analysis models to compare their accuracy on a human labelled test dataset\n",
    "sent_classifier0 = pipeline(\"sentiment-analysis\", \n",
    "                            model=\"cardiffnlp/twitter-roberta-base-sentiment\",  \n",
    "                            max_length=512, \n",
    "                            truncation=True)\n",
    "\n",
    "sent_classifier = pipeline(\"sentiment-analysis\", \n",
    "                          model=\"finiteautomata/bertweet-base-sentiment-analysis\", \n",
    "                          truncation=True)"
   ]
  },
  {
   "cell_type": "code",
   "execution_count": 42,
   "id": "4dc5d646-54b4-444b-bcde-e0e3f3617429",
   "metadata": {
    "tags": []
   },
   "outputs": [],
   "source": [
    "# Load the human labelled dataset \n",
    "sentiment_test = pd.read_csv('./datasets/manual_sentiment_annotated_data - manual_sentiment_annotated_data.csv')"
   ]
  },
  {
   "cell_type": "code",
   "execution_count": 43,
   "id": "fbc7d065-dffd-468d-887f-450f93e5c753",
   "metadata": {},
   "outputs": [
    {
     "data": {
      "application/vnd.jupyter.widget-view+json": {
       "model_id": "6da4789babce464d93d69cb32826e395",
       "version_major": 2,
       "version_minor": 0
      },
      "text/plain": [
       "  0%|          | 0/300 [00:00<?, ?it/s]"
      ]
     },
     "metadata": {},
     "output_type": "display_data"
    },
    {
     "data": {
      "application/vnd.jupyter.widget-view+json": {
       "model_id": "9b649b0ff44c413b9a954036f2212ee6",
       "version_major": 2,
       "version_minor": 0
      },
      "text/plain": [
       "  0%|          | 0/300 [00:00<?, ?it/s]"
      ]
     },
     "metadata": {},
     "output_type": "display_data"
    }
   ],
   "source": [
    "# Run both sentiment analysis models on the posts \n",
    "sentiment_test['model_output0'] = sentiment_test['post_demojized_only'].progress_apply(sent_classifier0)\n",
    "sentiment_test['model_output'] = sentiment_test['post_demojized_only'].progress_apply(sent_classifier)"
   ]
  },
  {
   "cell_type": "code",
   "execution_count": 44,
   "id": "90688436-4042-424a-a787-fc9367c1efd0",
   "metadata": {},
   "outputs": [],
   "source": [
    "# Put both models' predictions into a new column\n",
    "sentiment_test['model0_label']=[lst[0]['label'] for lst in sentiment_test['model_output0']]\n",
    "sentiment_test['model0_label']=sentiment_test['model0_label'].map({'LABEL_0':'NEG', 'LABEL_1':'NEU', 'LABEL_2':'POS'})\n",
    "sentiment_test['model_label']=[lst[0]['label'] for lst in sentiment_test['model_output']]"
   ]
  },
  {
   "cell_type": "code",
   "execution_count": 45,
   "id": "8a79846f-c0be-436c-894d-2d7bc651d1e2",
   "metadata": {},
   "outputs": [
    {
     "name": "stdout",
     "output_type": "stream",
     "text": [
      "model0 accuracy: 0.7566666666666667\n",
      "model accuracy: 0.7333333333333333\n"
     ]
    }
   ],
   "source": [
    "# Calculate each model's accuracy\n",
    "correct_pred_cnt0 = sum(sentiment_test['manual_sentiment']==sentiment_test['model0_label'])\n",
    "print(f\"model0 accuracy: {correct_pred_cnt0/sentiment_test['manual_sentiment'].count()}\")\n",
    "\n",
    "correct_pred_cnt = sum(sentiment_test['manual_sentiment']==sentiment_test['model_label'])\n",
    "print(f\"model accuracy: {correct_pred_cnt/sentiment_test['manual_sentiment'].count()}\")"
   ]
  },
  {
   "cell_type": "markdown",
   "id": "6551689a-cf08-4867-a418-253cb6e0c244",
   "metadata": {},
   "source": [
    "The **cardiffnlp** model gave us slightly better accuracy so let's proceed with that for the entire dataset."
   ]
  },
  {
   "cell_type": "markdown",
   "id": "bc55dd53-ff89-45c7-84d8-88eabae2a6fd",
   "metadata": {},
   "source": [
    "### 9.2 Running sentiment analysis on our dataset"
   ]
  },
  {
   "cell_type": "code",
   "execution_count": 47,
   "id": "a047354f-44c5-4434-9b9c-6a77d6cc0a9f",
   "metadata": {
    "tags": []
   },
   "outputs": [],
   "source": [
    "# # Create a new column in df to store the entire output of sentiment analysis\n",
    "# df['sentiment_output'] = df['content'].progress_apply(sent_classifier0)"
   ]
  },
  {
   "cell_type": "code",
   "execution_count": 48,
   "id": "41d19fc5-c922-41ef-b2e7-ec4062b14187",
   "metadata": {},
   "outputs": [],
   "source": [
    "# # Create a new df column that contains the labels and scores from sentiment analysis\n",
    "# df['sentiment_label']=[lst[0]['label'] for lst in df['sentiment_output']]\n",
    "# df['sentiment_label']=df['sentiment_label'].map({'LABEL_0':'NEG', 'LABEL_1':'NEU', 'LABEL_2':'POS'})\n",
    "# df['sentiment_score']=[lst[0]['score'] for lst in df['sentiment_output']]"
   ]
  },
  {
   "cell_type": "code",
   "execution_count": 49,
   "id": "54972e1a-b626-44a4-a489-a88869725afe",
   "metadata": {},
   "outputs": [],
   "source": [
    "# Write sentiment analysis output to csv (just in case!)\n",
    "# df.to_csv('./datasets/df_sentiment.csv', index=False)"
   ]
  },
  {
   "cell_type": "code",
   "execution_count": 50,
   "id": "f0b38fa5-a311-4327-a355-e3e708042dd6",
   "metadata": {},
   "outputs": [],
   "source": [
    "df = pd.read_csv('./datasets/df_sentiment.csv')"
   ]
  },
  {
   "cell_type": "code",
   "execution_count": 51,
   "id": "bc36e648-1ea2-49aa-8401-60c2e0839faa",
   "metadata": {},
   "outputs": [],
   "source": [
    "# Drop extra index columns\n",
    "df.drop(labels=['Unnamed: 0.1', 'Unnamed: 0'], axis=1, inplace=True)"
   ]
  },
  {
   "cell_type": "code",
   "execution_count": 52,
   "id": "43c7f0c9-e3f4-42ee-94e2-59bafcd29165",
   "metadata": {
    "tags": []
   },
   "outputs": [
    {
     "data": {
      "text/html": [
       "<div>\n",
       "<style scoped>\n",
       "    .dataframe tbody tr th:only-of-type {\n",
       "        vertical-align: middle;\n",
       "    }\n",
       "\n",
       "    .dataframe tbody tr th {\n",
       "        vertical-align: top;\n",
       "    }\n",
       "\n",
       "    .dataframe thead th {\n",
       "        text-align: right;\n",
       "    }\n",
       "</style>\n",
       "<table border=\"1\" class=\"dataframe\">\n",
       "  <thead>\n",
       "    <tr style=\"text-align: right;\">\n",
       "      <th></th>\n",
       "      <th></th>\n",
       "      <th>subreddit</th>\n",
       "      <th>content</th>\n",
       "      <th>content_clean</th>\n",
       "      <th>zero_shot_output</th>\n",
       "      <th>zero_shot_predict</th>\n",
       "      <th>sentiment_output</th>\n",
       "      <th>sentiment_score</th>\n",
       "    </tr>\n",
       "    <tr>\n",
       "      <th>sentiment_label</th>\n",
       "      <th>class</th>\n",
       "      <th></th>\n",
       "      <th></th>\n",
       "      <th></th>\n",
       "      <th></th>\n",
       "      <th></th>\n",
       "      <th></th>\n",
       "      <th></th>\n",
       "    </tr>\n",
       "  </thead>\n",
       "  <tbody>\n",
       "    <tr>\n",
       "      <th rowspan=\"2\" valign=\"top\">NEG</th>\n",
       "      <th>0</th>\n",
       "      <td>697</td>\n",
       "      <td>697</td>\n",
       "      <td>697</td>\n",
       "      <td>697</td>\n",
       "      <td>697</td>\n",
       "      <td>697</td>\n",
       "      <td>697</td>\n",
       "    </tr>\n",
       "    <tr>\n",
       "      <th>1</th>\n",
       "      <td>690</td>\n",
       "      <td>690</td>\n",
       "      <td>690</td>\n",
       "      <td>690</td>\n",
       "      <td>690</td>\n",
       "      <td>690</td>\n",
       "      <td>690</td>\n",
       "    </tr>\n",
       "    <tr>\n",
       "      <th rowspan=\"2\" valign=\"top\">NEU</th>\n",
       "      <th>0</th>\n",
       "      <td>3373</td>\n",
       "      <td>3373</td>\n",
       "      <td>3373</td>\n",
       "      <td>3373</td>\n",
       "      <td>3373</td>\n",
       "      <td>3373</td>\n",
       "      <td>3373</td>\n",
       "    </tr>\n",
       "    <tr>\n",
       "      <th>1</th>\n",
       "      <td>3328</td>\n",
       "      <td>3328</td>\n",
       "      <td>3328</td>\n",
       "      <td>3328</td>\n",
       "      <td>3328</td>\n",
       "      <td>3328</td>\n",
       "      <td>3328</td>\n",
       "    </tr>\n",
       "    <tr>\n",
       "      <th rowspan=\"2\" valign=\"top\">POS</th>\n",
       "      <th>0</th>\n",
       "      <td>928</td>\n",
       "      <td>928</td>\n",
       "      <td>928</td>\n",
       "      <td>928</td>\n",
       "      <td>928</td>\n",
       "      <td>928</td>\n",
       "      <td>928</td>\n",
       "    </tr>\n",
       "    <tr>\n",
       "      <th>1</th>\n",
       "      <td>979</td>\n",
       "      <td>979</td>\n",
       "      <td>979</td>\n",
       "      <td>979</td>\n",
       "      <td>979</td>\n",
       "      <td>979</td>\n",
       "      <td>979</td>\n",
       "    </tr>\n",
       "  </tbody>\n",
       "</table>\n",
       "</div>"
      ],
      "text/plain": [
       "                       subreddit  content  content_clean  zero_shot_output  \\\n",
       "sentiment_label class                                                        \n",
       "NEG             0            697      697            697               697   \n",
       "                1            690      690            690               690   \n",
       "NEU             0           3373     3373           3373              3373   \n",
       "                1           3328     3328           3328              3328   \n",
       "POS             0            928      928            928               928   \n",
       "                1            979      979            979               979   \n",
       "\n",
       "                       zero_shot_predict  sentiment_output  sentiment_score  \n",
       "sentiment_label class                                                        \n",
       "NEG             0                    697               697              697  \n",
       "                1                    690               690              690  \n",
       "NEU             0                   3373              3373             3373  \n",
       "                1                   3328              3328             3328  \n",
       "POS             0                    928               928              928  \n",
       "                1                    979               979              979  "
      ]
     },
     "execution_count": 52,
     "metadata": {},
     "output_type": "execute_result"
    }
   ],
   "source": [
    "df.groupby(['sentiment_label', 'class']).count()"
   ]
  },
  {
   "cell_type": "code",
   "execution_count": 53,
   "id": "93afd3e2-de0a-4b0b-9d9d-9843fa1b4799",
   "metadata": {},
   "outputs": [
    {
     "data": {
      "image/png": "[encoded data removed]",
      "text/plain": [
       "<Figure size 1440x720 with 2 Axes>"
      ]
     },
     "metadata": {
      "needs_background": "light"
     },
     "output_type": "display_data"
    }
   ],
   "source": [
    "# Instantiate CountVectorizer\n",
    "cvec = CountVectorizer(stop_words=stopwords_lst, ngram_range=(2,2))\n",
    "\n",
    "# Filter for positive content from marvel and dc\n",
    "marv_pos = df['content'][(df['class']==1) & (df['sentiment_label']=='POS')]\n",
    "\n",
    "# Filter for negative content from marvel and dc\n",
    "marv_neg = df['content'][(df['class']==1) & (df['sentiment_label']=='NEG')]\n",
    "\n",
    "# Vectorise and put vectors into dataframe for Marvel\n",
    "marvel_pos_words = cvec.fit_transform(marv_pos) \n",
    "marvel_pos_words_df = pd.DataFrame(marvel_pos_words.toarray(), columns=cvec.get_feature_names_out())\n",
    "marvel_neg_words = cvec.fit_transform(marv_neg) \n",
    "marvel_neg_words_df = pd.DataFrame(marvel_neg_words.toarray(), columns=cvec.get_feature_names_out())\n",
    "\n",
    "# Find top 10 words in both subreddits\n",
    "marv_pos_cnt = pd.DataFrame(marvel_pos_words_df.sum().sort_values(ascending=False).head(10), columns=['count'])\n",
    "marv_neg_cnt = pd.DataFrame(marvel_neg_words_df.sum().sort_values(ascending=False).head(10), columns=['count'])\n",
    "# dc_cnt = pd.DataFrame(dc_pos_words_df.sum().sort_values(ascending=False).head(10), columns=['count'])\n",
    "\n",
    "# Bar plot of top 10 words \n",
    "plt.figure(figsize=(20,10))\n",
    "\n",
    "plt.subplot(1,2,1)\n",
    "sns.barplot(x=marv_pos_cnt['count'], y=marv_pos_cnt.index.tolist(), palette='Reds').set(xlabel=None)\n",
    "plt.title('Top 10 Positive Bigrams in the Marvel Subreddit')\n",
    "\n",
    "plt.subplot(1,2,2)\n",
    "sns.barplot(x=marv_neg_cnt['count'], y=marv_neg_cnt.index.tolist(), palette='Blues').set(xlabel=None)\n",
    "plt.title('Top 10 Negative Bigrams in the Marvel Subreddit')\n",
    "\n",
    "plt.show()"
   ]
  },
  {
   "cell_type": "code",
   "execution_count": 54,
   "id": "038e8957-71fc-406e-a83d-567337c4fd33",
   "metadata": {},
   "outputs": [
    {
     "data": {
      "image/png": "[encoded data removed]",
      "text/plain": [
       "<Figure size 1440x720 with 2 Axes>"
      ]
     },
     "metadata": {
      "needs_background": "light"
     },
     "output_type": "display_data"
    }
   ],
   "source": [
    "# Instantiate CountVectorizer\n",
    "cvec = CountVectorizer(stop_words=stopwords_lst, ngram_range=(2,2))\n",
    "\n",
    "# Filter for positive content from marvel and dc\n",
    "dc_pos = df['content'][(df['class']==0) & (df['sentiment_label']=='POS')]\n",
    "\n",
    "# Filter for negative content from marvel and dc\n",
    "dc_neg = df['content'][(df['class']==0) & (df['sentiment_label']=='NEG')]\n",
    "\n",
    "# Vectorise and put vectors into dataframe for Marvel\n",
    "dc_pos_words = cvec.fit_transform(dc_pos) \n",
    "dc_pos_words_df = pd.DataFrame(dc_pos_words.toarray(), columns=cvec.get_feature_names_out())\n",
    "dc_neg_words = cvec.fit_transform(dc_neg) \n",
    "dc_neg_words_df = pd.DataFrame(dc_neg_words.toarray(), columns=cvec.get_feature_names_out())\n",
    "\n",
    "# # Find top 10 words in both subreddits\n",
    "dc_pos_cnt = pd.DataFrame(dc_pos_words_df.sum().sort_values(ascending=False).head(10), columns=['count'])\n",
    "dc_neg_cnt = pd.DataFrame(dc_neg_words_df.sum().sort_values(ascending=False).head(10), columns=['count'])\n",
    "# dc_cnt = pd.DataFrame(dc_pos_words_df.sum().sort_values(ascending=False).head(10), columns=['count'])\n",
    "\n",
    "# Bar plot of top 10 words \n",
    "plt.figure(figsize=(20,10))\n",
    "\n",
    "plt.subplot(1,2,1)\n",
    "sns.barplot(x=dc_pos_cnt['count'], y=dc_pos_cnt.index.tolist(), palette='Reds').set(xlabel=None)\n",
    "plt.title('Top 10 Positive Bigrams in the DC Subreddit')\n",
    "\n",
    "plt.subplot(1,2,2)\n",
    "sns.barplot(x=dc_neg_cnt['count'], y=dc_neg_cnt.index.tolist(), palette='Blues').set(xlabel=None)\n",
    "plt.title('Top 10 Negative Bigrams in the DC Subreddit')\n",
    "\n",
    "plt.show()"
   ]
  },
  {
   "cell_type": "markdown",
   "id": "07b0f125-16ce-45e4-a90a-91828f757c1b",
   "metadata": {},
   "source": [
    "## 10. Conclusion\n",
    "\n",
    "In conclusion, we've managed to build a model that is able to classify Reddit posts as Marvel/DC content with pretty good accuracy! \n",
    "\n",
    "1. This model can be used to classify data from other non-Reddit sources as Marvel/DC and possible applications include: \n",
    "- Determining popularity/public interest in each brand on other platforms with text data such as Twitter or Facebook in order to do market sizing analysis and estimate revenue potential on potential customers by platform or demographic\n",
    "- Other downstream analysis e.g. sentiment analysis \n",
    "\n",
    "2. Key findings from sentiment analysis include: \n",
    "- Popular characters to develop toys and marketing initivatives for, e.g. \n",
    "    - Marvel: Ms Marvel, Spiderman, Iron Man, Captain America\n",
    "    - DC: Batman, Joker\n",
    "- Key actors/characters to avoid due to negative sentiment \n",
    "    - Although the most popular characters tend to appear under top words with positive AND negative sentiment, some phrases/actors/characters under the negative sentiment lists should be avoided altogether due to legal issues/controversy\n"
   ]
  }
 ],
 "metadata": {
  "kernelspec": {
   "display_name": "Python 3 (ipykernel)",
   "language": "python",
   "name": "python3"
  },
  "language_info": {
   "codemirror_mode": {
    "name": "ipython",
    "version": 3
   },
   "file_extension": ".py",
   "mimetype": "text/x-python",
   "name": "python",
   "nbconvert_exporter": "python",
   "pygments_lexer": "ipython3",
   "version": "3.8.13"
  }
 },
 "nbformat": 4,
 "nbformat_minor": 5
}
